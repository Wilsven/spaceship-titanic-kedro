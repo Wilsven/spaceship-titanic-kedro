{
 "cells": [
  {
   "cell_type": "code",
   "execution_count": 1,
   "metadata": {},
   "outputs": [
    {
     "data": {
      "text/html": [
       "<pre style=\"white-space:pre;overflow-x:auto;line-height:normal;font-family:Menlo,'DejaVu Sans Mono',consolas,'Courier New',monospace\"><span style=\"color: #7fbfbf; text-decoration-color: #7fbfbf\">[03/31/24 11:38:45] </span><span style=\"color: #000080; text-decoration-color: #000080\">INFO    </span> Registered line magic <span style=\"color: #008000; text-decoration-color: #008000\">'%reload_kedro'</span>                                   <a href=\"file:///Users/wilsvenleong/anaconda3/envs/anomaly-detection-pipeline-kedro/lib/python3.11/site-packages/kedro/ipython/__init__.py\" target=\"_blank\"><span style=\"color: #7f7f7f; text-decoration-color: #7f7f7f\">__init__.py</span></a><span style=\"color: #7f7f7f; text-decoration-color: #7f7f7f\">:</span><a href=\"file:///Users/wilsvenleong/anaconda3/envs/anomaly-detection-pipeline-kedro/lib/python3.11/site-packages/kedro/ipython/__init__.py#51\" target=\"_blank\"><span style=\"color: #7f7f7f; text-decoration-color: #7f7f7f\">51</span></a>\n",
       "</pre>\n"
      ],
      "text/plain": [
       "\u001b[2;36m[03/31/24 11:38:45]\u001b[0m\u001b[2;36m \u001b[0m\u001b[34mINFO    \u001b[0m Registered line magic \u001b[32m'%reload_kedro'\u001b[0m                                   \u001b]8;id=760039;file:///Users/wilsvenleong/anaconda3/envs/anomaly-detection-pipeline-kedro/lib/python3.11/site-packages/kedro/ipython/__init__.py\u001b\\\u001b[2m__init__.py\u001b[0m\u001b]8;;\u001b\\\u001b[2m:\u001b[0m\u001b]8;id=161086;file:///Users/wilsvenleong/anaconda3/envs/anomaly-detection-pipeline-kedro/lib/python3.11/site-packages/kedro/ipython/__init__.py#51\u001b\\\u001b[2m51\u001b[0m\u001b]8;;\u001b\\\n"
      ]
     },
     "metadata": {},
     "output_type": "display_data"
    },
    {
     "data": {
      "text/html": [
       "<pre style=\"white-space:pre;overflow-x:auto;line-height:normal;font-family:Menlo,'DejaVu Sans Mono',consolas,'Courier New',monospace\"><span style=\"color: #7fbfbf; text-decoration-color: #7fbfbf\">                    </span><span style=\"color: #000080; text-decoration-color: #000080\">INFO    </span> Registered line magic <span style=\"color: #008000; text-decoration-color: #008000\">'%load_node'</span>                                      <a href=\"file:///Users/wilsvenleong/anaconda3/envs/anomaly-detection-pipeline-kedro/lib/python3.11/site-packages/kedro/ipython/__init__.py\" target=\"_blank\"><span style=\"color: #7f7f7f; text-decoration-color: #7f7f7f\">__init__.py</span></a><span style=\"color: #7f7f7f; text-decoration-color: #7f7f7f\">:</span><a href=\"file:///Users/wilsvenleong/anaconda3/envs/anomaly-detection-pipeline-kedro/lib/python3.11/site-packages/kedro/ipython/__init__.py#53\" target=\"_blank\"><span style=\"color: #7f7f7f; text-decoration-color: #7f7f7f\">53</span></a>\n",
       "</pre>\n"
      ],
      "text/plain": [
       "\u001b[2;36m                   \u001b[0m\u001b[2;36m \u001b[0m\u001b[34mINFO    \u001b[0m Registered line magic \u001b[32m'%load_node'\u001b[0m                                      \u001b]8;id=757874;file:///Users/wilsvenleong/anaconda3/envs/anomaly-detection-pipeline-kedro/lib/python3.11/site-packages/kedro/ipython/__init__.py\u001b\\\u001b[2m__init__.py\u001b[0m\u001b]8;;\u001b\\\u001b[2m:\u001b[0m\u001b]8;id=792838;file:///Users/wilsvenleong/anaconda3/envs/anomaly-detection-pipeline-kedro/lib/python3.11/site-packages/kedro/ipython/__init__.py#53\u001b\\\u001b[2m53\u001b[0m\u001b]8;;\u001b\\\n"
      ]
     },
     "metadata": {},
     "output_type": "display_data"
    },
    {
     "data": {
      "text/html": [
       "<pre style=\"white-space:pre;overflow-x:auto;line-height:normal;font-family:Menlo,'DejaVu Sans Mono',consolas,'Courier New',monospace\"><span style=\"color: #7fbfbf; text-decoration-color: #7fbfbf\">                    </span><span style=\"color: #000080; text-decoration-color: #000080\">INFO    </span> Resolved project path as:                                              <a href=\"file:///Users/wilsvenleong/anaconda3/envs/anomaly-detection-pipeline-kedro/lib/python3.11/site-packages/kedro/ipython/__init__.py\" target=\"_blank\"><span style=\"color: #7f7f7f; text-decoration-color: #7f7f7f\">__init__.py</span></a><span style=\"color: #7f7f7f; text-decoration-color: #7f7f7f\">:</span><a href=\"file:///Users/wilsvenleong/anaconda3/envs/anomaly-detection-pipeline-kedro/lib/python3.11/site-packages/kedro/ipython/__init__.py#164\" target=\"_blank\"><span style=\"color: #7f7f7f; text-decoration-color: #7f7f7f\">164</span></a>\n",
       "<span style=\"color: #7fbfbf; text-decoration-color: #7fbfbf\">                    </span>         <span style=\"color: #800080; text-decoration-color: #800080\">/Users/wilsvenleong/Downloads/learning-materials/</span><span style=\"color: #ff00ff; text-decoration-color: #ff00ff\">spaceship-titanic.</span>    <span style=\"color: #7f7f7f; text-decoration-color: #7f7f7f\">               </span>\n",
       "<span style=\"color: #7fbfbf; text-decoration-color: #7fbfbf\">                    </span>         To set a different path, run <span style=\"color: #008000; text-decoration-color: #008000\">'%reload_kedro &lt;project_root&gt;'</span>            <span style=\"color: #7f7f7f; text-decoration-color: #7f7f7f\">               </span>\n",
       "</pre>\n"
      ],
      "text/plain": [
       "\u001b[2;36m                   \u001b[0m\u001b[2;36m \u001b[0m\u001b[34mINFO    \u001b[0m Resolved project path as:                                              \u001b]8;id=79712;file:///Users/wilsvenleong/anaconda3/envs/anomaly-detection-pipeline-kedro/lib/python3.11/site-packages/kedro/ipython/__init__.py\u001b\\\u001b[2m__init__.py\u001b[0m\u001b]8;;\u001b\\\u001b[2m:\u001b[0m\u001b]8;id=714395;file:///Users/wilsvenleong/anaconda3/envs/anomaly-detection-pipeline-kedro/lib/python3.11/site-packages/kedro/ipython/__init__.py#164\u001b\\\u001b[2m164\u001b[0m\u001b]8;;\u001b\\\n",
       "\u001b[2;36m                    \u001b[0m         \u001b[35m/Users/wilsvenleong/Downloads/learning-materials/\u001b[0m\u001b[95mspaceship-titanic.\u001b[0m    \u001b[2m               \u001b[0m\n",
       "\u001b[2;36m                    \u001b[0m         To set a different path, run \u001b[32m'%reload_kedro \u001b[0m\u001b[32m<\u001b[0m\u001b[32mproject_root\u001b[0m\u001b[32m>\u001b[0m\u001b[32m'\u001b[0m            \u001b[2m               \u001b[0m\n"
      ]
     },
     "metadata": {},
     "output_type": "display_data"
    },
    {
     "data": {
      "text/html": [
       "<pre style=\"white-space:pre;overflow-x:auto;line-height:normal;font-family:Menlo,'DejaVu Sans Mono',consolas,'Courier New',monospace\"><span style=\"color: #7fbfbf; text-decoration-color: #7fbfbf\">[03/31/24 11:38:46] </span><span style=\"color: #000080; text-decoration-color: #000080\">INFO    </span> Kedro project Spaceship Titanic                                        <a href=\"file:///Users/wilsvenleong/anaconda3/envs/anomaly-detection-pipeline-kedro/lib/python3.11/site-packages/kedro/ipython/__init__.py\" target=\"_blank\"><span style=\"color: #7f7f7f; text-decoration-color: #7f7f7f\">__init__.py</span></a><span style=\"color: #7f7f7f; text-decoration-color: #7f7f7f\">:</span><a href=\"file:///Users/wilsvenleong/anaconda3/envs/anomaly-detection-pipeline-kedro/lib/python3.11/site-packages/kedro/ipython/__init__.py#134\" target=\"_blank\"><span style=\"color: #7f7f7f; text-decoration-color: #7f7f7f\">134</span></a>\n",
       "</pre>\n"
      ],
      "text/plain": [
       "\u001b[2;36m[03/31/24 11:38:46]\u001b[0m\u001b[2;36m \u001b[0m\u001b[34mINFO    \u001b[0m Kedro project Spaceship Titanic                                        \u001b]8;id=230184;file:///Users/wilsvenleong/anaconda3/envs/anomaly-detection-pipeline-kedro/lib/python3.11/site-packages/kedro/ipython/__init__.py\u001b\\\u001b[2m__init__.py\u001b[0m\u001b]8;;\u001b\\\u001b[2m:\u001b[0m\u001b]8;id=563112;file:///Users/wilsvenleong/anaconda3/envs/anomaly-detection-pipeline-kedro/lib/python3.11/site-packages/kedro/ipython/__init__.py#134\u001b\\\u001b[2m134\u001b[0m\u001b]8;;\u001b\\\n"
      ]
     },
     "metadata": {},
     "output_type": "display_data"
    },
    {
     "data": {
      "text/html": [
       "<pre style=\"white-space:pre;overflow-x:auto;line-height:normal;font-family:Menlo,'DejaVu Sans Mono',consolas,'Courier New',monospace\"><span style=\"color: #7fbfbf; text-decoration-color: #7fbfbf\">                    </span><span style=\"color: #000080; text-decoration-color: #000080\">INFO    </span> Defined global variable <span style=\"color: #008000; text-decoration-color: #008000\">'context'</span>, <span style=\"color: #008000; text-decoration-color: #008000\">'session'</span>, <span style=\"color: #008000; text-decoration-color: #008000\">'catalog'</span> and            <a href=\"file:///Users/wilsvenleong/anaconda3/envs/anomaly-detection-pipeline-kedro/lib/python3.11/site-packages/kedro/ipython/__init__.py\" target=\"_blank\"><span style=\"color: #7f7f7f; text-decoration-color: #7f7f7f\">__init__.py</span></a><span style=\"color: #7f7f7f; text-decoration-color: #7f7f7f\">:</span><a href=\"file:///Users/wilsvenleong/anaconda3/envs/anomaly-detection-pipeline-kedro/lib/python3.11/site-packages/kedro/ipython/__init__.py#135\" target=\"_blank\"><span style=\"color: #7f7f7f; text-decoration-color: #7f7f7f\">135</span></a>\n",
       "<span style=\"color: #7fbfbf; text-decoration-color: #7fbfbf\">                    </span>         <span style=\"color: #008000; text-decoration-color: #008000\">'pipelines'</span>                                                            <span style=\"color: #7f7f7f; text-decoration-color: #7f7f7f\">               </span>\n",
       "</pre>\n"
      ],
      "text/plain": [
       "\u001b[2;36m                   \u001b[0m\u001b[2;36m \u001b[0m\u001b[34mINFO    \u001b[0m Defined global variable \u001b[32m'context'\u001b[0m, \u001b[32m'session'\u001b[0m, \u001b[32m'catalog'\u001b[0m and            \u001b]8;id=567766;file:///Users/wilsvenleong/anaconda3/envs/anomaly-detection-pipeline-kedro/lib/python3.11/site-packages/kedro/ipython/__init__.py\u001b\\\u001b[2m__init__.py\u001b[0m\u001b]8;;\u001b\\\u001b[2m:\u001b[0m\u001b]8;id=386328;file:///Users/wilsvenleong/anaconda3/envs/anomaly-detection-pipeline-kedro/lib/python3.11/site-packages/kedro/ipython/__init__.py#135\u001b\\\u001b[2m135\u001b[0m\u001b]8;;\u001b\\\n",
       "\u001b[2;36m                    \u001b[0m         \u001b[32m'pipelines'\u001b[0m                                                            \u001b[2m               \u001b[0m\n"
      ]
     },
     "metadata": {},
     "output_type": "display_data"
    },
    {
     "data": {
      "text/html": [
       "<pre style=\"white-space:pre;overflow-x:auto;line-height:normal;font-family:Menlo,'DejaVu Sans Mono',consolas,'Courier New',monospace\"><span style=\"color: #7fbfbf; text-decoration-color: #7fbfbf\">[03/31/24 11:38:47] </span><span style=\"color: #000080; text-decoration-color: #000080\">INFO    </span> Registered line magic <span style=\"color: #008000; text-decoration-color: #008000\">'run_viz'</span>                                        <a href=\"file:///Users/wilsvenleong/anaconda3/envs/anomaly-detection-pipeline-kedro/lib/python3.11/site-packages/kedro/ipython/__init__.py\" target=\"_blank\"><span style=\"color: #7f7f7f; text-decoration-color: #7f7f7f\">__init__.py</span></a><span style=\"color: #7f7f7f; text-decoration-color: #7f7f7f\">:</span><a href=\"file:///Users/wilsvenleong/anaconda3/envs/anomaly-detection-pipeline-kedro/lib/python3.11/site-packages/kedro/ipython/__init__.py#141\" target=\"_blank\"><span style=\"color: #7f7f7f; text-decoration-color: #7f7f7f\">141</span></a>\n",
       "</pre>\n"
      ],
      "text/plain": [
       "\u001b[2;36m[03/31/24 11:38:47]\u001b[0m\u001b[2;36m \u001b[0m\u001b[34mINFO    \u001b[0m Registered line magic \u001b[32m'run_viz'\u001b[0m                                        \u001b]8;id=689188;file:///Users/wilsvenleong/anaconda3/envs/anomaly-detection-pipeline-kedro/lib/python3.11/site-packages/kedro/ipython/__init__.py\u001b\\\u001b[2m__init__.py\u001b[0m\u001b]8;;\u001b\\\u001b[2m:\u001b[0m\u001b]8;id=394572;file:///Users/wilsvenleong/anaconda3/envs/anomaly-detection-pipeline-kedro/lib/python3.11/site-packages/kedro/ipython/__init__.py#141\u001b\\\u001b[2m141\u001b[0m\u001b]8;;\u001b\\\n"
      ]
     },
     "metadata": {},
     "output_type": "display_data"
    }
   ],
   "source": [
    "%load_ext kedro.ipython"
   ]
  },
  {
   "cell_type": "code",
   "execution_count": 2,
   "metadata": {},
   "outputs": [],
   "source": [
    "import pandas as pd\n",
    "import numpy as np\n",
    "\n",
    "pd.set_option(\"display.max_columns\", None)"
   ]
  },
  {
   "cell_type": "code",
   "execution_count": 3,
   "metadata": {},
   "outputs": [
    {
     "data": {
      "text/html": [
       "<pre style=\"white-space:pre;overflow-x:auto;line-height:normal;font-family:Menlo,'DejaVu Sans Mono',consolas,'Courier New',monospace\"><span style=\"color: #7fbfbf; text-decoration-color: #7fbfbf\">[03/31/24 11:38:50] </span><span style=\"color: #000080; text-decoration-color: #000080\">INFO    </span> Loading data from <span style=\"color: #ff8700; text-decoration-color: #ff8700\">train</span> <span style=\"font-weight: bold\">(</span>CSVDataset<span style=\"font-weight: bold\">)</span><span style=\"color: #808000; text-decoration-color: #808000\">...</span>                            <a href=\"file:///Users/wilsvenleong/anaconda3/envs/anomaly-detection-pipeline-kedro/lib/python3.11/site-packages/kedro/io/data_catalog.py\" target=\"_blank\"><span style=\"color: #7f7f7f; text-decoration-color: #7f7f7f\">data_catalog.py</span></a><span style=\"color: #7f7f7f; text-decoration-color: #7f7f7f\">:</span><a href=\"file:///Users/wilsvenleong/anaconda3/envs/anomaly-detection-pipeline-kedro/lib/python3.11/site-packages/kedro/io/data_catalog.py#483\" target=\"_blank\"><span style=\"color: #7f7f7f; text-decoration-color: #7f7f7f\">483</span></a>\n",
       "</pre>\n"
      ],
      "text/plain": [
       "\u001b[2;36m[03/31/24 11:38:50]\u001b[0m\u001b[2;36m \u001b[0m\u001b[34mINFO    \u001b[0m Loading data from \u001b[38;5;208mtrain\u001b[0m \u001b[1m(\u001b[0mCSVDataset\u001b[1m)\u001b[0m\u001b[33m...\u001b[0m                            \u001b]8;id=635025;file:///Users/wilsvenleong/anaconda3/envs/anomaly-detection-pipeline-kedro/lib/python3.11/site-packages/kedro/io/data_catalog.py\u001b\\\u001b[2mdata_catalog.py\u001b[0m\u001b]8;;\u001b\\\u001b[2m:\u001b[0m\u001b]8;id=474343;file:///Users/wilsvenleong/anaconda3/envs/anomaly-detection-pipeline-kedro/lib/python3.11/site-packages/kedro/io/data_catalog.py#483\u001b\\\u001b[2m483\u001b[0m\u001b]8;;\u001b\\\n"
      ]
     },
     "metadata": {},
     "output_type": "display_data"
    },
    {
     "data": {
      "text/html": [
       "<pre style=\"white-space:pre;overflow-x:auto;line-height:normal;font-family:Menlo,'DejaVu Sans Mono',consolas,'Courier New',monospace\"><span style=\"color: #7fbfbf; text-decoration-color: #7fbfbf\">                    </span><span style=\"color: #000080; text-decoration-color: #000080\">INFO    </span> Loading data from <span style=\"color: #ff8700; text-decoration-color: #ff8700\">parameters</span> <span style=\"font-weight: bold\">(</span>MemoryDataset<span style=\"font-weight: bold\">)</span><span style=\"color: #808000; text-decoration-color: #808000\">...</span>                    <a href=\"file:///Users/wilsvenleong/anaconda3/envs/anomaly-detection-pipeline-kedro/lib/python3.11/site-packages/kedro/io/data_catalog.py\" target=\"_blank\"><span style=\"color: #7f7f7f; text-decoration-color: #7f7f7f\">data_catalog.py</span></a><span style=\"color: #7f7f7f; text-decoration-color: #7f7f7f\">:</span><a href=\"file:///Users/wilsvenleong/anaconda3/envs/anomaly-detection-pipeline-kedro/lib/python3.11/site-packages/kedro/io/data_catalog.py#483\" target=\"_blank\"><span style=\"color: #7f7f7f; text-decoration-color: #7f7f7f\">483</span></a>\n",
       "</pre>\n"
      ],
      "text/plain": [
       "\u001b[2;36m                   \u001b[0m\u001b[2;36m \u001b[0m\u001b[34mINFO    \u001b[0m Loading data from \u001b[38;5;208mparameters\u001b[0m \u001b[1m(\u001b[0mMemoryDataset\u001b[1m)\u001b[0m\u001b[33m...\u001b[0m                    \u001b]8;id=95081;file:///Users/wilsvenleong/anaconda3/envs/anomaly-detection-pipeline-kedro/lib/python3.11/site-packages/kedro/io/data_catalog.py\u001b\\\u001b[2mdata_catalog.py\u001b[0m\u001b]8;;\u001b\\\u001b[2m:\u001b[0m\u001b]8;id=242157;file:///Users/wilsvenleong/anaconda3/envs/anomaly-detection-pipeline-kedro/lib/python3.11/site-packages/kedro/io/data_catalog.py#483\u001b\\\u001b[2m483\u001b[0m\u001b]8;;\u001b\\\n"
      ]
     },
     "metadata": {},
     "output_type": "display_data"
    }
   ],
   "source": [
    "train = catalog.load(\"train\")\n",
    "parameters = catalog.load(\"parameters\")\n",
    "\n",
    "id_col = parameters[\"col_maps\"][\"id_col\"]\n",
    "target_col = parameters[\"col_maps\"][\"target_col\"]"
   ]
  },
  {
   "cell_type": "markdown",
   "metadata": {},
   "source": [
    "## Data Processing"
   ]
  },
  {
   "cell_type": "markdown",
   "metadata": {},
   "source": [
    "### Helper"
   ]
  },
  {
   "cell_type": "code",
   "execution_count": 4,
   "metadata": {},
   "outputs": [],
   "source": [
    "def gen_counts_for_cat_feature(\n",
    "    data: pd.DataFrame, cat_col: str, feature_name: str\n",
    ") -> pd.DataFrame:\n",
    "    df_count = data.groupby(cat_col).size().reset_index(name=feature_name)\n",
    "    data = data.merge(df_count, on=[cat_col], how=\"left\")\n",
    "    return data\n",
    "\n",
    "\n",
    "def create_num_features_from_cat_features(input_data: pd.DataFrame) -> pd.DataFrame:\n",
    "\n",
    "    cat_counts_params = {\n",
    "        \"CabinNumber\": {\"FeatureName\": \"PeopleInCabinNumber\"},\n",
    "        \"CabinDeck\": {\"FeatureName\": \"PeopleInCabinDeck\"},\n",
    "        \"LastName\": {\"FeatureName\": \"FamilySize\"},\n",
    "    }\n",
    "\n",
    "    data = input_data.copy()\n",
    "\n",
    "    for col in list(cat_counts_params.keys()):\n",
    "        data = gen_counts_for_cat_feature(\n",
    "            data, col, cat_counts_params[col][\"FeatureName\"]\n",
    "        )\n",
    "    return data"
   ]
  },
  {
   "cell_type": "markdown",
   "metadata": {},
   "source": [
    "### Nodes"
   ]
  },
  {
   "cell_type": "code",
   "execution_count": 5,
   "metadata": {},
   "outputs": [
    {
     "data": {
      "text/html": [
       "<pre style=\"white-space:pre;overflow-x:auto;line-height:normal;font-family:Menlo,'DejaVu Sans Mono',consolas,'Courier New',monospace\"></pre>\n"
      ],
      "text/plain": []
     },
     "metadata": {},
     "output_type": "display_data"
    },
    {
     "data": {
      "text/plain": [
       "\n",
       "\u001b[1m{\u001b[0m\n",
       "    \u001b[32m'col_maps'\u001b[0m: \u001b[1m{\u001b[0m\u001b[32m'id_col'\u001b[0m: \u001b[32m'PassengerId'\u001b[0m, \u001b[32m'target_col'\u001b[0m: \u001b[32m'Transported'\u001b[0m\u001b[1m}\u001b[0m,\n",
       "    \u001b[32m'model_name'\u001b[0m: \u001b[32m'spaceship_titanic_model'\u001b[0m\n",
       "\u001b[1m}\u001b[0m"
      ]
     },
     "execution_count": 5,
     "metadata": {},
     "output_type": "execute_result"
    }
   ],
   "source": [
    "parameters"
   ]
  },
  {
   "cell_type": "code",
   "execution_count": 6,
   "metadata": {},
   "outputs": [],
   "source": [
    "from typing import Any\n",
    "\n",
    "\n",
    "def preprocess_data(\n",
    "    input_data: pd.DataFrame, parameters: dict[str, Any]\n",
    ") -> pd.DataFrame:\n",
    "    processed_data = input_data.copy()\n",
    "    processed_data[[\"CabinDeck\", \"CabinNumber\", \"CabinSide\"]] = processed_data[\n",
    "        \"Cabin\"\n",
    "    ].str.split(\"/\", expand=True)\n",
    "    processed_data[\"LastName\"] = processed_data[\"Name\"].str.split(\" \").str[1]\n",
    "\n",
    "    processed_data = create_num_features_from_cat_features(processed_data)\n",
    "\n",
    "    target_col = parameters[\"col_maps\"][\"target_col\"]\n",
    "    processed_data[target_col] = np.where(processed_data[target_col], 1, 0)\n",
    "    return processed_data"
   ]
  },
  {
   "cell_type": "markdown",
   "metadata": {},
   "source": [
    "### Pipeline"
   ]
  },
  {
   "cell_type": "code",
   "execution_count": 7,
   "metadata": {},
   "outputs": [
    {
     "data": {
      "text/html": [
       "<pre style=\"white-space:pre;overflow-x:auto;line-height:normal;font-family:Menlo,'DejaVu Sans Mono',consolas,'Courier New',monospace\"></pre>\n"
      ],
      "text/plain": []
     },
     "metadata": {},
     "output_type": "display_data"
    },
    {
     "data": {
      "text/html": [
       "<div>\n",
       "<style scoped>\n",
       "    .dataframe tbody tr th:only-of-type {\n",
       "        vertical-align: middle;\n",
       "    }\n",
       "\n",
       "    .dataframe tbody tr th {\n",
       "        vertical-align: top;\n",
       "    }\n",
       "\n",
       "    .dataframe thead th {\n",
       "        text-align: right;\n",
       "    }\n",
       "</style>\n",
       "<table border=\"1\" class=\"dataframe\">\n",
       "  <thead>\n",
       "    <tr style=\"text-align: right;\">\n",
       "      <th></th>\n",
       "      <th>PassengerId</th>\n",
       "      <th>HomePlanet</th>\n",
       "      <th>CryoSleep</th>\n",
       "      <th>Cabin</th>\n",
       "      <th>Destination</th>\n",
       "      <th>Age</th>\n",
       "      <th>VIP</th>\n",
       "      <th>RoomService</th>\n",
       "      <th>FoodCourt</th>\n",
       "      <th>ShoppingMall</th>\n",
       "      <th>Spa</th>\n",
       "      <th>VRDeck</th>\n",
       "      <th>Name</th>\n",
       "      <th>Transported</th>\n",
       "      <th>CabinDeck</th>\n",
       "      <th>CabinNumber</th>\n",
       "      <th>CabinSide</th>\n",
       "      <th>LastName</th>\n",
       "      <th>PeopleInCabinNumber</th>\n",
       "      <th>PeopleInCabinDeck</th>\n",
       "      <th>FamilySize</th>\n",
       "    </tr>\n",
       "  </thead>\n",
       "  <tbody>\n",
       "    <tr>\n",
       "      <th>0</th>\n",
       "      <td>0001_01</td>\n",
       "      <td>Europa</td>\n",
       "      <td>False</td>\n",
       "      <td>B/0/P</td>\n",
       "      <td>TRAPPIST-1e</td>\n",
       "      <td>39.0</td>\n",
       "      <td>False</td>\n",
       "      <td>0.0</td>\n",
       "      <td>0.0</td>\n",
       "      <td>0.0</td>\n",
       "      <td>0.0</td>\n",
       "      <td>0.0</td>\n",
       "      <td>Maham Ofracculy</td>\n",
       "      <td>0</td>\n",
       "      <td>B</td>\n",
       "      <td>0</td>\n",
       "      <td>P</td>\n",
       "      <td>Ofracculy</td>\n",
       "      <td>18.0</td>\n",
       "      <td>779.0</td>\n",
       "      <td>1.0</td>\n",
       "    </tr>\n",
       "    <tr>\n",
       "      <th>1</th>\n",
       "      <td>0002_01</td>\n",
       "      <td>Earth</td>\n",
       "      <td>False</td>\n",
       "      <td>F/0/S</td>\n",
       "      <td>TRAPPIST-1e</td>\n",
       "      <td>24.0</td>\n",
       "      <td>False</td>\n",
       "      <td>109.0</td>\n",
       "      <td>9.0</td>\n",
       "      <td>25.0</td>\n",
       "      <td>549.0</td>\n",
       "      <td>44.0</td>\n",
       "      <td>Juanna Vines</td>\n",
       "      <td>1</td>\n",
       "      <td>F</td>\n",
       "      <td>0</td>\n",
       "      <td>S</td>\n",
       "      <td>Vines</td>\n",
       "      <td>18.0</td>\n",
       "      <td>2794.0</td>\n",
       "      <td>4.0</td>\n",
       "    </tr>\n",
       "    <tr>\n",
       "      <th>2</th>\n",
       "      <td>0003_01</td>\n",
       "      <td>Europa</td>\n",
       "      <td>False</td>\n",
       "      <td>A/0/S</td>\n",
       "      <td>TRAPPIST-1e</td>\n",
       "      <td>58.0</td>\n",
       "      <td>True</td>\n",
       "      <td>43.0</td>\n",
       "      <td>3576.0</td>\n",
       "      <td>0.0</td>\n",
       "      <td>6715.0</td>\n",
       "      <td>49.0</td>\n",
       "      <td>Altark Susent</td>\n",
       "      <td>0</td>\n",
       "      <td>A</td>\n",
       "      <td>0</td>\n",
       "      <td>S</td>\n",
       "      <td>Susent</td>\n",
       "      <td>18.0</td>\n",
       "      <td>256.0</td>\n",
       "      <td>6.0</td>\n",
       "    </tr>\n",
       "    <tr>\n",
       "      <th>3</th>\n",
       "      <td>0003_02</td>\n",
       "      <td>Europa</td>\n",
       "      <td>False</td>\n",
       "      <td>A/0/S</td>\n",
       "      <td>TRAPPIST-1e</td>\n",
       "      <td>33.0</td>\n",
       "      <td>False</td>\n",
       "      <td>0.0</td>\n",
       "      <td>1283.0</td>\n",
       "      <td>371.0</td>\n",
       "      <td>3329.0</td>\n",
       "      <td>193.0</td>\n",
       "      <td>Solam Susent</td>\n",
       "      <td>0</td>\n",
       "      <td>A</td>\n",
       "      <td>0</td>\n",
       "      <td>S</td>\n",
       "      <td>Susent</td>\n",
       "      <td>18.0</td>\n",
       "      <td>256.0</td>\n",
       "      <td>6.0</td>\n",
       "    </tr>\n",
       "    <tr>\n",
       "      <th>4</th>\n",
       "      <td>0004_01</td>\n",
       "      <td>Earth</td>\n",
       "      <td>False</td>\n",
       "      <td>F/1/S</td>\n",
       "      <td>TRAPPIST-1e</td>\n",
       "      <td>16.0</td>\n",
       "      <td>False</td>\n",
       "      <td>303.0</td>\n",
       "      <td>70.0</td>\n",
       "      <td>151.0</td>\n",
       "      <td>565.0</td>\n",
       "      <td>2.0</td>\n",
       "      <td>Willy Santantines</td>\n",
       "      <td>1</td>\n",
       "      <td>F</td>\n",
       "      <td>1</td>\n",
       "      <td>S</td>\n",
       "      <td>Santantines</td>\n",
       "      <td>15.0</td>\n",
       "      <td>2794.0</td>\n",
       "      <td>6.0</td>\n",
       "    </tr>\n",
       "    <tr>\n",
       "      <th>...</th>\n",
       "      <td>...</td>\n",
       "      <td>...</td>\n",
       "      <td>...</td>\n",
       "      <td>...</td>\n",
       "      <td>...</td>\n",
       "      <td>...</td>\n",
       "      <td>...</td>\n",
       "      <td>...</td>\n",
       "      <td>...</td>\n",
       "      <td>...</td>\n",
       "      <td>...</td>\n",
       "      <td>...</td>\n",
       "      <td>...</td>\n",
       "      <td>...</td>\n",
       "      <td>...</td>\n",
       "      <td>...</td>\n",
       "      <td>...</td>\n",
       "      <td>...</td>\n",
       "      <td>...</td>\n",
       "      <td>...</td>\n",
       "      <td>...</td>\n",
       "    </tr>\n",
       "    <tr>\n",
       "      <th>8688</th>\n",
       "      <td>9276_01</td>\n",
       "      <td>Europa</td>\n",
       "      <td>False</td>\n",
       "      <td>A/98/P</td>\n",
       "      <td>55 Cancri e</td>\n",
       "      <td>41.0</td>\n",
       "      <td>True</td>\n",
       "      <td>0.0</td>\n",
       "      <td>6819.0</td>\n",
       "      <td>0.0</td>\n",
       "      <td>1643.0</td>\n",
       "      <td>74.0</td>\n",
       "      <td>Gravior Noxnuther</td>\n",
       "      <td>0</td>\n",
       "      <td>A</td>\n",
       "      <td>98</td>\n",
       "      <td>P</td>\n",
       "      <td>Noxnuther</td>\n",
       "      <td>11.0</td>\n",
       "      <td>256.0</td>\n",
       "      <td>3.0</td>\n",
       "    </tr>\n",
       "    <tr>\n",
       "      <th>8689</th>\n",
       "      <td>9278_01</td>\n",
       "      <td>Earth</td>\n",
       "      <td>True</td>\n",
       "      <td>G/1499/S</td>\n",
       "      <td>PSO J318.5-22</td>\n",
       "      <td>18.0</td>\n",
       "      <td>False</td>\n",
       "      <td>0.0</td>\n",
       "      <td>0.0</td>\n",
       "      <td>0.0</td>\n",
       "      <td>0.0</td>\n",
       "      <td>0.0</td>\n",
       "      <td>Kurta Mondalley</td>\n",
       "      <td>0</td>\n",
       "      <td>G</td>\n",
       "      <td>1499</td>\n",
       "      <td>S</td>\n",
       "      <td>Mondalley</td>\n",
       "      <td>2.0</td>\n",
       "      <td>2559.0</td>\n",
       "      <td>2.0</td>\n",
       "    </tr>\n",
       "    <tr>\n",
       "      <th>8690</th>\n",
       "      <td>9279_01</td>\n",
       "      <td>Earth</td>\n",
       "      <td>False</td>\n",
       "      <td>G/1500/S</td>\n",
       "      <td>TRAPPIST-1e</td>\n",
       "      <td>26.0</td>\n",
       "      <td>False</td>\n",
       "      <td>0.0</td>\n",
       "      <td>0.0</td>\n",
       "      <td>1872.0</td>\n",
       "      <td>1.0</td>\n",
       "      <td>0.0</td>\n",
       "      <td>Fayey Connon</td>\n",
       "      <td>1</td>\n",
       "      <td>G</td>\n",
       "      <td>1500</td>\n",
       "      <td>S</td>\n",
       "      <td>Connon</td>\n",
       "      <td>3.0</td>\n",
       "      <td>2559.0</td>\n",
       "      <td>6.0</td>\n",
       "    </tr>\n",
       "    <tr>\n",
       "      <th>8691</th>\n",
       "      <td>9280_01</td>\n",
       "      <td>Europa</td>\n",
       "      <td>False</td>\n",
       "      <td>E/608/S</td>\n",
       "      <td>55 Cancri e</td>\n",
       "      <td>32.0</td>\n",
       "      <td>False</td>\n",
       "      <td>0.0</td>\n",
       "      <td>1049.0</td>\n",
       "      <td>0.0</td>\n",
       "      <td>353.0</td>\n",
       "      <td>3235.0</td>\n",
       "      <td>Celeon Hontichre</td>\n",
       "      <td>0</td>\n",
       "      <td>E</td>\n",
       "      <td>608</td>\n",
       "      <td>S</td>\n",
       "      <td>Hontichre</td>\n",
       "      <td>3.0</td>\n",
       "      <td>876.0</td>\n",
       "      <td>6.0</td>\n",
       "    </tr>\n",
       "    <tr>\n",
       "      <th>8692</th>\n",
       "      <td>9280_02</td>\n",
       "      <td>Europa</td>\n",
       "      <td>False</td>\n",
       "      <td>E/608/S</td>\n",
       "      <td>TRAPPIST-1e</td>\n",
       "      <td>44.0</td>\n",
       "      <td>False</td>\n",
       "      <td>126.0</td>\n",
       "      <td>4688.0</td>\n",
       "      <td>0.0</td>\n",
       "      <td>0.0</td>\n",
       "      <td>12.0</td>\n",
       "      <td>Propsh Hontichre</td>\n",
       "      <td>1</td>\n",
       "      <td>E</td>\n",
       "      <td>608</td>\n",
       "      <td>S</td>\n",
       "      <td>Hontichre</td>\n",
       "      <td>3.0</td>\n",
       "      <td>876.0</td>\n",
       "      <td>6.0</td>\n",
       "    </tr>\n",
       "  </tbody>\n",
       "</table>\n",
       "<p>8693 rows × 21 columns</p>\n",
       "</div>"
      ],
      "text/plain": [
       "\n",
       "     PassengerId HomePlanet CryoSleep     Cabin    Destination   Age    VIP  \\\n",
       "\u001b[1;36m0\u001b[0m        0001_01     Europa     \u001b[3;91mFalse\u001b[0m     B/\u001b[1;36m0\u001b[0m/P    TRAPPIST-1e  \u001b[1;36m39.0\u001b[0m  \u001b[3;91mFalse\u001b[0m   \n",
       "\u001b[1;36m1\u001b[0m        0002_01      Earth     \u001b[3;91mFalse\u001b[0m     F/\u001b[1;36m0\u001b[0m/S    TRAPPIST-1e  \u001b[1;36m24.0\u001b[0m  \u001b[3;91mFalse\u001b[0m   \n",
       "\u001b[1;36m2\u001b[0m        0003_01     Europa     \u001b[3;91mFalse\u001b[0m     A/\u001b[1;36m0\u001b[0m/S    TRAPPIST-1e  \u001b[1;36m58.0\u001b[0m   \u001b[3;92mTrue\u001b[0m   \n",
       "\u001b[1;36m3\u001b[0m        0003_02     Europa     \u001b[3;91mFalse\u001b[0m     A/\u001b[1;36m0\u001b[0m/S    TRAPPIST-1e  \u001b[1;36m33.0\u001b[0m  \u001b[3;91mFalse\u001b[0m   \n",
       "\u001b[1;36m4\u001b[0m        0004_01      Earth     \u001b[3;91mFalse\u001b[0m     F/\u001b[1;36m1\u001b[0m/S    TRAPPIST-1e  \u001b[1;36m16.0\u001b[0m  \u001b[3;91mFalse\u001b[0m   \n",
       "\u001b[33m...\u001b[0m          \u001b[33m...\u001b[0m        \u001b[33m...\u001b[0m       \u001b[33m...\u001b[0m       \u001b[33m...\u001b[0m            \u001b[33m...\u001b[0m   \u001b[33m...\u001b[0m    \u001b[33m...\u001b[0m   \n",
       "\u001b[1;36m8688\u001b[0m     9276_01     Europa     \u001b[3;91mFalse\u001b[0m    A/\u001b[1;36m98\u001b[0m/P    \u001b[1;36m55\u001b[0m Cancri e  \u001b[1;36m41.0\u001b[0m   \u001b[3;92mTrue\u001b[0m   \n",
       "\u001b[1;36m8689\u001b[0m     9278_01      Earth      \u001b[3;92mTrue\u001b[0m  G/\u001b[1;36m1499\u001b[0m/S  PSO J318.\u001b[1;36m5\u001b[0m-\u001b[1;36m22\u001b[0m  \u001b[1;36m18.0\u001b[0m  \u001b[3;91mFalse\u001b[0m   \n",
       "\u001b[1;36m8690\u001b[0m     9279_01      Earth     \u001b[3;91mFalse\u001b[0m  G/\u001b[1;36m1500\u001b[0m/S    TRAPPIST-1e  \u001b[1;36m26.0\u001b[0m  \u001b[3;91mFalse\u001b[0m   \n",
       "\u001b[1;36m8691\u001b[0m     9280_01     Europa     \u001b[3;91mFalse\u001b[0m   E/\u001b[1;36m608\u001b[0m/S    \u001b[1;36m55\u001b[0m Cancri e  \u001b[1;36m32.0\u001b[0m  \u001b[3;91mFalse\u001b[0m   \n",
       "\u001b[1;36m8692\u001b[0m     9280_02     Europa     \u001b[3;91mFalse\u001b[0m   E/\u001b[1;36m608\u001b[0m/S    TRAPPIST-1e  \u001b[1;36m44.0\u001b[0m  \u001b[3;91mFalse\u001b[0m   \n",
       "\n",
       "      RoomService  FoodCourt  ShoppingMall     Spa  VRDeck               Name  \\\n",
       "\u001b[1;36m0\u001b[0m             \u001b[1;36m0.0\u001b[0m        \u001b[1;36m0.0\u001b[0m           \u001b[1;36m0.0\u001b[0m     \u001b[1;36m0.0\u001b[0m     \u001b[1;36m0.0\u001b[0m    Maham Ofracculy   \n",
       "\u001b[1;36m1\u001b[0m           \u001b[1;36m109.0\u001b[0m        \u001b[1;36m9.0\u001b[0m          \u001b[1;36m25.0\u001b[0m   \u001b[1;36m549.0\u001b[0m    \u001b[1;36m44.0\u001b[0m       Juanna Vines   \n",
       "\u001b[1;36m2\u001b[0m            \u001b[1;36m43.0\u001b[0m     \u001b[1;36m3576.0\u001b[0m           \u001b[1;36m0.0\u001b[0m  \u001b[1;36m6715.0\u001b[0m    \u001b[1;36m49.0\u001b[0m      Altark Susent   \n",
       "\u001b[1;36m3\u001b[0m             \u001b[1;36m0.0\u001b[0m     \u001b[1;36m1283.0\u001b[0m         \u001b[1;36m371.0\u001b[0m  \u001b[1;36m3329.0\u001b[0m   \u001b[1;36m193.0\u001b[0m       Solam Susent   \n",
       "\u001b[1;36m4\u001b[0m           \u001b[1;36m303.0\u001b[0m       \u001b[1;36m70.0\u001b[0m         \u001b[1;36m151.0\u001b[0m   \u001b[1;36m565.0\u001b[0m     \u001b[1;36m2.0\u001b[0m  Willy Santantines   \n",
       "\u001b[33m...\u001b[0m           \u001b[33m...\u001b[0m        \u001b[33m...\u001b[0m           \u001b[33m...\u001b[0m     \u001b[33m...\u001b[0m     \u001b[33m...\u001b[0m                \u001b[33m...\u001b[0m   \n",
       "\u001b[1;36m8688\u001b[0m          \u001b[1;36m0.0\u001b[0m     \u001b[1;36m6819.0\u001b[0m           \u001b[1;36m0.0\u001b[0m  \u001b[1;36m1643.0\u001b[0m    \u001b[1;36m74.0\u001b[0m  Gravior Noxnuther   \n",
       "\u001b[1;36m8689\u001b[0m          \u001b[1;36m0.0\u001b[0m        \u001b[1;36m0.0\u001b[0m           \u001b[1;36m0.0\u001b[0m     \u001b[1;36m0.0\u001b[0m     \u001b[1;36m0.0\u001b[0m    Kurta Mondalley   \n",
       "\u001b[1;36m8690\u001b[0m          \u001b[1;36m0.0\u001b[0m        \u001b[1;36m0.0\u001b[0m        \u001b[1;36m1872.0\u001b[0m     \u001b[1;36m1.0\u001b[0m     \u001b[1;36m0.0\u001b[0m       Fayey Connon   \n",
       "\u001b[1;36m8691\u001b[0m          \u001b[1;36m0.0\u001b[0m     \u001b[1;36m1049.0\u001b[0m           \u001b[1;36m0.0\u001b[0m   \u001b[1;36m353.0\u001b[0m  \u001b[1;36m3235.0\u001b[0m   Celeon Hontichre   \n",
       "\u001b[1;36m8692\u001b[0m        \u001b[1;36m126.0\u001b[0m     \u001b[1;36m4688.0\u001b[0m           \u001b[1;36m0.0\u001b[0m     \u001b[1;36m0.0\u001b[0m    \u001b[1;36m12.0\u001b[0m   Propsh Hontichre   \n",
       "\n",
       "      Transported CabinDeck CabinNumber CabinSide     LastName  \\\n",
       "\u001b[1;36m0\u001b[0m               \u001b[1;36m0\u001b[0m         B           \u001b[1;36m0\u001b[0m         P    Ofracculy   \n",
       "\u001b[1;36m1\u001b[0m               \u001b[1;36m1\u001b[0m         F           \u001b[1;36m0\u001b[0m         S        Vines   \n",
       "\u001b[1;36m2\u001b[0m               \u001b[1;36m0\u001b[0m         A           \u001b[1;36m0\u001b[0m         S       Susent   \n",
       "\u001b[1;36m3\u001b[0m               \u001b[1;36m0\u001b[0m         A           \u001b[1;36m0\u001b[0m         S       Susent   \n",
       "\u001b[1;36m4\u001b[0m               \u001b[1;36m1\u001b[0m         F           \u001b[1;36m1\u001b[0m         S  Santantines   \n",
       "\u001b[33m...\u001b[0m           \u001b[33m...\u001b[0m       \u001b[33m...\u001b[0m         \u001b[33m...\u001b[0m       \u001b[33m...\u001b[0m          \u001b[33m...\u001b[0m   \n",
       "\u001b[1;36m8688\u001b[0m            \u001b[1;36m0\u001b[0m         A          \u001b[1;36m98\u001b[0m         P    Noxnuther   \n",
       "\u001b[1;36m8689\u001b[0m            \u001b[1;36m0\u001b[0m         G        \u001b[1;36m1499\u001b[0m         S    Mondalley   \n",
       "\u001b[1;36m8690\u001b[0m            \u001b[1;36m1\u001b[0m         G        \u001b[1;36m1500\u001b[0m         S       Connon   \n",
       "\u001b[1;36m8691\u001b[0m            \u001b[1;36m0\u001b[0m         E         \u001b[1;36m608\u001b[0m         S    Hontichre   \n",
       "\u001b[1;36m8692\u001b[0m            \u001b[1;36m1\u001b[0m         E         \u001b[1;36m608\u001b[0m         S    Hontichre   \n",
       "\n",
       "      PeopleInCabinNumber  PeopleInCabinDeck  FamilySize  \n",
       "\u001b[1;36m0\u001b[0m                    \u001b[1;36m18.0\u001b[0m              \u001b[1;36m779.0\u001b[0m         \u001b[1;36m1.0\u001b[0m  \n",
       "\u001b[1;36m1\u001b[0m                    \u001b[1;36m18.0\u001b[0m             \u001b[1;36m2794.0\u001b[0m         \u001b[1;36m4.0\u001b[0m  \n",
       "\u001b[1;36m2\u001b[0m                    \u001b[1;36m18.0\u001b[0m              \u001b[1;36m256.0\u001b[0m         \u001b[1;36m6.0\u001b[0m  \n",
       "\u001b[1;36m3\u001b[0m                    \u001b[1;36m18.0\u001b[0m              \u001b[1;36m256.0\u001b[0m         \u001b[1;36m6.0\u001b[0m  \n",
       "\u001b[1;36m4\u001b[0m                    \u001b[1;36m15.0\u001b[0m             \u001b[1;36m2794.0\u001b[0m         \u001b[1;36m6.0\u001b[0m  \n",
       "\u001b[33m...\u001b[0m                   \u001b[33m...\u001b[0m                \u001b[33m...\u001b[0m         \u001b[33m...\u001b[0m  \n",
       "\u001b[1;36m8688\u001b[0m                 \u001b[1;36m11.0\u001b[0m              \u001b[1;36m256.0\u001b[0m         \u001b[1;36m3.0\u001b[0m  \n",
       "\u001b[1;36m8689\u001b[0m                  \u001b[1;36m2.0\u001b[0m             \u001b[1;36m2559.0\u001b[0m         \u001b[1;36m2.0\u001b[0m  \n",
       "\u001b[1;36m8690\u001b[0m                  \u001b[1;36m3.0\u001b[0m             \u001b[1;36m2559.0\u001b[0m         \u001b[1;36m6.0\u001b[0m  \n",
       "\u001b[1;36m8691\u001b[0m                  \u001b[1;36m3.0\u001b[0m              \u001b[1;36m876.0\u001b[0m         \u001b[1;36m6.0\u001b[0m  \n",
       "\u001b[1;36m8692\u001b[0m                  \u001b[1;36m3.0\u001b[0m              \u001b[1;36m876.0\u001b[0m         \u001b[1;36m6.0\u001b[0m  \n",
       "\n",
       "\u001b[1m[\u001b[0m\u001b[1;36m8693\u001b[0m rows x \u001b[1;36m21\u001b[0m columns\u001b[1m]\u001b[0m"
      ]
     },
     "execution_count": 7,
     "metadata": {},
     "output_type": "execute_result"
    }
   ],
   "source": [
    "preprocess_data(train, parameters)"
   ]
  },
  {
   "cell_type": "code",
   "execution_count": null,
   "metadata": {},
   "outputs": [],
   "source": []
  }
 ],
 "metadata": {
  "kernelspec": {
   "display_name": "anomaly-detection-pipeline-kedro",
   "language": "python",
   "name": "python3"
  },
  "language_info": {
   "codemirror_mode": {
    "name": "ipython",
    "version": 3
   },
   "file_extension": ".py",
   "mimetype": "text/x-python",
   "name": "python",
   "nbconvert_exporter": "python",
   "pygments_lexer": "ipython3",
   "version": "3.11.8"
  }
 },
 "nbformat": 4,
 "nbformat_minor": 2
}
