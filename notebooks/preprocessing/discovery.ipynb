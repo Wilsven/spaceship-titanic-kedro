{
 "cells": [
  {
   "cell_type": "code",
   "execution_count": 1,
   "metadata": {},
   "outputs": [
    {
     "data": {
      "text/html": [
       "<pre style=\"white-space:pre;overflow-x:auto;line-height:normal;font-family:Menlo,'DejaVu Sans Mono',consolas,'Courier New',monospace\"><span style=\"color: #7fbfbf; text-decoration-color: #7fbfbf\">[03/31/24 13:17:02] </span><span style=\"color: #000080; text-decoration-color: #000080\">INFO    </span> Registered line magic <span style=\"color: #008000; text-decoration-color: #008000\">'%reload_kedro'</span>                                   <a href=\"file:///Users/wilsvenleong/anaconda3/envs/anomaly-detection-pipeline-kedro/lib/python3.11/site-packages/kedro/ipython/__init__.py\" target=\"_blank\"><span style=\"color: #7f7f7f; text-decoration-color: #7f7f7f\">__init__.py</span></a><span style=\"color: #7f7f7f; text-decoration-color: #7f7f7f\">:</span><a href=\"file:///Users/wilsvenleong/anaconda3/envs/anomaly-detection-pipeline-kedro/lib/python3.11/site-packages/kedro/ipython/__init__.py#51\" target=\"_blank\"><span style=\"color: #7f7f7f; text-decoration-color: #7f7f7f\">51</span></a>\n",
       "</pre>\n"
      ],
      "text/plain": [
       "\u001b[2;36m[03/31/24 13:17:02]\u001b[0m\u001b[2;36m \u001b[0m\u001b[34mINFO    \u001b[0m Registered line magic \u001b[32m'%reload_kedro'\u001b[0m                                   \u001b]8;id=824133;file:///Users/wilsvenleong/anaconda3/envs/anomaly-detection-pipeline-kedro/lib/python3.11/site-packages/kedro/ipython/__init__.py\u001b\\\u001b[2m__init__.py\u001b[0m\u001b]8;;\u001b\\\u001b[2m:\u001b[0m\u001b]8;id=641664;file:///Users/wilsvenleong/anaconda3/envs/anomaly-detection-pipeline-kedro/lib/python3.11/site-packages/kedro/ipython/__init__.py#51\u001b\\\u001b[2m51\u001b[0m\u001b]8;;\u001b\\\n"
      ]
     },
     "metadata": {},
     "output_type": "display_data"
    },
    {
     "data": {
      "text/html": [
       "<pre style=\"white-space:pre;overflow-x:auto;line-height:normal;font-family:Menlo,'DejaVu Sans Mono',consolas,'Courier New',monospace\"><span style=\"color: #7fbfbf; text-decoration-color: #7fbfbf\">                    </span><span style=\"color: #000080; text-decoration-color: #000080\">INFO    </span> Registered line magic <span style=\"color: #008000; text-decoration-color: #008000\">'%load_node'</span>                                      <a href=\"file:///Users/wilsvenleong/anaconda3/envs/anomaly-detection-pipeline-kedro/lib/python3.11/site-packages/kedro/ipython/__init__.py\" target=\"_blank\"><span style=\"color: #7f7f7f; text-decoration-color: #7f7f7f\">__init__.py</span></a><span style=\"color: #7f7f7f; text-decoration-color: #7f7f7f\">:</span><a href=\"file:///Users/wilsvenleong/anaconda3/envs/anomaly-detection-pipeline-kedro/lib/python3.11/site-packages/kedro/ipython/__init__.py#53\" target=\"_blank\"><span style=\"color: #7f7f7f; text-decoration-color: #7f7f7f\">53</span></a>\n",
       "</pre>\n"
      ],
      "text/plain": [
       "\u001b[2;36m                   \u001b[0m\u001b[2;36m \u001b[0m\u001b[34mINFO    \u001b[0m Registered line magic \u001b[32m'%load_node'\u001b[0m                                      \u001b]8;id=124506;file:///Users/wilsvenleong/anaconda3/envs/anomaly-detection-pipeline-kedro/lib/python3.11/site-packages/kedro/ipython/__init__.py\u001b\\\u001b[2m__init__.py\u001b[0m\u001b]8;;\u001b\\\u001b[2m:\u001b[0m\u001b]8;id=53665;file:///Users/wilsvenleong/anaconda3/envs/anomaly-detection-pipeline-kedro/lib/python3.11/site-packages/kedro/ipython/__init__.py#53\u001b\\\u001b[2m53\u001b[0m\u001b]8;;\u001b\\\n"
      ]
     },
     "metadata": {},
     "output_type": "display_data"
    },
    {
     "data": {
      "text/html": [
       "<pre style=\"white-space:pre;overflow-x:auto;line-height:normal;font-family:Menlo,'DejaVu Sans Mono',consolas,'Courier New',monospace\"><span style=\"color: #7fbfbf; text-decoration-color: #7fbfbf\">                    </span><span style=\"color: #000080; text-decoration-color: #000080\">INFO    </span> Resolved project path as:                                              <a href=\"file:///Users/wilsvenleong/anaconda3/envs/anomaly-detection-pipeline-kedro/lib/python3.11/site-packages/kedro/ipython/__init__.py\" target=\"_blank\"><span style=\"color: #7f7f7f; text-decoration-color: #7f7f7f\">__init__.py</span></a><span style=\"color: #7f7f7f; text-decoration-color: #7f7f7f\">:</span><a href=\"file:///Users/wilsvenleong/anaconda3/envs/anomaly-detection-pipeline-kedro/lib/python3.11/site-packages/kedro/ipython/__init__.py#164\" target=\"_blank\"><span style=\"color: #7f7f7f; text-decoration-color: #7f7f7f\">164</span></a>\n",
       "<span style=\"color: #7fbfbf; text-decoration-color: #7fbfbf\">                    </span>         <span style=\"color: #800080; text-decoration-color: #800080\">/Users/wilsvenleong/Downloads/learning-materials/</span><span style=\"color: #ff00ff; text-decoration-color: #ff00ff\">spaceship-titanic.</span>    <span style=\"color: #7f7f7f; text-decoration-color: #7f7f7f\">               </span>\n",
       "<span style=\"color: #7fbfbf; text-decoration-color: #7fbfbf\">                    </span>         To set a different path, run <span style=\"color: #008000; text-decoration-color: #008000\">'%reload_kedro &lt;project_root&gt;'</span>            <span style=\"color: #7f7f7f; text-decoration-color: #7f7f7f\">               </span>\n",
       "</pre>\n"
      ],
      "text/plain": [
       "\u001b[2;36m                   \u001b[0m\u001b[2;36m \u001b[0m\u001b[34mINFO    \u001b[0m Resolved project path as:                                              \u001b]8;id=686839;file:///Users/wilsvenleong/anaconda3/envs/anomaly-detection-pipeline-kedro/lib/python3.11/site-packages/kedro/ipython/__init__.py\u001b\\\u001b[2m__init__.py\u001b[0m\u001b]8;;\u001b\\\u001b[2m:\u001b[0m\u001b]8;id=455430;file:///Users/wilsvenleong/anaconda3/envs/anomaly-detection-pipeline-kedro/lib/python3.11/site-packages/kedro/ipython/__init__.py#164\u001b\\\u001b[2m164\u001b[0m\u001b]8;;\u001b\\\n",
       "\u001b[2;36m                    \u001b[0m         \u001b[35m/Users/wilsvenleong/Downloads/learning-materials/\u001b[0m\u001b[95mspaceship-titanic.\u001b[0m    \u001b[2m               \u001b[0m\n",
       "\u001b[2;36m                    \u001b[0m         To set a different path, run \u001b[32m'%reload_kedro \u001b[0m\u001b[32m<\u001b[0m\u001b[32mproject_root\u001b[0m\u001b[32m>\u001b[0m\u001b[32m'\u001b[0m            \u001b[2m               \u001b[0m\n"
      ]
     },
     "metadata": {},
     "output_type": "display_data"
    },
    {
     "data": {
      "text/html": [
       "<pre style=\"white-space:pre;overflow-x:auto;line-height:normal;font-family:Menlo,'DejaVu Sans Mono',consolas,'Courier New',monospace\"><span style=\"color: #7fbfbf; text-decoration-color: #7fbfbf\">[03/31/24 13:17:05] </span><span style=\"color: #000080; text-decoration-color: #000080\">INFO    </span> Registering new custom resolver: <span style=\"color: #008000; text-decoration-color: #008000\">'km.random_name'</span>                    <a href=\"file:///Users/wilsvenleong/anaconda3/envs/anomaly-detection-pipeline-kedro/lib/python3.11/site-packages/kedro_mlflow/framework/hooks/mlflow_hook.py\" target=\"_blank\"><span style=\"color: #7f7f7f; text-decoration-color: #7f7f7f\">mlflow_hook.py</span></a><span style=\"color: #7f7f7f; text-decoration-color: #7f7f7f\">:</span><a href=\"file:///Users/wilsvenleong/anaconda3/envs/anomaly-detection-pipeline-kedro/lib/python3.11/site-packages/kedro_mlflow/framework/hooks/mlflow_hook.py#65\" target=\"_blank\"><span style=\"color: #7f7f7f; text-decoration-color: #7f7f7f\">65</span></a>\n",
       "</pre>\n"
      ],
      "text/plain": [
       "\u001b[2;36m[03/31/24 13:17:05]\u001b[0m\u001b[2;36m \u001b[0m\u001b[34mINFO    \u001b[0m Registering new custom resolver: \u001b[32m'km.random_name'\u001b[0m                    \u001b]8;id=852519;file:///Users/wilsvenleong/anaconda3/envs/anomaly-detection-pipeline-kedro/lib/python3.11/site-packages/kedro_mlflow/framework/hooks/mlflow_hook.py\u001b\\\u001b[2mmlflow_hook.py\u001b[0m\u001b]8;;\u001b\\\u001b[2m:\u001b[0m\u001b]8;id=367982;file:///Users/wilsvenleong/anaconda3/envs/anomaly-detection-pipeline-kedro/lib/python3.11/site-packages/kedro_mlflow/framework/hooks/mlflow_hook.py#65\u001b\\\u001b[2m65\u001b[0m\u001b]8;;\u001b\\\n"
      ]
     },
     "metadata": {},
     "output_type": "display_data"
    },
    {
     "data": {
      "text/html": [
       "<pre style=\"white-space:pre;overflow-x:auto;line-height:normal;font-family:Menlo,'DejaVu Sans Mono',consolas,'Courier New',monospace\"><span style=\"color: #7fbfbf; text-decoration-color: #7fbfbf\">                    </span><span style=\"color: #800000; text-decoration-color: #800000\">WARNING </span> No <span style=\"color: #008000; text-decoration-color: #008000\">'mlflow.yml'</span> config file found in environment. Default            <a href=\"file:///Users/wilsvenleong/anaconda3/envs/anomaly-detection-pipeline-kedro/lib/python3.11/site-packages/kedro_mlflow/framework/hooks/mlflow_hook.py\" target=\"_blank\"><span style=\"color: #7f7f7f; text-decoration-color: #7f7f7f\">mlflow_hook.py</span></a><span style=\"color: #7f7f7f; text-decoration-color: #7f7f7f\">:</span><a href=\"file:///Users/wilsvenleong/anaconda3/envs/anomaly-detection-pipeline-kedro/lib/python3.11/site-packages/kedro_mlflow/framework/hooks/mlflow_hook.py#78\" target=\"_blank\"><span style=\"color: #7f7f7f; text-decoration-color: #7f7f7f\">78</span></a>\n",
       "<span style=\"color: #7fbfbf; text-decoration-color: #7fbfbf\">                    </span>         configuration will be used. Use ``kedro mlflow init`` command in CLI <span style=\"color: #7f7f7f; text-decoration-color: #7f7f7f\">                 </span>\n",
       "<span style=\"color: #7fbfbf; text-decoration-color: #7fbfbf\">                    </span>         to customize the configuration.                                      <span style=\"color: #7f7f7f; text-decoration-color: #7f7f7f\">                 </span>\n",
       "</pre>\n"
      ],
      "text/plain": [
       "\u001b[2;36m                   \u001b[0m\u001b[2;36m \u001b[0m\u001b[31mWARNING \u001b[0m No \u001b[32m'mlflow.yml'\u001b[0m config file found in environment. Default            \u001b]8;id=718472;file:///Users/wilsvenleong/anaconda3/envs/anomaly-detection-pipeline-kedro/lib/python3.11/site-packages/kedro_mlflow/framework/hooks/mlflow_hook.py\u001b\\\u001b[2mmlflow_hook.py\u001b[0m\u001b]8;;\u001b\\\u001b[2m:\u001b[0m\u001b]8;id=853520;file:///Users/wilsvenleong/anaconda3/envs/anomaly-detection-pipeline-kedro/lib/python3.11/site-packages/kedro_mlflow/framework/hooks/mlflow_hook.py#78\u001b\\\u001b[2m78\u001b[0m\u001b]8;;\u001b\\\n",
       "\u001b[2;36m                    \u001b[0m         configuration will be used. Use ``kedro mlflow init`` command in CLI \u001b[2m                 \u001b[0m\n",
       "\u001b[2;36m                    \u001b[0m         to customize the configuration.                                      \u001b[2m                 \u001b[0m\n"
      ]
     },
     "metadata": {},
     "output_type": "display_data"
    },
    {
     "data": {
      "text/html": [
       "<pre style=\"white-space:pre;overflow-x:auto;line-height:normal;font-family:Menlo,'DejaVu Sans Mono',consolas,'Courier New',monospace\"><span style=\"color: #7fbfbf; text-decoration-color: #7fbfbf\">                    </span><span style=\"color: #000080; text-decoration-color: #000080\">INFO    </span> The <span style=\"color: #008000; text-decoration-color: #008000\">'tracking_uri'</span> key in mlflow.yml is relative            <a href=\"file:///Users/wilsvenleong/anaconda3/envs/anomaly-detection-pipeline-kedro/lib/python3.11/site-packages/kedro_mlflow/config/kedro_mlflow_config.py\" target=\"_blank\"><span style=\"color: #7f7f7f; text-decoration-color: #7f7f7f\">kedro_mlflow_config.py</span></a><span style=\"color: #7f7f7f; text-decoration-color: #7f7f7f\">:</span><a href=\"file:///Users/wilsvenleong/anaconda3/envs/anomaly-detection-pipeline-kedro/lib/python3.11/site-packages/kedro_mlflow/config/kedro_mlflow_config.py#260\" target=\"_blank\"><span style=\"color: #7f7f7f; text-decoration-color: #7f7f7f\">260</span></a>\n",
       "<span style=\"color: #7fbfbf; text-decoration-color: #7fbfbf\">                    </span>         <span style=\"font-weight: bold\">(</span><span style=\"color: #008000; text-decoration-color: #008000\">'server.mlflow_(tracking|registry)_uri = mlruns'</span><span style=\"font-weight: bold\">)</span>. It is   <span style=\"color: #7f7f7f; text-decoration-color: #7f7f7f\">                          </span>\n",
       "<span style=\"color: #7fbfbf; text-decoration-color: #7fbfbf\">                    </span>         converted to a valid uri:                                   <span style=\"color: #7f7f7f; text-decoration-color: #7f7f7f\">                          </span>\n",
       "<span style=\"color: #7fbfbf; text-decoration-color: #7fbfbf\">                    </span>         <span style=\"color: #008000; text-decoration-color: #008000\">'file:///Users/wilsvenleong/Downloads/learning-materials/sp</span> <span style=\"color: #7f7f7f; text-decoration-color: #7f7f7f\">                          </span>\n",
       "<span style=\"color: #7fbfbf; text-decoration-color: #7fbfbf\">                    </span>         <span style=\"color: #008000; text-decoration-color: #008000\">aceship-titanic/mlruns'</span>                                     <span style=\"color: #7f7f7f; text-decoration-color: #7f7f7f\">                          </span>\n",
       "</pre>\n"
      ],
      "text/plain": [
       "\u001b[2;36m                   \u001b[0m\u001b[2;36m \u001b[0m\u001b[34mINFO    \u001b[0m The \u001b[32m'tracking_uri'\u001b[0m key in mlflow.yml is relative            \u001b]8;id=824984;file:///Users/wilsvenleong/anaconda3/envs/anomaly-detection-pipeline-kedro/lib/python3.11/site-packages/kedro_mlflow/config/kedro_mlflow_config.py\u001b\\\u001b[2mkedro_mlflow_config.py\u001b[0m\u001b]8;;\u001b\\\u001b[2m:\u001b[0m\u001b]8;id=356984;file:///Users/wilsvenleong/anaconda3/envs/anomaly-detection-pipeline-kedro/lib/python3.11/site-packages/kedro_mlflow/config/kedro_mlflow_config.py#260\u001b\\\u001b[2m260\u001b[0m\u001b]8;;\u001b\\\n",
       "\u001b[2;36m                    \u001b[0m         \u001b[1m(\u001b[0m\u001b[32m'server.mlflow_\u001b[0m\u001b[32m(\u001b[0m\u001b[32mtracking|registry\u001b[0m\u001b[32m)\u001b[0m\u001b[32m_uri = mlruns'\u001b[0m\u001b[1m)\u001b[0m. It is   \u001b[2m                          \u001b[0m\n",
       "\u001b[2;36m                    \u001b[0m         converted to a valid uri:                                   \u001b[2m                          \u001b[0m\n",
       "\u001b[2;36m                    \u001b[0m         \u001b[32m'file:///Users/wilsvenleong/Downloads/learning-materials/sp\u001b[0m \u001b[2m                          \u001b[0m\n",
       "\u001b[2;36m                    \u001b[0m         \u001b[32maceship-titanic/mlruns'\u001b[0m                                     \u001b[2m                          \u001b[0m\n"
      ]
     },
     "metadata": {},
     "output_type": "display_data"
    },
    {
     "data": {
      "text/html": [
       "<pre style=\"white-space:pre;overflow-x:auto;line-height:normal;font-family:Menlo,'DejaVu Sans Mono',consolas,'Courier New',monospace\"><span style=\"color: #7fbfbf; text-decoration-color: #7fbfbf\">                    </span><span style=\"color: #000080; text-decoration-color: #000080\">INFO    </span> Kedro project Spaceship Titanic                                        <a href=\"file:///Users/wilsvenleong/anaconda3/envs/anomaly-detection-pipeline-kedro/lib/python3.11/site-packages/kedro/ipython/__init__.py\" target=\"_blank\"><span style=\"color: #7f7f7f; text-decoration-color: #7f7f7f\">__init__.py</span></a><span style=\"color: #7f7f7f; text-decoration-color: #7f7f7f\">:</span><a href=\"file:///Users/wilsvenleong/anaconda3/envs/anomaly-detection-pipeline-kedro/lib/python3.11/site-packages/kedro/ipython/__init__.py#134\" target=\"_blank\"><span style=\"color: #7f7f7f; text-decoration-color: #7f7f7f\">134</span></a>\n",
       "</pre>\n"
      ],
      "text/plain": [
       "\u001b[2;36m                   \u001b[0m\u001b[2;36m \u001b[0m\u001b[34mINFO    \u001b[0m Kedro project Spaceship Titanic                                        \u001b]8;id=474018;file:///Users/wilsvenleong/anaconda3/envs/anomaly-detection-pipeline-kedro/lib/python3.11/site-packages/kedro/ipython/__init__.py\u001b\\\u001b[2m__init__.py\u001b[0m\u001b]8;;\u001b\\\u001b[2m:\u001b[0m\u001b]8;id=988872;file:///Users/wilsvenleong/anaconda3/envs/anomaly-detection-pipeline-kedro/lib/python3.11/site-packages/kedro/ipython/__init__.py#134\u001b\\\u001b[2m134\u001b[0m\u001b]8;;\u001b\\\n"
      ]
     },
     "metadata": {},
     "output_type": "display_data"
    },
    {
     "data": {
      "text/html": [
       "<pre style=\"white-space:pre;overflow-x:auto;line-height:normal;font-family:Menlo,'DejaVu Sans Mono',consolas,'Courier New',monospace\"><span style=\"color: #7fbfbf; text-decoration-color: #7fbfbf\">                    </span><span style=\"color: #000080; text-decoration-color: #000080\">INFO    </span> Defined global variable <span style=\"color: #008000; text-decoration-color: #008000\">'context'</span>, <span style=\"color: #008000; text-decoration-color: #008000\">'session'</span>, <span style=\"color: #008000; text-decoration-color: #008000\">'catalog'</span> and            <a href=\"file:///Users/wilsvenleong/anaconda3/envs/anomaly-detection-pipeline-kedro/lib/python3.11/site-packages/kedro/ipython/__init__.py\" target=\"_blank\"><span style=\"color: #7f7f7f; text-decoration-color: #7f7f7f\">__init__.py</span></a><span style=\"color: #7f7f7f; text-decoration-color: #7f7f7f\">:</span><a href=\"file:///Users/wilsvenleong/anaconda3/envs/anomaly-detection-pipeline-kedro/lib/python3.11/site-packages/kedro/ipython/__init__.py#135\" target=\"_blank\"><span style=\"color: #7f7f7f; text-decoration-color: #7f7f7f\">135</span></a>\n",
       "<span style=\"color: #7fbfbf; text-decoration-color: #7fbfbf\">                    </span>         <span style=\"color: #008000; text-decoration-color: #008000\">'pipelines'</span>                                                            <span style=\"color: #7f7f7f; text-decoration-color: #7f7f7f\">               </span>\n",
       "</pre>\n"
      ],
      "text/plain": [
       "\u001b[2;36m                   \u001b[0m\u001b[2;36m \u001b[0m\u001b[34mINFO    \u001b[0m Defined global variable \u001b[32m'context'\u001b[0m, \u001b[32m'session'\u001b[0m, \u001b[32m'catalog'\u001b[0m and            \u001b]8;id=112506;file:///Users/wilsvenleong/anaconda3/envs/anomaly-detection-pipeline-kedro/lib/python3.11/site-packages/kedro/ipython/__init__.py\u001b\\\u001b[2m__init__.py\u001b[0m\u001b]8;;\u001b\\\u001b[2m:\u001b[0m\u001b]8;id=560723;file:///Users/wilsvenleong/anaconda3/envs/anomaly-detection-pipeline-kedro/lib/python3.11/site-packages/kedro/ipython/__init__.py#135\u001b\\\u001b[2m135\u001b[0m\u001b]8;;\u001b\\\n",
       "\u001b[2;36m                    \u001b[0m         \u001b[32m'pipelines'\u001b[0m                                                            \u001b[2m               \u001b[0m\n"
      ]
     },
     "metadata": {},
     "output_type": "display_data"
    },
    {
     "data": {
      "text/html": [
       "<pre style=\"white-space:pre;overflow-x:auto;line-height:normal;font-family:Menlo,'DejaVu Sans Mono',consolas,'Courier New',monospace\"><span style=\"color: #7fbfbf; text-decoration-color: #7fbfbf\">[03/31/24 13:17:06] </span><span style=\"color: #000080; text-decoration-color: #000080\">INFO    </span> Registered line magic <span style=\"color: #008000; text-decoration-color: #008000\">'run_viz'</span>                                        <a href=\"file:///Users/wilsvenleong/anaconda3/envs/anomaly-detection-pipeline-kedro/lib/python3.11/site-packages/kedro/ipython/__init__.py\" target=\"_blank\"><span style=\"color: #7f7f7f; text-decoration-color: #7f7f7f\">__init__.py</span></a><span style=\"color: #7f7f7f; text-decoration-color: #7f7f7f\">:</span><a href=\"file:///Users/wilsvenleong/anaconda3/envs/anomaly-detection-pipeline-kedro/lib/python3.11/site-packages/kedro/ipython/__init__.py#141\" target=\"_blank\"><span style=\"color: #7f7f7f; text-decoration-color: #7f7f7f\">141</span></a>\n",
       "</pre>\n"
      ],
      "text/plain": [
       "\u001b[2;36m[03/31/24 13:17:06]\u001b[0m\u001b[2;36m \u001b[0m\u001b[34mINFO    \u001b[0m Registered line magic \u001b[32m'run_viz'\u001b[0m                                        \u001b]8;id=485514;file:///Users/wilsvenleong/anaconda3/envs/anomaly-detection-pipeline-kedro/lib/python3.11/site-packages/kedro/ipython/__init__.py\u001b\\\u001b[2m__init__.py\u001b[0m\u001b]8;;\u001b\\\u001b[2m:\u001b[0m\u001b]8;id=401989;file:///Users/wilsvenleong/anaconda3/envs/anomaly-detection-pipeline-kedro/lib/python3.11/site-packages/kedro/ipython/__init__.py#141\u001b\\\u001b[2m141\u001b[0m\u001b]8;;\u001b\\\n"
      ]
     },
     "metadata": {},
     "output_type": "display_data"
    }
   ],
   "source": [
    "%load_ext kedro.ipython"
   ]
  },
  {
   "cell_type": "code",
   "execution_count": 2,
   "metadata": {},
   "outputs": [],
   "source": [
    "import pandas as pd\n",
    "import numpy as np"
   ]
  },
  {
   "cell_type": "code",
   "execution_count": 3,
   "metadata": {},
   "outputs": [
    {
     "data": {
      "text/html": [
       "<pre style=\"white-space:pre;overflow-x:auto;line-height:normal;font-family:Menlo,'DejaVu Sans Mono',consolas,'Courier New',monospace\"></pre>\n"
      ],
      "text/plain": []
     },
     "metadata": {},
     "output_type": "display_data"
    },
    {
     "data": {
      "text/plain": [
       "\n",
       "\u001b[1m[\u001b[0m\n",
       "    \u001b[32m'train'\u001b[0m,\n",
       "    \u001b[32m'test'\u001b[0m,\n",
       "    \u001b[32m'sample_submission'\u001b[0m,\n",
       "    \u001b[32m'parameters'\u001b[0m,\n",
       "    \u001b[32m'params:model_name'\u001b[0m,\n",
       "    \u001b[32m'params:col_maps'\u001b[0m,\n",
       "    \u001b[32m'params:col_maps.id_col'\u001b[0m,\n",
       "    \u001b[32m'params:col_maps.target_col'\u001b[0m\n",
       "\u001b[1m]\u001b[0m"
      ]
     },
     "execution_count": 3,
     "metadata": {},
     "output_type": "execute_result"
    }
   ],
   "source": [
    "catalog.list()"
   ]
  },
  {
   "cell_type": "code",
   "execution_count": 4,
   "metadata": {},
   "outputs": [
    {
     "data": {
      "text/html": [
       "<pre style=\"white-space:pre;overflow-x:auto;line-height:normal;font-family:Menlo,'DejaVu Sans Mono',consolas,'Courier New',monospace\"><span style=\"color: #7fbfbf; text-decoration-color: #7fbfbf\">                    </span><span style=\"color: #000080; text-decoration-color: #000080\">INFO    </span> Loading data from <span style=\"color: #ff8700; text-decoration-color: #ff8700\">train</span> <span style=\"font-weight: bold\">(</span>CSVDataset<span style=\"font-weight: bold\">)</span><span style=\"color: #808000; text-decoration-color: #808000\">...</span>                            <a href=\"file:///Users/wilsvenleong/anaconda3/envs/anomaly-detection-pipeline-kedro/lib/python3.11/site-packages/kedro/io/data_catalog.py\" target=\"_blank\"><span style=\"color: #7f7f7f; text-decoration-color: #7f7f7f\">data_catalog.py</span></a><span style=\"color: #7f7f7f; text-decoration-color: #7f7f7f\">:</span><a href=\"file:///Users/wilsvenleong/anaconda3/envs/anomaly-detection-pipeline-kedro/lib/python3.11/site-packages/kedro/io/data_catalog.py#483\" target=\"_blank\"><span style=\"color: #7f7f7f; text-decoration-color: #7f7f7f\">483</span></a>\n",
       "</pre>\n"
      ],
      "text/plain": [
       "\u001b[2;36m                   \u001b[0m\u001b[2;36m \u001b[0m\u001b[34mINFO    \u001b[0m Loading data from \u001b[38;5;208mtrain\u001b[0m \u001b[1m(\u001b[0mCSVDataset\u001b[1m)\u001b[0m\u001b[33m...\u001b[0m                            \u001b]8;id=843388;file:///Users/wilsvenleong/anaconda3/envs/anomaly-detection-pipeline-kedro/lib/python3.11/site-packages/kedro/io/data_catalog.py\u001b\\\u001b[2mdata_catalog.py\u001b[0m\u001b]8;;\u001b\\\u001b[2m:\u001b[0m\u001b]8;id=135748;file:///Users/wilsvenleong/anaconda3/envs/anomaly-detection-pipeline-kedro/lib/python3.11/site-packages/kedro/io/data_catalog.py#483\u001b\\\u001b[2m483\u001b[0m\u001b]8;;\u001b\\\n"
      ]
     },
     "metadata": {},
     "output_type": "display_data"
    },
    {
     "data": {
      "text/html": [
       "<pre style=\"white-space:pre;overflow-x:auto;line-height:normal;font-family:Menlo,'DejaVu Sans Mono',consolas,'Courier New',monospace\"><span style=\"color: #7fbfbf; text-decoration-color: #7fbfbf\">                    </span><span style=\"color: #000080; text-decoration-color: #000080\">INFO    </span> Loading data from <span style=\"color: #ff8700; text-decoration-color: #ff8700\">parameters</span> <span style=\"font-weight: bold\">(</span>MemoryDataset<span style=\"font-weight: bold\">)</span><span style=\"color: #808000; text-decoration-color: #808000\">...</span>                    <a href=\"file:///Users/wilsvenleong/anaconda3/envs/anomaly-detection-pipeline-kedro/lib/python3.11/site-packages/kedro/io/data_catalog.py\" target=\"_blank\"><span style=\"color: #7f7f7f; text-decoration-color: #7f7f7f\">data_catalog.py</span></a><span style=\"color: #7f7f7f; text-decoration-color: #7f7f7f\">:</span><a href=\"file:///Users/wilsvenleong/anaconda3/envs/anomaly-detection-pipeline-kedro/lib/python3.11/site-packages/kedro/io/data_catalog.py#483\" target=\"_blank\"><span style=\"color: #7f7f7f; text-decoration-color: #7f7f7f\">483</span></a>\n",
       "</pre>\n"
      ],
      "text/plain": [
       "\u001b[2;36m                   \u001b[0m\u001b[2;36m \u001b[0m\u001b[34mINFO    \u001b[0m Loading data from \u001b[38;5;208mparameters\u001b[0m \u001b[1m(\u001b[0mMemoryDataset\u001b[1m)\u001b[0m\u001b[33m...\u001b[0m                    \u001b]8;id=332793;file:///Users/wilsvenleong/anaconda3/envs/anomaly-detection-pipeline-kedro/lib/python3.11/site-packages/kedro/io/data_catalog.py\u001b\\\u001b[2mdata_catalog.py\u001b[0m\u001b]8;;\u001b\\\u001b[2m:\u001b[0m\u001b]8;id=558971;file:///Users/wilsvenleong/anaconda3/envs/anomaly-detection-pipeline-kedro/lib/python3.11/site-packages/kedro/io/data_catalog.py#483\u001b\\\u001b[2m483\u001b[0m\u001b]8;;\u001b\\\n"
      ]
     },
     "metadata": {},
     "output_type": "display_data"
    }
   ],
   "source": [
    "train = catalog.load(\"train\")\n",
    "parameters = catalog.load(\"parameters\")"
   ]
  },
  {
   "cell_type": "code",
   "execution_count": 5,
   "metadata": {},
   "outputs": [
    {
     "data": {
      "text/html": [
       "<pre style=\"white-space:pre;overflow-x:auto;line-height:normal;font-family:Menlo,'DejaVu Sans Mono',consolas,'Courier New',monospace\"></pre>\n"
      ],
      "text/plain": []
     },
     "metadata": {},
     "output_type": "display_data"
    },
    {
     "data": {
      "text/html": [
       "<div>\n",
       "<style scoped>\n",
       "    .dataframe tbody tr th:only-of-type {\n",
       "        vertical-align: middle;\n",
       "    }\n",
       "\n",
       "    .dataframe tbody tr th {\n",
       "        vertical-align: top;\n",
       "    }\n",
       "\n",
       "    .dataframe thead th {\n",
       "        text-align: right;\n",
       "    }\n",
       "</style>\n",
       "<table border=\"1\" class=\"dataframe\">\n",
       "  <thead>\n",
       "    <tr style=\"text-align: right;\">\n",
       "      <th></th>\n",
       "      <th>PassengerId</th>\n",
       "      <th>HomePlanet</th>\n",
       "      <th>CryoSleep</th>\n",
       "      <th>Cabin</th>\n",
       "      <th>Destination</th>\n",
       "      <th>Age</th>\n",
       "      <th>VIP</th>\n",
       "      <th>RoomService</th>\n",
       "      <th>FoodCourt</th>\n",
       "      <th>ShoppingMall</th>\n",
       "      <th>Spa</th>\n",
       "      <th>VRDeck</th>\n",
       "      <th>Name</th>\n",
       "      <th>Transported</th>\n",
       "    </tr>\n",
       "  </thead>\n",
       "  <tbody>\n",
       "    <tr>\n",
       "      <th>0</th>\n",
       "      <td>0001_01</td>\n",
       "      <td>Europa</td>\n",
       "      <td>False</td>\n",
       "      <td>B/0/P</td>\n",
       "      <td>TRAPPIST-1e</td>\n",
       "      <td>39.0</td>\n",
       "      <td>False</td>\n",
       "      <td>0.0</td>\n",
       "      <td>0.0</td>\n",
       "      <td>0.0</td>\n",
       "      <td>0.0</td>\n",
       "      <td>0.0</td>\n",
       "      <td>Maham Ofracculy</td>\n",
       "      <td>False</td>\n",
       "    </tr>\n",
       "    <tr>\n",
       "      <th>1</th>\n",
       "      <td>0002_01</td>\n",
       "      <td>Earth</td>\n",
       "      <td>False</td>\n",
       "      <td>F/0/S</td>\n",
       "      <td>TRAPPIST-1e</td>\n",
       "      <td>24.0</td>\n",
       "      <td>False</td>\n",
       "      <td>109.0</td>\n",
       "      <td>9.0</td>\n",
       "      <td>25.0</td>\n",
       "      <td>549.0</td>\n",
       "      <td>44.0</td>\n",
       "      <td>Juanna Vines</td>\n",
       "      <td>True</td>\n",
       "    </tr>\n",
       "    <tr>\n",
       "      <th>2</th>\n",
       "      <td>0003_01</td>\n",
       "      <td>Europa</td>\n",
       "      <td>False</td>\n",
       "      <td>A/0/S</td>\n",
       "      <td>TRAPPIST-1e</td>\n",
       "      <td>58.0</td>\n",
       "      <td>True</td>\n",
       "      <td>43.0</td>\n",
       "      <td>3576.0</td>\n",
       "      <td>0.0</td>\n",
       "      <td>6715.0</td>\n",
       "      <td>49.0</td>\n",
       "      <td>Altark Susent</td>\n",
       "      <td>False</td>\n",
       "    </tr>\n",
       "    <tr>\n",
       "      <th>3</th>\n",
       "      <td>0003_02</td>\n",
       "      <td>Europa</td>\n",
       "      <td>False</td>\n",
       "      <td>A/0/S</td>\n",
       "      <td>TRAPPIST-1e</td>\n",
       "      <td>33.0</td>\n",
       "      <td>False</td>\n",
       "      <td>0.0</td>\n",
       "      <td>1283.0</td>\n",
       "      <td>371.0</td>\n",
       "      <td>3329.0</td>\n",
       "      <td>193.0</td>\n",
       "      <td>Solam Susent</td>\n",
       "      <td>False</td>\n",
       "    </tr>\n",
       "    <tr>\n",
       "      <th>4</th>\n",
       "      <td>0004_01</td>\n",
       "      <td>Earth</td>\n",
       "      <td>False</td>\n",
       "      <td>F/1/S</td>\n",
       "      <td>TRAPPIST-1e</td>\n",
       "      <td>16.0</td>\n",
       "      <td>False</td>\n",
       "      <td>303.0</td>\n",
       "      <td>70.0</td>\n",
       "      <td>151.0</td>\n",
       "      <td>565.0</td>\n",
       "      <td>2.0</td>\n",
       "      <td>Willy Santantines</td>\n",
       "      <td>True</td>\n",
       "    </tr>\n",
       "    <tr>\n",
       "      <th>...</th>\n",
       "      <td>...</td>\n",
       "      <td>...</td>\n",
       "      <td>...</td>\n",
       "      <td>...</td>\n",
       "      <td>...</td>\n",
       "      <td>...</td>\n",
       "      <td>...</td>\n",
       "      <td>...</td>\n",
       "      <td>...</td>\n",
       "      <td>...</td>\n",
       "      <td>...</td>\n",
       "      <td>...</td>\n",
       "      <td>...</td>\n",
       "      <td>...</td>\n",
       "    </tr>\n",
       "    <tr>\n",
       "      <th>8688</th>\n",
       "      <td>9276_01</td>\n",
       "      <td>Europa</td>\n",
       "      <td>False</td>\n",
       "      <td>A/98/P</td>\n",
       "      <td>55 Cancri e</td>\n",
       "      <td>41.0</td>\n",
       "      <td>True</td>\n",
       "      <td>0.0</td>\n",
       "      <td>6819.0</td>\n",
       "      <td>0.0</td>\n",
       "      <td>1643.0</td>\n",
       "      <td>74.0</td>\n",
       "      <td>Gravior Noxnuther</td>\n",
       "      <td>False</td>\n",
       "    </tr>\n",
       "    <tr>\n",
       "      <th>8689</th>\n",
       "      <td>9278_01</td>\n",
       "      <td>Earth</td>\n",
       "      <td>True</td>\n",
       "      <td>G/1499/S</td>\n",
       "      <td>PSO J318.5-22</td>\n",
       "      <td>18.0</td>\n",
       "      <td>False</td>\n",
       "      <td>0.0</td>\n",
       "      <td>0.0</td>\n",
       "      <td>0.0</td>\n",
       "      <td>0.0</td>\n",
       "      <td>0.0</td>\n",
       "      <td>Kurta Mondalley</td>\n",
       "      <td>False</td>\n",
       "    </tr>\n",
       "    <tr>\n",
       "      <th>8690</th>\n",
       "      <td>9279_01</td>\n",
       "      <td>Earth</td>\n",
       "      <td>False</td>\n",
       "      <td>G/1500/S</td>\n",
       "      <td>TRAPPIST-1e</td>\n",
       "      <td>26.0</td>\n",
       "      <td>False</td>\n",
       "      <td>0.0</td>\n",
       "      <td>0.0</td>\n",
       "      <td>1872.0</td>\n",
       "      <td>1.0</td>\n",
       "      <td>0.0</td>\n",
       "      <td>Fayey Connon</td>\n",
       "      <td>True</td>\n",
       "    </tr>\n",
       "    <tr>\n",
       "      <th>8691</th>\n",
       "      <td>9280_01</td>\n",
       "      <td>Europa</td>\n",
       "      <td>False</td>\n",
       "      <td>E/608/S</td>\n",
       "      <td>55 Cancri e</td>\n",
       "      <td>32.0</td>\n",
       "      <td>False</td>\n",
       "      <td>0.0</td>\n",
       "      <td>1049.0</td>\n",
       "      <td>0.0</td>\n",
       "      <td>353.0</td>\n",
       "      <td>3235.0</td>\n",
       "      <td>Celeon Hontichre</td>\n",
       "      <td>False</td>\n",
       "    </tr>\n",
       "    <tr>\n",
       "      <th>8692</th>\n",
       "      <td>9280_02</td>\n",
       "      <td>Europa</td>\n",
       "      <td>False</td>\n",
       "      <td>E/608/S</td>\n",
       "      <td>TRAPPIST-1e</td>\n",
       "      <td>44.0</td>\n",
       "      <td>False</td>\n",
       "      <td>126.0</td>\n",
       "      <td>4688.0</td>\n",
       "      <td>0.0</td>\n",
       "      <td>0.0</td>\n",
       "      <td>12.0</td>\n",
       "      <td>Propsh Hontichre</td>\n",
       "      <td>True</td>\n",
       "    </tr>\n",
       "  </tbody>\n",
       "</table>\n",
       "<p>8693 rows × 14 columns</p>\n",
       "</div>"
      ],
      "text/plain": [
       "\n",
       "     PassengerId HomePlanet CryoSleep     Cabin    Destination   Age    VIP  \\\n",
       "\u001b[1;36m0\u001b[0m        0001_01     Europa     \u001b[3;91mFalse\u001b[0m     B/\u001b[1;36m0\u001b[0m/P    TRAPPIST-1e  \u001b[1;36m39.0\u001b[0m  \u001b[3;91mFalse\u001b[0m   \n",
       "\u001b[1;36m1\u001b[0m        0002_01      Earth     \u001b[3;91mFalse\u001b[0m     F/\u001b[1;36m0\u001b[0m/S    TRAPPIST-1e  \u001b[1;36m24.0\u001b[0m  \u001b[3;91mFalse\u001b[0m   \n",
       "\u001b[1;36m2\u001b[0m        0003_01     Europa     \u001b[3;91mFalse\u001b[0m     A/\u001b[1;36m0\u001b[0m/S    TRAPPIST-1e  \u001b[1;36m58.0\u001b[0m   \u001b[3;92mTrue\u001b[0m   \n",
       "\u001b[1;36m3\u001b[0m        0003_02     Europa     \u001b[3;91mFalse\u001b[0m     A/\u001b[1;36m0\u001b[0m/S    TRAPPIST-1e  \u001b[1;36m33.0\u001b[0m  \u001b[3;91mFalse\u001b[0m   \n",
       "\u001b[1;36m4\u001b[0m        0004_01      Earth     \u001b[3;91mFalse\u001b[0m     F/\u001b[1;36m1\u001b[0m/S    TRAPPIST-1e  \u001b[1;36m16.0\u001b[0m  \u001b[3;91mFalse\u001b[0m   \n",
       "\u001b[33m...\u001b[0m          \u001b[33m...\u001b[0m        \u001b[33m...\u001b[0m       \u001b[33m...\u001b[0m       \u001b[33m...\u001b[0m            \u001b[33m...\u001b[0m   \u001b[33m...\u001b[0m    \u001b[33m...\u001b[0m   \n",
       "\u001b[1;36m8688\u001b[0m     9276_01     Europa     \u001b[3;91mFalse\u001b[0m    A/\u001b[1;36m98\u001b[0m/P    \u001b[1;36m55\u001b[0m Cancri e  \u001b[1;36m41.0\u001b[0m   \u001b[3;92mTrue\u001b[0m   \n",
       "\u001b[1;36m8689\u001b[0m     9278_01      Earth      \u001b[3;92mTrue\u001b[0m  G/\u001b[1;36m1499\u001b[0m/S  PSO J318.\u001b[1;36m5\u001b[0m-\u001b[1;36m22\u001b[0m  \u001b[1;36m18.0\u001b[0m  \u001b[3;91mFalse\u001b[0m   \n",
       "\u001b[1;36m8690\u001b[0m     9279_01      Earth     \u001b[3;91mFalse\u001b[0m  G/\u001b[1;36m1500\u001b[0m/S    TRAPPIST-1e  \u001b[1;36m26.0\u001b[0m  \u001b[3;91mFalse\u001b[0m   \n",
       "\u001b[1;36m8691\u001b[0m     9280_01     Europa     \u001b[3;91mFalse\u001b[0m   E/\u001b[1;36m608\u001b[0m/S    \u001b[1;36m55\u001b[0m Cancri e  \u001b[1;36m32.0\u001b[0m  \u001b[3;91mFalse\u001b[0m   \n",
       "\u001b[1;36m8692\u001b[0m     9280_02     Europa     \u001b[3;91mFalse\u001b[0m   E/\u001b[1;36m608\u001b[0m/S    TRAPPIST-1e  \u001b[1;36m44.0\u001b[0m  \u001b[3;91mFalse\u001b[0m   \n",
       "\n",
       "      RoomService  FoodCourt  ShoppingMall     Spa  VRDeck               Name  \\\n",
       "\u001b[1;36m0\u001b[0m             \u001b[1;36m0.0\u001b[0m        \u001b[1;36m0.0\u001b[0m           \u001b[1;36m0.0\u001b[0m     \u001b[1;36m0.0\u001b[0m     \u001b[1;36m0.0\u001b[0m    Maham Ofracculy   \n",
       "\u001b[1;36m1\u001b[0m           \u001b[1;36m109.0\u001b[0m        \u001b[1;36m9.0\u001b[0m          \u001b[1;36m25.0\u001b[0m   \u001b[1;36m549.0\u001b[0m    \u001b[1;36m44.0\u001b[0m       Juanna Vines   \n",
       "\u001b[1;36m2\u001b[0m            \u001b[1;36m43.0\u001b[0m     \u001b[1;36m3576.0\u001b[0m           \u001b[1;36m0.0\u001b[0m  \u001b[1;36m6715.0\u001b[0m    \u001b[1;36m49.0\u001b[0m      Altark Susent   \n",
       "\u001b[1;36m3\u001b[0m             \u001b[1;36m0.0\u001b[0m     \u001b[1;36m1283.0\u001b[0m         \u001b[1;36m371.0\u001b[0m  \u001b[1;36m3329.0\u001b[0m   \u001b[1;36m193.0\u001b[0m       Solam Susent   \n",
       "\u001b[1;36m4\u001b[0m           \u001b[1;36m303.0\u001b[0m       \u001b[1;36m70.0\u001b[0m         \u001b[1;36m151.0\u001b[0m   \u001b[1;36m565.0\u001b[0m     \u001b[1;36m2.0\u001b[0m  Willy Santantines   \n",
       "\u001b[33m...\u001b[0m           \u001b[33m...\u001b[0m        \u001b[33m...\u001b[0m           \u001b[33m...\u001b[0m     \u001b[33m...\u001b[0m     \u001b[33m...\u001b[0m                \u001b[33m...\u001b[0m   \n",
       "\u001b[1;36m8688\u001b[0m          \u001b[1;36m0.0\u001b[0m     \u001b[1;36m6819.0\u001b[0m           \u001b[1;36m0.0\u001b[0m  \u001b[1;36m1643.0\u001b[0m    \u001b[1;36m74.0\u001b[0m  Gravior Noxnuther   \n",
       "\u001b[1;36m8689\u001b[0m          \u001b[1;36m0.0\u001b[0m        \u001b[1;36m0.0\u001b[0m           \u001b[1;36m0.0\u001b[0m     \u001b[1;36m0.0\u001b[0m     \u001b[1;36m0.0\u001b[0m    Kurta Mondalley   \n",
       "\u001b[1;36m8690\u001b[0m          \u001b[1;36m0.0\u001b[0m        \u001b[1;36m0.0\u001b[0m        \u001b[1;36m1872.0\u001b[0m     \u001b[1;36m1.0\u001b[0m     \u001b[1;36m0.0\u001b[0m       Fayey Connon   \n",
       "\u001b[1;36m8691\u001b[0m          \u001b[1;36m0.0\u001b[0m     \u001b[1;36m1049.0\u001b[0m           \u001b[1;36m0.0\u001b[0m   \u001b[1;36m353.0\u001b[0m  \u001b[1;36m3235.0\u001b[0m   Celeon Hontichre   \n",
       "\u001b[1;36m8692\u001b[0m        \u001b[1;36m126.0\u001b[0m     \u001b[1;36m4688.0\u001b[0m           \u001b[1;36m0.0\u001b[0m     \u001b[1;36m0.0\u001b[0m    \u001b[1;36m12.0\u001b[0m   Propsh Hontichre   \n",
       "\n",
       "      Transported  \n",
       "\u001b[1;36m0\u001b[0m           \u001b[3;91mFalse\u001b[0m  \n",
       "\u001b[1;36m1\u001b[0m            \u001b[3;92mTrue\u001b[0m  \n",
       "\u001b[1;36m2\u001b[0m           \u001b[3;91mFalse\u001b[0m  \n",
       "\u001b[1;36m3\u001b[0m           \u001b[3;91mFalse\u001b[0m  \n",
       "\u001b[1;36m4\u001b[0m            \u001b[3;92mTrue\u001b[0m  \n",
       "\u001b[33m...\u001b[0m           \u001b[33m...\u001b[0m  \n",
       "\u001b[1;36m8688\u001b[0m        \u001b[3;91mFalse\u001b[0m  \n",
       "\u001b[1;36m8689\u001b[0m        \u001b[3;91mFalse\u001b[0m  \n",
       "\u001b[1;36m8690\u001b[0m         \u001b[3;92mTrue\u001b[0m  \n",
       "\u001b[1;36m8691\u001b[0m        \u001b[3;91mFalse\u001b[0m  \n",
       "\u001b[1;36m8692\u001b[0m         \u001b[3;92mTrue\u001b[0m  \n",
       "\n",
       "\u001b[1m[\u001b[0m\u001b[1;36m8693\u001b[0m rows x \u001b[1;36m14\u001b[0m columns\u001b[1m]\u001b[0m"
      ]
     },
     "execution_count": 5,
     "metadata": {},
     "output_type": "execute_result"
    }
   ],
   "source": [
    "train"
   ]
  },
  {
   "cell_type": "code",
   "execution_count": 6,
   "metadata": {},
   "outputs": [],
   "source": [
    "id_col = parameters[\"col_maps\"][\"id_col\"]\n",
    "target_col = parameters[\"col_maps\"][\"target_col\"]\n",
    "\n",
    "categorical_cols = (\n",
    "    train.select_dtypes(include=[\"object\", \"bool\"])\n",
    "    .columns.difference([id_col, target_col])\n",
    "    .tolist()\n",
    ")\n",
    "\n",
    "numerical_cols = (\n",
    "    train.select_dtypes(include=[\"int64\", \"float64\"])\n",
    "    .columns.difference([id_col, target_col])\n",
    "    .tolist()\n",
    ")"
   ]
  },
  {
   "cell_type": "code",
   "execution_count": 7,
   "metadata": {},
   "outputs": [
    {
     "data": {
      "text/html": [
       "<pre style=\"white-space:pre;overflow-x:auto;line-height:normal;font-family:Menlo,'DejaVu Sans Mono',consolas,'Courier New',monospace\"></pre>\n"
      ],
      "text/plain": []
     },
     "metadata": {},
     "output_type": "display_data"
    },
    {
     "data": {
      "text/plain": [
       "\u001b[1m[\u001b[0m\u001b[32m'Cabin'\u001b[0m, \u001b[32m'CryoSleep'\u001b[0m, \u001b[32m'Destination'\u001b[0m, \u001b[32m'HomePlanet'\u001b[0m, \u001b[32m'Name'\u001b[0m, \u001b[32m'VIP'\u001b[0m\u001b[1m]\u001b[0m"
      ]
     },
     "execution_count": 7,
     "metadata": {},
     "output_type": "execute_result"
    }
   ],
   "source": [
    "categorical_cols"
   ]
  },
  {
   "cell_type": "code",
   "execution_count": 8,
   "metadata": {},
   "outputs": [
    {
     "data": {
      "text/html": [
       "<pre style=\"white-space:pre;overflow-x:auto;line-height:normal;font-family:Menlo,'DejaVu Sans Mono',consolas,'Courier New',monospace\"></pre>\n"
      ],
      "text/plain": []
     },
     "metadata": {},
     "output_type": "display_data"
    },
    {
     "data": {
      "text/plain": [
       "\u001b[1m[\u001b[0m\u001b[32m'Age'\u001b[0m, \u001b[32m'FoodCourt'\u001b[0m, \u001b[32m'RoomService'\u001b[0m, \u001b[32m'ShoppingMall'\u001b[0m, \u001b[32m'Spa'\u001b[0m, \u001b[32m'VRDeck'\u001b[0m\u001b[1m]\u001b[0m"
      ]
     },
     "execution_count": 8,
     "metadata": {},
     "output_type": "execute_result"
    }
   ],
   "source": [
    "numerical_cols"
   ]
  },
  {
   "cell_type": "markdown",
   "metadata": {},
   "source": [
    "## Numeric Columns"
   ]
  },
  {
   "cell_type": "code",
   "execution_count": 9,
   "metadata": {},
   "outputs": [
    {
     "data": {
      "text/html": [
       "<pre style=\"white-space:pre;overflow-x:auto;line-height:normal;font-family:Menlo,'DejaVu Sans Mono',consolas,'Courier New',monospace\"></pre>\n"
      ],
      "text/plain": []
     },
     "metadata": {},
     "output_type": "display_data"
    },
    {
     "data": {
      "text/html": [
       "<div>\n",
       "<style scoped>\n",
       "    .dataframe tbody tr th:only-of-type {\n",
       "        vertical-align: middle;\n",
       "    }\n",
       "\n",
       "    .dataframe tbody tr th {\n",
       "        vertical-align: top;\n",
       "    }\n",
       "\n",
       "    .dataframe thead th {\n",
       "        text-align: right;\n",
       "    }\n",
       "</style>\n",
       "<table border=\"1\" class=\"dataframe\">\n",
       "  <thead>\n",
       "    <tr style=\"text-align: right;\">\n",
       "      <th></th>\n",
       "      <th>Age</th>\n",
       "      <th>FoodCourt</th>\n",
       "      <th>RoomService</th>\n",
       "      <th>ShoppingMall</th>\n",
       "      <th>Spa</th>\n",
       "      <th>VRDeck</th>\n",
       "    </tr>\n",
       "  </thead>\n",
       "  <tbody>\n",
       "    <tr>\n",
       "      <th>0</th>\n",
       "      <td>39.0</td>\n",
       "      <td>0.0</td>\n",
       "      <td>0.0</td>\n",
       "      <td>0.0</td>\n",
       "      <td>0.0</td>\n",
       "      <td>0.0</td>\n",
       "    </tr>\n",
       "    <tr>\n",
       "      <th>1</th>\n",
       "      <td>24.0</td>\n",
       "      <td>9.0</td>\n",
       "      <td>109.0</td>\n",
       "      <td>25.0</td>\n",
       "      <td>549.0</td>\n",
       "      <td>44.0</td>\n",
       "    </tr>\n",
       "    <tr>\n",
       "      <th>2</th>\n",
       "      <td>58.0</td>\n",
       "      <td>3576.0</td>\n",
       "      <td>43.0</td>\n",
       "      <td>0.0</td>\n",
       "      <td>6715.0</td>\n",
       "      <td>49.0</td>\n",
       "    </tr>\n",
       "    <tr>\n",
       "      <th>3</th>\n",
       "      <td>33.0</td>\n",
       "      <td>1283.0</td>\n",
       "      <td>0.0</td>\n",
       "      <td>371.0</td>\n",
       "      <td>3329.0</td>\n",
       "      <td>193.0</td>\n",
       "    </tr>\n",
       "    <tr>\n",
       "      <th>4</th>\n",
       "      <td>16.0</td>\n",
       "      <td>70.0</td>\n",
       "      <td>303.0</td>\n",
       "      <td>151.0</td>\n",
       "      <td>565.0</td>\n",
       "      <td>2.0</td>\n",
       "    </tr>\n",
       "    <tr>\n",
       "      <th>...</th>\n",
       "      <td>...</td>\n",
       "      <td>...</td>\n",
       "      <td>...</td>\n",
       "      <td>...</td>\n",
       "      <td>...</td>\n",
       "      <td>...</td>\n",
       "    </tr>\n",
       "    <tr>\n",
       "      <th>8688</th>\n",
       "      <td>41.0</td>\n",
       "      <td>6819.0</td>\n",
       "      <td>0.0</td>\n",
       "      <td>0.0</td>\n",
       "      <td>1643.0</td>\n",
       "      <td>74.0</td>\n",
       "    </tr>\n",
       "    <tr>\n",
       "      <th>8689</th>\n",
       "      <td>18.0</td>\n",
       "      <td>0.0</td>\n",
       "      <td>0.0</td>\n",
       "      <td>0.0</td>\n",
       "      <td>0.0</td>\n",
       "      <td>0.0</td>\n",
       "    </tr>\n",
       "    <tr>\n",
       "      <th>8690</th>\n",
       "      <td>26.0</td>\n",
       "      <td>0.0</td>\n",
       "      <td>0.0</td>\n",
       "      <td>1872.0</td>\n",
       "      <td>1.0</td>\n",
       "      <td>0.0</td>\n",
       "    </tr>\n",
       "    <tr>\n",
       "      <th>8691</th>\n",
       "      <td>32.0</td>\n",
       "      <td>1049.0</td>\n",
       "      <td>0.0</td>\n",
       "      <td>0.0</td>\n",
       "      <td>353.0</td>\n",
       "      <td>3235.0</td>\n",
       "    </tr>\n",
       "    <tr>\n",
       "      <th>8692</th>\n",
       "      <td>44.0</td>\n",
       "      <td>4688.0</td>\n",
       "      <td>126.0</td>\n",
       "      <td>0.0</td>\n",
       "      <td>0.0</td>\n",
       "      <td>12.0</td>\n",
       "    </tr>\n",
       "  </tbody>\n",
       "</table>\n",
       "<p>8693 rows × 6 columns</p>\n",
       "</div>"
      ],
      "text/plain": [
       "\n",
       "       Age  FoodCourt  RoomService  ShoppingMall     Spa  VRDeck\n",
       "\u001b[1;36m0\u001b[0m     \u001b[1;36m39.0\u001b[0m        \u001b[1;36m0.0\u001b[0m          \u001b[1;36m0.0\u001b[0m           \u001b[1;36m0.0\u001b[0m     \u001b[1;36m0.0\u001b[0m     \u001b[1;36m0.0\u001b[0m\n",
       "\u001b[1;36m1\u001b[0m     \u001b[1;36m24.0\u001b[0m        \u001b[1;36m9.0\u001b[0m        \u001b[1;36m109.0\u001b[0m          \u001b[1;36m25.0\u001b[0m   \u001b[1;36m549.0\u001b[0m    \u001b[1;36m44.0\u001b[0m\n",
       "\u001b[1;36m2\u001b[0m     \u001b[1;36m58.0\u001b[0m     \u001b[1;36m3576.0\u001b[0m         \u001b[1;36m43.0\u001b[0m           \u001b[1;36m0.0\u001b[0m  \u001b[1;36m6715.0\u001b[0m    \u001b[1;36m49.0\u001b[0m\n",
       "\u001b[1;36m3\u001b[0m     \u001b[1;36m33.0\u001b[0m     \u001b[1;36m1283.0\u001b[0m          \u001b[1;36m0.0\u001b[0m         \u001b[1;36m371.0\u001b[0m  \u001b[1;36m3329.0\u001b[0m   \u001b[1;36m193.0\u001b[0m\n",
       "\u001b[1;36m4\u001b[0m     \u001b[1;36m16.0\u001b[0m       \u001b[1;36m70.0\u001b[0m        \u001b[1;36m303.0\u001b[0m         \u001b[1;36m151.0\u001b[0m   \u001b[1;36m565.0\u001b[0m     \u001b[1;36m2.0\u001b[0m\n",
       "\u001b[33m...\u001b[0m    \u001b[33m...\u001b[0m        \u001b[33m...\u001b[0m          \u001b[33m...\u001b[0m           \u001b[33m...\u001b[0m     \u001b[33m...\u001b[0m     \u001b[33m...\u001b[0m\n",
       "\u001b[1;36m8688\u001b[0m  \u001b[1;36m41.0\u001b[0m     \u001b[1;36m6819.0\u001b[0m          \u001b[1;36m0.0\u001b[0m           \u001b[1;36m0.0\u001b[0m  \u001b[1;36m1643.0\u001b[0m    \u001b[1;36m74.0\u001b[0m\n",
       "\u001b[1;36m8689\u001b[0m  \u001b[1;36m18.0\u001b[0m        \u001b[1;36m0.0\u001b[0m          \u001b[1;36m0.0\u001b[0m           \u001b[1;36m0.0\u001b[0m     \u001b[1;36m0.0\u001b[0m     \u001b[1;36m0.0\u001b[0m\n",
       "\u001b[1;36m8690\u001b[0m  \u001b[1;36m26.0\u001b[0m        \u001b[1;36m0.0\u001b[0m          \u001b[1;36m0.0\u001b[0m        \u001b[1;36m1872.0\u001b[0m     \u001b[1;36m1.0\u001b[0m     \u001b[1;36m0.0\u001b[0m\n",
       "\u001b[1;36m8691\u001b[0m  \u001b[1;36m32.0\u001b[0m     \u001b[1;36m1049.0\u001b[0m          \u001b[1;36m0.0\u001b[0m           \u001b[1;36m0.0\u001b[0m   \u001b[1;36m353.0\u001b[0m  \u001b[1;36m3235.0\u001b[0m\n",
       "\u001b[1;36m8692\u001b[0m  \u001b[1;36m44.0\u001b[0m     \u001b[1;36m4688.0\u001b[0m        \u001b[1;36m126.0\u001b[0m           \u001b[1;36m0.0\u001b[0m     \u001b[1;36m0.0\u001b[0m    \u001b[1;36m12.0\u001b[0m\n",
       "\n",
       "\u001b[1m[\u001b[0m\u001b[1;36m8693\u001b[0m rows x \u001b[1;36m6\u001b[0m columns\u001b[1m]\u001b[0m"
      ]
     },
     "execution_count": 9,
     "metadata": {},
     "output_type": "execute_result"
    }
   ],
   "source": [
    "train[numerical_cols]"
   ]
  },
  {
   "cell_type": "code",
   "execution_count": 10,
   "metadata": {},
   "outputs": [
    {
     "data": {
      "text/html": [
       "<pre style=\"white-space:pre;overflow-x:auto;line-height:normal;font-family:Menlo,'DejaVu Sans Mono',consolas,'Courier New',monospace\"></pre>\n"
      ],
      "text/plain": []
     },
     "metadata": {},
     "output_type": "display_data"
    },
    {
     "data": {
      "text/html": [
       "<div>\n",
       "<style scoped>\n",
       "    .dataframe tbody tr th:only-of-type {\n",
       "        vertical-align: middle;\n",
       "    }\n",
       "\n",
       "    .dataframe tbody tr th {\n",
       "        vertical-align: top;\n",
       "    }\n",
       "\n",
       "    .dataframe thead th {\n",
       "        text-align: right;\n",
       "    }\n",
       "</style>\n",
       "<table border=\"1\" class=\"dataframe\">\n",
       "  <thead>\n",
       "    <tr style=\"text-align: right;\">\n",
       "      <th></th>\n",
       "      <th>Age</th>\n",
       "      <th>FoodCourt</th>\n",
       "      <th>RoomService</th>\n",
       "      <th>ShoppingMall</th>\n",
       "      <th>Spa</th>\n",
       "      <th>VRDeck</th>\n",
       "    </tr>\n",
       "  </thead>\n",
       "  <tbody>\n",
       "    <tr>\n",
       "      <th>count</th>\n",
       "      <td>8514.000000</td>\n",
       "      <td>8510.000000</td>\n",
       "      <td>8512.000000</td>\n",
       "      <td>8485.000000</td>\n",
       "      <td>8510.000000</td>\n",
       "      <td>8505.000000</td>\n",
       "    </tr>\n",
       "    <tr>\n",
       "      <th>mean</th>\n",
       "      <td>28.827930</td>\n",
       "      <td>458.077203</td>\n",
       "      <td>224.687617</td>\n",
       "      <td>173.729169</td>\n",
       "      <td>311.138778</td>\n",
       "      <td>304.854791</td>\n",
       "    </tr>\n",
       "    <tr>\n",
       "      <th>std</th>\n",
       "      <td>14.489021</td>\n",
       "      <td>1611.489240</td>\n",
       "      <td>666.717663</td>\n",
       "      <td>604.696458</td>\n",
       "      <td>1136.705535</td>\n",
       "      <td>1145.717189</td>\n",
       "    </tr>\n",
       "    <tr>\n",
       "      <th>min</th>\n",
       "      <td>0.000000</td>\n",
       "      <td>0.000000</td>\n",
       "      <td>0.000000</td>\n",
       "      <td>0.000000</td>\n",
       "      <td>0.000000</td>\n",
       "      <td>0.000000</td>\n",
       "    </tr>\n",
       "    <tr>\n",
       "      <th>25%</th>\n",
       "      <td>19.000000</td>\n",
       "      <td>0.000000</td>\n",
       "      <td>0.000000</td>\n",
       "      <td>0.000000</td>\n",
       "      <td>0.000000</td>\n",
       "      <td>0.000000</td>\n",
       "    </tr>\n",
       "    <tr>\n",
       "      <th>50%</th>\n",
       "      <td>27.000000</td>\n",
       "      <td>0.000000</td>\n",
       "      <td>0.000000</td>\n",
       "      <td>0.000000</td>\n",
       "      <td>0.000000</td>\n",
       "      <td>0.000000</td>\n",
       "    </tr>\n",
       "    <tr>\n",
       "      <th>75%</th>\n",
       "      <td>38.000000</td>\n",
       "      <td>76.000000</td>\n",
       "      <td>47.000000</td>\n",
       "      <td>27.000000</td>\n",
       "      <td>59.000000</td>\n",
       "      <td>46.000000</td>\n",
       "    </tr>\n",
       "    <tr>\n",
       "      <th>max</th>\n",
       "      <td>79.000000</td>\n",
       "      <td>29813.000000</td>\n",
       "      <td>14327.000000</td>\n",
       "      <td>23492.000000</td>\n",
       "      <td>22408.000000</td>\n",
       "      <td>24133.000000</td>\n",
       "    </tr>\n",
       "  </tbody>\n",
       "</table>\n",
       "</div>"
      ],
      "text/plain": [
       "\n",
       "               Age     FoodCourt   RoomService  ShoppingMall           Spa  \\\n",
       "count  \u001b[1;36m8514.000000\u001b[0m   \u001b[1;36m8510.000000\u001b[0m   \u001b[1;36m8512.000000\u001b[0m   \u001b[1;36m8485.000000\u001b[0m   \u001b[1;36m8510.000000\u001b[0m   \n",
       "mean     \u001b[1;36m28.827930\u001b[0m    \u001b[1;36m458.077203\u001b[0m    \u001b[1;36m224.687617\u001b[0m    \u001b[1;36m173.729169\u001b[0m    \u001b[1;36m311.138778\u001b[0m   \n",
       "std      \u001b[1;36m14.489021\u001b[0m   \u001b[1;36m1611.489240\u001b[0m    \u001b[1;36m666.717663\u001b[0m    \u001b[1;36m604.696458\u001b[0m   \u001b[1;36m1136.705535\u001b[0m   \n",
       "min       \u001b[1;36m0.000000\u001b[0m      \u001b[1;36m0.000000\u001b[0m      \u001b[1;36m0.000000\u001b[0m      \u001b[1;36m0.000000\u001b[0m      \u001b[1;36m0.000000\u001b[0m   \n",
       "\u001b[1;36m25\u001b[0m%      \u001b[1;36m19.000000\u001b[0m      \u001b[1;36m0.000000\u001b[0m      \u001b[1;36m0.000000\u001b[0m      \u001b[1;36m0.000000\u001b[0m      \u001b[1;36m0.000000\u001b[0m   \n",
       "\u001b[1;36m50\u001b[0m%      \u001b[1;36m27.000000\u001b[0m      \u001b[1;36m0.000000\u001b[0m      \u001b[1;36m0.000000\u001b[0m      \u001b[1;36m0.000000\u001b[0m      \u001b[1;36m0.000000\u001b[0m   \n",
       "\u001b[1;36m75\u001b[0m%      \u001b[1;36m38.000000\u001b[0m     \u001b[1;36m76.000000\u001b[0m     \u001b[1;36m47.000000\u001b[0m     \u001b[1;36m27.000000\u001b[0m     \u001b[1;36m59.000000\u001b[0m   \n",
       "max      \u001b[1;36m79.000000\u001b[0m  \u001b[1;36m29813.000000\u001b[0m  \u001b[1;36m14327.000000\u001b[0m  \u001b[1;36m23492.000000\u001b[0m  \u001b[1;36m22408.000000\u001b[0m   \n",
       "\n",
       "             VRDeck  \n",
       "count   \u001b[1;36m8505.000000\u001b[0m  \n",
       "mean     \u001b[1;36m304.854791\u001b[0m  \n",
       "std     \u001b[1;36m1145.717189\u001b[0m  \n",
       "min        \u001b[1;36m0.000000\u001b[0m  \n",
       "\u001b[1;36m25\u001b[0m%        \u001b[1;36m0.000000\u001b[0m  \n",
       "\u001b[1;36m50\u001b[0m%        \u001b[1;36m0.000000\u001b[0m  \n",
       "\u001b[1;36m75\u001b[0m%       \u001b[1;36m46.000000\u001b[0m  \n",
       "max    \u001b[1;36m24133.000000\u001b[0m  "
      ]
     },
     "execution_count": 10,
     "metadata": {},
     "output_type": "execute_result"
    }
   ],
   "source": [
    "train[numerical_cols].describe()"
   ]
  },
  {
   "cell_type": "code",
   "execution_count": 11,
   "metadata": {},
   "outputs": [
    {
     "data": {
      "text/html": [
       "<pre style=\"white-space:pre;overflow-x:auto;line-height:normal;font-family:Menlo,'DejaVu Sans Mono',consolas,'Courier New',monospace\"></pre>\n"
      ],
      "text/plain": []
     },
     "metadata": {},
     "output_type": "display_data"
    },
    {
     "data": {
      "text/plain": [
       "\u001b[1m<\u001b[0m\u001b[1;95mAxes:\u001b[0m\u001b[39m \u001b[0m\u001b[1m>\u001b[0m"
      ]
     },
     "execution_count": 11,
     "metadata": {},
     "output_type": "execute_result"
    },
    {
     "data": {
      "text/html": [
       "<pre style=\"white-space:pre;overflow-x:auto;line-height:normal;font-family:Menlo,'DejaVu Sans Mono',consolas,'Courier New',monospace\"></pre>\n"
      ],
      "text/plain": []
     },
     "metadata": {},
     "output_type": "display_data"
    },
    {
     "data": {
      "image/png": "[encoded data removed]",
      "text/plain": [
       "\u001b[1m<\u001b[0m\u001b[1;95mFigure\u001b[0m\u001b[39m size 64\u001b[0m\u001b[1;36m0x480\u001b[0m\u001b[39m with \u001b[0m\u001b[1;36m1\u001b[0m\u001b[39m Axes\u001b[0m\u001b[1m>\u001b[0m"
      ]
     },
     "metadata": {},
     "output_type": "display_data"
    }
   ],
   "source": [
    "train[\"Age\"].hist(bins=20)"
   ]
  },
  {
   "cell_type": "markdown",
   "metadata": {},
   "source": [
    "## Categorical Columns"
   ]
  },
  {
   "cell_type": "code",
   "execution_count": 12,
   "metadata": {},
   "outputs": [
    {
     "data": {
      "text/html": [
       "<pre style=\"white-space:pre;overflow-x:auto;line-height:normal;font-family:Menlo,'DejaVu Sans Mono',consolas,'Courier New',monospace\"></pre>\n"
      ],
      "text/plain": []
     },
     "metadata": {},
     "output_type": "display_data"
    },
    {
     "data": {
      "text/html": [
       "<div>\n",
       "<style scoped>\n",
       "    .dataframe tbody tr th:only-of-type {\n",
       "        vertical-align: middle;\n",
       "    }\n",
       "\n",
       "    .dataframe tbody tr th {\n",
       "        vertical-align: top;\n",
       "    }\n",
       "\n",
       "    .dataframe thead th {\n",
       "        text-align: right;\n",
       "    }\n",
       "</style>\n",
       "<table border=\"1\" class=\"dataframe\">\n",
       "  <thead>\n",
       "    <tr style=\"text-align: right;\">\n",
       "      <th></th>\n",
       "      <th>Cabin</th>\n",
       "      <th>CryoSleep</th>\n",
       "      <th>Destination</th>\n",
       "      <th>HomePlanet</th>\n",
       "      <th>Name</th>\n",
       "      <th>VIP</th>\n",
       "    </tr>\n",
       "  </thead>\n",
       "  <tbody>\n",
       "    <tr>\n",
       "      <th>0</th>\n",
       "      <td>B/0/P</td>\n",
       "      <td>False</td>\n",
       "      <td>TRAPPIST-1e</td>\n",
       "      <td>Europa</td>\n",
       "      <td>Maham Ofracculy</td>\n",
       "      <td>False</td>\n",
       "    </tr>\n",
       "    <tr>\n",
       "      <th>1</th>\n",
       "      <td>F/0/S</td>\n",
       "      <td>False</td>\n",
       "      <td>TRAPPIST-1e</td>\n",
       "      <td>Earth</td>\n",
       "      <td>Juanna Vines</td>\n",
       "      <td>False</td>\n",
       "    </tr>\n",
       "    <tr>\n",
       "      <th>2</th>\n",
       "      <td>A/0/S</td>\n",
       "      <td>False</td>\n",
       "      <td>TRAPPIST-1e</td>\n",
       "      <td>Europa</td>\n",
       "      <td>Altark Susent</td>\n",
       "      <td>True</td>\n",
       "    </tr>\n",
       "    <tr>\n",
       "      <th>3</th>\n",
       "      <td>A/0/S</td>\n",
       "      <td>False</td>\n",
       "      <td>TRAPPIST-1e</td>\n",
       "      <td>Europa</td>\n",
       "      <td>Solam Susent</td>\n",
       "      <td>False</td>\n",
       "    </tr>\n",
       "    <tr>\n",
       "      <th>4</th>\n",
       "      <td>F/1/S</td>\n",
       "      <td>False</td>\n",
       "      <td>TRAPPIST-1e</td>\n",
       "      <td>Earth</td>\n",
       "      <td>Willy Santantines</td>\n",
       "      <td>False</td>\n",
       "    </tr>\n",
       "    <tr>\n",
       "      <th>...</th>\n",
       "      <td>...</td>\n",
       "      <td>...</td>\n",
       "      <td>...</td>\n",
       "      <td>...</td>\n",
       "      <td>...</td>\n",
       "      <td>...</td>\n",
       "    </tr>\n",
       "    <tr>\n",
       "      <th>8688</th>\n",
       "      <td>A/98/P</td>\n",
       "      <td>False</td>\n",
       "      <td>55 Cancri e</td>\n",
       "      <td>Europa</td>\n",
       "      <td>Gravior Noxnuther</td>\n",
       "      <td>True</td>\n",
       "    </tr>\n",
       "    <tr>\n",
       "      <th>8689</th>\n",
       "      <td>G/1499/S</td>\n",
       "      <td>True</td>\n",
       "      <td>PSO J318.5-22</td>\n",
       "      <td>Earth</td>\n",
       "      <td>Kurta Mondalley</td>\n",
       "      <td>False</td>\n",
       "    </tr>\n",
       "    <tr>\n",
       "      <th>8690</th>\n",
       "      <td>G/1500/S</td>\n",
       "      <td>False</td>\n",
       "      <td>TRAPPIST-1e</td>\n",
       "      <td>Earth</td>\n",
       "      <td>Fayey Connon</td>\n",
       "      <td>False</td>\n",
       "    </tr>\n",
       "    <tr>\n",
       "      <th>8691</th>\n",
       "      <td>E/608/S</td>\n",
       "      <td>False</td>\n",
       "      <td>55 Cancri e</td>\n",
       "      <td>Europa</td>\n",
       "      <td>Celeon Hontichre</td>\n",
       "      <td>False</td>\n",
       "    </tr>\n",
       "    <tr>\n",
       "      <th>8692</th>\n",
       "      <td>E/608/S</td>\n",
       "      <td>False</td>\n",
       "      <td>TRAPPIST-1e</td>\n",
       "      <td>Europa</td>\n",
       "      <td>Propsh Hontichre</td>\n",
       "      <td>False</td>\n",
       "    </tr>\n",
       "  </tbody>\n",
       "</table>\n",
       "<p>8693 rows × 6 columns</p>\n",
       "</div>"
      ],
      "text/plain": [
       "\n",
       "         Cabin CryoSleep    Destination HomePlanet               Name    VIP\n",
       "\u001b[1;36m0\u001b[0m        B/\u001b[1;36m0\u001b[0m/P     \u001b[3;91mFalse\u001b[0m    TRAPPIST-1e     Europa    Maham Ofracculy  \u001b[3;91mFalse\u001b[0m\n",
       "\u001b[1;36m1\u001b[0m        F/\u001b[1;36m0\u001b[0m/S     \u001b[3;91mFalse\u001b[0m    TRAPPIST-1e      Earth       Juanna Vines  \u001b[3;91mFalse\u001b[0m\n",
       "\u001b[1;36m2\u001b[0m        A/\u001b[1;36m0\u001b[0m/S     \u001b[3;91mFalse\u001b[0m    TRAPPIST-1e     Europa      Altark Susent   \u001b[3;92mTrue\u001b[0m\n",
       "\u001b[1;36m3\u001b[0m        A/\u001b[1;36m0\u001b[0m/S     \u001b[3;91mFalse\u001b[0m    TRAPPIST-1e     Europa       Solam Susent  \u001b[3;91mFalse\u001b[0m\n",
       "\u001b[1;36m4\u001b[0m        F/\u001b[1;36m1\u001b[0m/S     \u001b[3;91mFalse\u001b[0m    TRAPPIST-1e      Earth  Willy Santantines  \u001b[3;91mFalse\u001b[0m\n",
       "\u001b[33m...\u001b[0m        \u001b[33m...\u001b[0m       \u001b[33m...\u001b[0m            \u001b[33m...\u001b[0m        \u001b[33m...\u001b[0m                \u001b[33m...\u001b[0m    \u001b[33m...\u001b[0m\n",
       "\u001b[1;36m8688\u001b[0m    A/\u001b[1;36m98\u001b[0m/P     \u001b[3;91mFalse\u001b[0m    \u001b[1;36m55\u001b[0m Cancri e     Europa  Gravior Noxnuther   \u001b[3;92mTrue\u001b[0m\n",
       "\u001b[1;36m8689\u001b[0m  G/\u001b[1;36m1499\u001b[0m/S      \u001b[3;92mTrue\u001b[0m  PSO J318.\u001b[1;36m5\u001b[0m-\u001b[1;36m22\u001b[0m      Earth    Kurta Mondalley  \u001b[3;91mFalse\u001b[0m\n",
       "\u001b[1;36m8690\u001b[0m  G/\u001b[1;36m1500\u001b[0m/S     \u001b[3;91mFalse\u001b[0m    TRAPPIST-1e      Earth       Fayey Connon  \u001b[3;91mFalse\u001b[0m\n",
       "\u001b[1;36m8691\u001b[0m   E/\u001b[1;36m608\u001b[0m/S     \u001b[3;91mFalse\u001b[0m    \u001b[1;36m55\u001b[0m Cancri e     Europa   Celeon Hontichre  \u001b[3;91mFalse\u001b[0m\n",
       "\u001b[1;36m8692\u001b[0m   E/\u001b[1;36m608\u001b[0m/S     \u001b[3;91mFalse\u001b[0m    TRAPPIST-1e     Europa   Propsh Hontichre  \u001b[3;91mFalse\u001b[0m\n",
       "\n",
       "\u001b[1m[\u001b[0m\u001b[1;36m8693\u001b[0m rows x \u001b[1;36m6\u001b[0m columns\u001b[1m]\u001b[0m"
      ]
     },
     "execution_count": 12,
     "metadata": {},
     "output_type": "execute_result"
    }
   ],
   "source": [
    "train[categorical_cols]"
   ]
  },
  {
   "cell_type": "markdown",
   "metadata": {},
   "source": [
    "### Cabin Handling\n",
    "\n",
    "`Cabin` - The cabin number where the passenger is staying. Takes the form _deck/number/side_, where _side_ can be either `P`\n",
    "for _Port_ or `S` for _Starboard_."
   ]
  },
  {
   "cell_type": "code",
   "execution_count": 13,
   "metadata": {},
   "outputs": [
    {
     "data": {
      "text/html": [
       "<pre style=\"white-space:pre;overflow-x:auto;line-height:normal;font-family:Menlo,'DejaVu Sans Mono',consolas,'Courier New',monospace\"></pre>\n"
      ],
      "text/plain": []
     },
     "metadata": {},
     "output_type": "display_data"
    },
    {
     "data": {
      "text/plain": [
       "\u001b[32m'B/0/P'\u001b[0m"
      ]
     },
     "execution_count": 13,
     "metadata": {},
     "output_type": "execute_result"
    }
   ],
   "source": [
    "train[\"Cabin\"].values[0]"
   ]
  },
  {
   "cell_type": "code",
   "execution_count": 14,
   "metadata": {},
   "outputs": [
    {
     "data": {
      "text/html": [
       "<pre style=\"white-space:pre;overflow-x:auto;line-height:normal;font-family:Menlo,'DejaVu Sans Mono',consolas,'Courier New',monospace\"></pre>\n"
      ],
      "text/plain": []
     },
     "metadata": {},
     "output_type": "display_data"
    },
    {
     "data": {
      "text/plain": [
       "\n",
       "CabinDeck\n",
       "F    \u001b[1;36m2794\u001b[0m\n",
       "G    \u001b[1;36m2559\u001b[0m\n",
       "E     \u001b[1;36m876\u001b[0m\n",
       "B     \u001b[1;36m779\u001b[0m\n",
       "C     \u001b[1;36m747\u001b[0m\n",
       "D     \u001b[1;36m478\u001b[0m\n",
       "A     \u001b[1;36m256\u001b[0m\n",
       "T       \u001b[1;36m5\u001b[0m\n",
       "Name: count, dtype: int64"
      ]
     },
     "execution_count": 14,
     "metadata": {},
     "output_type": "execute_result"
    }
   ],
   "source": [
    "train[[\"CabinDeck\", \"CabinNumber\", \"CabinSide\"]] = train[\"Cabin\"].str.split(\n",
    "    \"/\", expand=True\n",
    ")\n",
    "train[\"CabinDeck\"].value_counts()"
   ]
  },
  {
   "cell_type": "code",
   "execution_count": 15,
   "metadata": {},
   "outputs": [
    {
     "data": {
      "text/html": [
       "<pre style=\"white-space:pre;overflow-x:auto;line-height:normal;font-family:Menlo,'DejaVu Sans Mono',consolas,'Courier New',monospace\"></pre>\n"
      ],
      "text/plain": []
     },
     "metadata": {},
     "output_type": "display_data"
    },
    {
     "data": {
      "text/html": [
       "<div>\n",
       "<style scoped>\n",
       "    .dataframe tbody tr th:only-of-type {\n",
       "        vertical-align: middle;\n",
       "    }\n",
       "\n",
       "    .dataframe tbody tr th {\n",
       "        vertical-align: top;\n",
       "    }\n",
       "\n",
       "    .dataframe thead th {\n",
       "        text-align: right;\n",
       "    }\n",
       "</style>\n",
       "<table border=\"1\" class=\"dataframe\">\n",
       "  <thead>\n",
       "    <tr style=\"text-align: right;\">\n",
       "      <th></th>\n",
       "      <th>CabinNumber</th>\n",
       "      <th>PeopleInCabinNumber</th>\n",
       "    </tr>\n",
       "  </thead>\n",
       "  <tbody>\n",
       "    <tr>\n",
       "      <th>0</th>\n",
       "      <td>0</td>\n",
       "      <td>18</td>\n",
       "    </tr>\n",
       "    <tr>\n",
       "      <th>1</th>\n",
       "      <td>1</td>\n",
       "      <td>15</td>\n",
       "    </tr>\n",
       "    <tr>\n",
       "      <th>2</th>\n",
       "      <td>10</td>\n",
       "      <td>12</td>\n",
       "    </tr>\n",
       "    <tr>\n",
       "      <th>3</th>\n",
       "      <td>100</td>\n",
       "      <td>12</td>\n",
       "    </tr>\n",
       "    <tr>\n",
       "      <th>4</th>\n",
       "      <td>1000</td>\n",
       "      <td>6</td>\n",
       "    </tr>\n",
       "    <tr>\n",
       "      <th>...</th>\n",
       "      <td>...</td>\n",
       "      <td>...</td>\n",
       "    </tr>\n",
       "    <tr>\n",
       "      <th>1812</th>\n",
       "      <td>995</td>\n",
       "      <td>3</td>\n",
       "    </tr>\n",
       "    <tr>\n",
       "      <th>1813</th>\n",
       "      <td>996</td>\n",
       "      <td>1</td>\n",
       "    </tr>\n",
       "    <tr>\n",
       "      <th>1814</th>\n",
       "      <td>997</td>\n",
       "      <td>2</td>\n",
       "    </tr>\n",
       "    <tr>\n",
       "      <th>1815</th>\n",
       "      <td>998</td>\n",
       "      <td>4</td>\n",
       "    </tr>\n",
       "    <tr>\n",
       "      <th>1816</th>\n",
       "      <td>999</td>\n",
       "      <td>6</td>\n",
       "    </tr>\n",
       "  </tbody>\n",
       "</table>\n",
       "<p>1817 rows × 2 columns</p>\n",
       "</div>"
      ],
      "text/plain": [
       "\n",
       "     CabinNumber  PeopleInCabinNumber\n",
       "\u001b[1;36m0\u001b[0m              \u001b[1;36m0\u001b[0m                   \u001b[1;36m18\u001b[0m\n",
       "\u001b[1;36m1\u001b[0m              \u001b[1;36m1\u001b[0m                   \u001b[1;36m15\u001b[0m\n",
       "\u001b[1;36m2\u001b[0m             \u001b[1;36m10\u001b[0m                   \u001b[1;36m12\u001b[0m\n",
       "\u001b[1;36m3\u001b[0m            \u001b[1;36m100\u001b[0m                   \u001b[1;36m12\u001b[0m\n",
       "\u001b[1;36m4\u001b[0m           \u001b[1;36m1000\u001b[0m                    \u001b[1;36m6\u001b[0m\n",
       "\u001b[33m...\u001b[0m          \u001b[33m...\u001b[0m                  \u001b[33m...\u001b[0m\n",
       "\u001b[1;36m1812\u001b[0m         \u001b[1;36m995\u001b[0m                    \u001b[1;36m3\u001b[0m\n",
       "\u001b[1;36m1813\u001b[0m         \u001b[1;36m996\u001b[0m                    \u001b[1;36m1\u001b[0m\n",
       "\u001b[1;36m1814\u001b[0m         \u001b[1;36m997\u001b[0m                    \u001b[1;36m2\u001b[0m\n",
       "\u001b[1;36m1815\u001b[0m         \u001b[1;36m998\u001b[0m                    \u001b[1;36m4\u001b[0m\n",
       "\u001b[1;36m1816\u001b[0m         \u001b[1;36m999\u001b[0m                    \u001b[1;36m6\u001b[0m\n",
       "\n",
       "\u001b[1m[\u001b[0m\u001b[1;36m1817\u001b[0m rows x \u001b[1;36m2\u001b[0m columns\u001b[1m]\u001b[0m"
      ]
     },
     "execution_count": 15,
     "metadata": {},
     "output_type": "execute_result"
    }
   ],
   "source": [
    "cabin_num_counts = (\n",
    "    train.groupby(\"CabinNumber\")[[\"CabinDeck\"]]\n",
    "    .count()\n",
    "    .reset_index()\n",
    "    .rename(columns={\"CabinDeck\": \"PeopleInCabinNumber\"})\n",
    ")\n",
    "cabin_num_counts"
   ]
  },
  {
   "cell_type": "code",
   "execution_count": 16,
   "metadata": {},
   "outputs": [
    {
     "data": {
      "text/html": [
       "<pre style=\"white-space:pre;overflow-x:auto;line-height:normal;font-family:Menlo,'DejaVu Sans Mono',consolas,'Courier New',monospace\"></pre>\n"
      ],
      "text/plain": []
     },
     "metadata": {},
     "output_type": "display_data"
    },
    {
     "data": {
      "text/html": [
       "<div>\n",
       "<style scoped>\n",
       "    .dataframe tbody tr th:only-of-type {\n",
       "        vertical-align: middle;\n",
       "    }\n",
       "\n",
       "    .dataframe tbody tr th {\n",
       "        vertical-align: top;\n",
       "    }\n",
       "\n",
       "    .dataframe thead th {\n",
       "        text-align: right;\n",
       "    }\n",
       "</style>\n",
       "<table border=\"1\" class=\"dataframe\">\n",
       "  <thead>\n",
       "    <tr style=\"text-align: right;\">\n",
       "      <th></th>\n",
       "      <th>CabinDeck</th>\n",
       "      <th>PeopleInCabinDeck</th>\n",
       "    </tr>\n",
       "  </thead>\n",
       "  <tbody>\n",
       "    <tr>\n",
       "      <th>0</th>\n",
       "      <td>A</td>\n",
       "      <td>256</td>\n",
       "    </tr>\n",
       "    <tr>\n",
       "      <th>1</th>\n",
       "      <td>B</td>\n",
       "      <td>779</td>\n",
       "    </tr>\n",
       "    <tr>\n",
       "      <th>2</th>\n",
       "      <td>C</td>\n",
       "      <td>747</td>\n",
       "    </tr>\n",
       "    <tr>\n",
       "      <th>3</th>\n",
       "      <td>D</td>\n",
       "      <td>478</td>\n",
       "    </tr>\n",
       "    <tr>\n",
       "      <th>4</th>\n",
       "      <td>E</td>\n",
       "      <td>876</td>\n",
       "    </tr>\n",
       "    <tr>\n",
       "      <th>5</th>\n",
       "      <td>F</td>\n",
       "      <td>2794</td>\n",
       "    </tr>\n",
       "    <tr>\n",
       "      <th>6</th>\n",
       "      <td>G</td>\n",
       "      <td>2559</td>\n",
       "    </tr>\n",
       "    <tr>\n",
       "      <th>7</th>\n",
       "      <td>T</td>\n",
       "      <td>5</td>\n",
       "    </tr>\n",
       "  </tbody>\n",
       "</table>\n",
       "</div>"
      ],
      "text/plain": [
       "\n",
       "  CabinDeck  PeopleInCabinDeck\n",
       "\u001b[1;36m0\u001b[0m         A                \u001b[1;36m256\u001b[0m\n",
       "\u001b[1;36m1\u001b[0m         B                \u001b[1;36m779\u001b[0m\n",
       "\u001b[1;36m2\u001b[0m         C                \u001b[1;36m747\u001b[0m\n",
       "\u001b[1;36m3\u001b[0m         D                \u001b[1;36m478\u001b[0m\n",
       "\u001b[1;36m4\u001b[0m         E                \u001b[1;36m876\u001b[0m\n",
       "\u001b[1;36m5\u001b[0m         F               \u001b[1;36m2794\u001b[0m\n",
       "\u001b[1;36m6\u001b[0m         G               \u001b[1;36m2559\u001b[0m\n",
       "\u001b[1;36m7\u001b[0m         T                  \u001b[1;36m5\u001b[0m"
      ]
     },
     "execution_count": 16,
     "metadata": {},
     "output_type": "execute_result"
    }
   ],
   "source": [
    "cabin_deck_counts = (\n",
    "    train.groupby(\"CabinDeck\")[[\"CabinNumber\"]]\n",
    "    .count()\n",
    "    .reset_index()\n",
    "    .rename(columns={\"CabinNumber\": \"PeopleInCabinDeck\"})\n",
    ")\n",
    "cabin_deck_counts"
   ]
  },
  {
   "cell_type": "markdown",
   "metadata": {},
   "source": [
    "## Exploring Names"
   ]
  },
  {
   "cell_type": "code",
   "execution_count": 17,
   "metadata": {},
   "outputs": [
    {
     "data": {
      "text/html": [
       "<pre style=\"white-space:pre;overflow-x:auto;line-height:normal;font-family:Menlo,'DejaVu Sans Mono',consolas,'Courier New',monospace\"></pre>\n"
      ],
      "text/plain": []
     },
     "metadata": {},
     "output_type": "display_data"
    },
    {
     "data": {
      "text/html": [
       "<div>\n",
       "<style scoped>\n",
       "    .dataframe tbody tr th:only-of-type {\n",
       "        vertical-align: middle;\n",
       "    }\n",
       "\n",
       "    .dataframe tbody tr th {\n",
       "        vertical-align: top;\n",
       "    }\n",
       "\n",
       "    .dataframe thead th {\n",
       "        text-align: right;\n",
       "    }\n",
       "</style>\n",
       "<table border=\"1\" class=\"dataframe\">\n",
       "  <thead>\n",
       "    <tr style=\"text-align: right;\">\n",
       "      <th></th>\n",
       "      <th>Cabin</th>\n",
       "      <th>CryoSleep</th>\n",
       "      <th>Destination</th>\n",
       "      <th>HomePlanet</th>\n",
       "      <th>Name</th>\n",
       "      <th>VIP</th>\n",
       "    </tr>\n",
       "  </thead>\n",
       "  <tbody>\n",
       "    <tr>\n",
       "      <th>0</th>\n",
       "      <td>B/0/P</td>\n",
       "      <td>False</td>\n",
       "      <td>TRAPPIST-1e</td>\n",
       "      <td>Europa</td>\n",
       "      <td>Maham Ofracculy</td>\n",
       "      <td>False</td>\n",
       "    </tr>\n",
       "    <tr>\n",
       "      <th>1</th>\n",
       "      <td>F/0/S</td>\n",
       "      <td>False</td>\n",
       "      <td>TRAPPIST-1e</td>\n",
       "      <td>Earth</td>\n",
       "      <td>Juanna Vines</td>\n",
       "      <td>False</td>\n",
       "    </tr>\n",
       "    <tr>\n",
       "      <th>2</th>\n",
       "      <td>A/0/S</td>\n",
       "      <td>False</td>\n",
       "      <td>TRAPPIST-1e</td>\n",
       "      <td>Europa</td>\n",
       "      <td>Altark Susent</td>\n",
       "      <td>True</td>\n",
       "    </tr>\n",
       "    <tr>\n",
       "      <th>3</th>\n",
       "      <td>A/0/S</td>\n",
       "      <td>False</td>\n",
       "      <td>TRAPPIST-1e</td>\n",
       "      <td>Europa</td>\n",
       "      <td>Solam Susent</td>\n",
       "      <td>False</td>\n",
       "    </tr>\n",
       "    <tr>\n",
       "      <th>4</th>\n",
       "      <td>F/1/S</td>\n",
       "      <td>False</td>\n",
       "      <td>TRAPPIST-1e</td>\n",
       "      <td>Earth</td>\n",
       "      <td>Willy Santantines</td>\n",
       "      <td>False</td>\n",
       "    </tr>\n",
       "  </tbody>\n",
       "</table>\n",
       "</div>"
      ],
      "text/plain": [
       "\n",
       "   Cabin CryoSleep  Destination HomePlanet               Name    VIP\n",
       "\u001b[1;36m0\u001b[0m  B/\u001b[1;36m0\u001b[0m/P     \u001b[3;91mFalse\u001b[0m  TRAPPIST-1e     Europa    Maham Ofracculy  \u001b[3;91mFalse\u001b[0m\n",
       "\u001b[1;36m1\u001b[0m  F/\u001b[1;36m0\u001b[0m/S     \u001b[3;91mFalse\u001b[0m  TRAPPIST-1e      Earth       Juanna Vines  \u001b[3;91mFalse\u001b[0m\n",
       "\u001b[1;36m2\u001b[0m  A/\u001b[1;36m0\u001b[0m/S     \u001b[3;91mFalse\u001b[0m  TRAPPIST-1e     Europa      Altark Susent   \u001b[3;92mTrue\u001b[0m\n",
       "\u001b[1;36m3\u001b[0m  A/\u001b[1;36m0\u001b[0m/S     \u001b[3;91mFalse\u001b[0m  TRAPPIST-1e     Europa       Solam Susent  \u001b[3;91mFalse\u001b[0m\n",
       "\u001b[1;36m4\u001b[0m  F/\u001b[1;36m1\u001b[0m/S     \u001b[3;91mFalse\u001b[0m  TRAPPIST-1e      Earth  Willy Santantines  \u001b[3;91mFalse\u001b[0m"
      ]
     },
     "execution_count": 17,
     "metadata": {},
     "output_type": "execute_result"
    }
   ],
   "source": [
    "train[categorical_cols].head()"
   ]
  },
  {
   "cell_type": "code",
   "execution_count": 18,
   "metadata": {},
   "outputs": [
    {
     "data": {
      "text/html": [
       "<pre style=\"white-space:pre;overflow-x:auto;line-height:normal;font-family:Menlo,'DejaVu Sans Mono',consolas,'Courier New',monospace\"></pre>\n"
      ],
      "text/plain": []
     },
     "metadata": {},
     "output_type": "display_data"
    },
    {
     "data": {
      "text/plain": [
       "\n",
       "\u001b[1;36m2\u001b[0m    \u001b[1;36m8493\u001b[0m\n",
       "Name: count, dtype: int64"
      ]
     },
     "execution_count": 18,
     "metadata": {},
     "output_type": "execute_result"
    }
   ],
   "source": [
    "# Count number of first names\n",
    "pd.Series(\n",
    "    [\n",
    "        np.array(l).shape[0]\n",
    "        for l in train[\"Name\"].str.split(\" \").values\n",
    "        if np.array(l).shape\n",
    "    ]\n",
    ").value_counts()"
   ]
  },
  {
   "cell_type": "markdown",
   "metadata": {},
   "source": [
    "Name consists of first name and last name."
   ]
  },
  {
   "cell_type": "code",
   "execution_count": 19,
   "metadata": {},
   "outputs": [
    {
     "data": {
      "text/html": [
       "<pre style=\"white-space:pre;overflow-x:auto;line-height:normal;font-family:Menlo,'DejaVu Sans Mono',consolas,'Courier New',monospace\"></pre>\n"
      ],
      "text/plain": []
     },
     "metadata": {},
     "output_type": "display_data"
    },
    {
     "data": {
      "text/plain": [
       "\n",
       "LastName\n",
       "Casonston     \u001b[1;36m18\u001b[0m\n",
       "Oneiles       \u001b[1;36m16\u001b[0m\n",
       "Domington     \u001b[1;36m15\u001b[0m\n",
       "Litthews      \u001b[1;36m15\u001b[0m\n",
       "Browlerson    \u001b[1;36m14\u001b[0m\n",
       "              ..\n",
       "Covale         \u001b[1;36m1\u001b[0m\n",
       "Dun            \u001b[1;36m1\u001b[0m\n",
       "Witalnerod     \u001b[1;36m1\u001b[0m\n",
       "Deryplinet     \u001b[1;36m1\u001b[0m\n",
       "Sionerorly     \u001b[1;36m1\u001b[0m\n",
       "Name: count, Length: \u001b[1;36m2217\u001b[0m, dtype: int64"
      ]
     },
     "execution_count": 19,
     "metadata": {},
     "output_type": "execute_result"
    }
   ],
   "source": [
    "train[\"LastName\"] = train[\"Name\"].str.split(\" \").str[1]\n",
    "train[\"LastName\"].value_counts()"
   ]
  },
  {
   "cell_type": "code",
   "execution_count": 20,
   "metadata": {},
   "outputs": [
    {
     "data": {
      "text/html": [
       "<pre style=\"white-space:pre;overflow-x:auto;line-height:normal;font-family:Menlo,'DejaVu Sans Mono',consolas,'Courier New',monospace\"></pre>\n"
      ],
      "text/plain": []
     },
     "metadata": {},
     "output_type": "display_data"
    },
    {
     "data": {
      "text/html": [
       "<div>\n",
       "<style scoped>\n",
       "    .dataframe tbody tr th:only-of-type {\n",
       "        vertical-align: middle;\n",
       "    }\n",
       "\n",
       "    .dataframe tbody tr th {\n",
       "        vertical-align: top;\n",
       "    }\n",
       "\n",
       "    .dataframe thead th {\n",
       "        text-align: right;\n",
       "    }\n",
       "</style>\n",
       "<table border=\"1\" class=\"dataframe\">\n",
       "  <thead>\n",
       "    <tr style=\"text-align: right;\">\n",
       "      <th></th>\n",
       "      <th>LastName</th>\n",
       "      <th>FamilySize</th>\n",
       "    </tr>\n",
       "  </thead>\n",
       "  <tbody>\n",
       "    <tr>\n",
       "      <th>0</th>\n",
       "      <td>Acobson</td>\n",
       "      <td>4</td>\n",
       "    </tr>\n",
       "    <tr>\n",
       "      <th>1</th>\n",
       "      <td>Acobsond</td>\n",
       "      <td>3</td>\n",
       "    </tr>\n",
       "    <tr>\n",
       "      <th>2</th>\n",
       "      <td>Adavisons</td>\n",
       "      <td>9</td>\n",
       "    </tr>\n",
       "    <tr>\n",
       "      <th>3</th>\n",
       "      <td>Adkinson</td>\n",
       "      <td>3</td>\n",
       "    </tr>\n",
       "    <tr>\n",
       "      <th>4</th>\n",
       "      <td>Admingried</td>\n",
       "      <td>4</td>\n",
       "    </tr>\n",
       "    <tr>\n",
       "      <th>...</th>\n",
       "      <td>...</td>\n",
       "      <td>...</td>\n",
       "    </tr>\n",
       "    <tr>\n",
       "      <th>2212</th>\n",
       "      <td>Wynneyerson</td>\n",
       "      <td>2</td>\n",
       "    </tr>\n",
       "    <tr>\n",
       "      <th>2213</th>\n",
       "      <td>Yanton</td>\n",
       "      <td>7</td>\n",
       "    </tr>\n",
       "    <tr>\n",
       "      <th>2214</th>\n",
       "      <td>Yatters</td>\n",
       "      <td>4</td>\n",
       "    </tr>\n",
       "    <tr>\n",
       "      <th>2215</th>\n",
       "      <td>Yorkland</td>\n",
       "      <td>11</td>\n",
       "    </tr>\n",
       "    <tr>\n",
       "      <th>2216</th>\n",
       "      <td>Youngrayes</td>\n",
       "      <td>3</td>\n",
       "    </tr>\n",
       "  </tbody>\n",
       "</table>\n",
       "<p>2217 rows × 2 columns</p>\n",
       "</div>"
      ],
      "text/plain": [
       "\n",
       "         LastName  FamilySize\n",
       "\u001b[1;36m0\u001b[0m         Acobson           \u001b[1;36m4\u001b[0m\n",
       "\u001b[1;36m1\u001b[0m        Acobsond           \u001b[1;36m3\u001b[0m\n",
       "\u001b[1;36m2\u001b[0m       Adavisons           \u001b[1;36m9\u001b[0m\n",
       "\u001b[1;36m3\u001b[0m        Adkinson           \u001b[1;36m3\u001b[0m\n",
       "\u001b[1;36m4\u001b[0m      Admingried           \u001b[1;36m4\u001b[0m\n",
       "\u001b[33m...\u001b[0m           \u001b[33m...\u001b[0m         \u001b[33m...\u001b[0m\n",
       "\u001b[1;36m2212\u001b[0m  Wynneyerson           \u001b[1;36m2\u001b[0m\n",
       "\u001b[1;36m2213\u001b[0m       Yanton           \u001b[1;36m7\u001b[0m\n",
       "\u001b[1;36m2214\u001b[0m      Yatters           \u001b[1;36m4\u001b[0m\n",
       "\u001b[1;36m2215\u001b[0m     Yorkland          \u001b[1;36m11\u001b[0m\n",
       "\u001b[1;36m2216\u001b[0m   Youngrayes           \u001b[1;36m3\u001b[0m\n",
       "\n",
       "\u001b[1m[\u001b[0m\u001b[1;36m2217\u001b[0m rows x \u001b[1;36m2\u001b[0m columns\u001b[1m]\u001b[0m"
      ]
     },
     "execution_count": 20,
     "metadata": {},
     "output_type": "execute_result"
    }
   ],
   "source": [
    "family_size = (\n",
    "    train.groupby(\"LastName\")[[\"Name\"]]\n",
    "    .count()\n",
    "    .reset_index()\n",
    "    .rename(columns={\"Name\": \"FamilySize\"})\n",
    ")\n",
    "family_size"
   ]
  },
  {
   "cell_type": "code",
   "execution_count": null,
   "metadata": {},
   "outputs": [],
   "source": []
  }
 ],
 "metadata": {
  "kernelspec": {
   "display_name": "anomaly-detection-pipeline-kedro",
   "language": "python",
   "name": "python3"
  },
  "language_info": {
   "codemirror_mode": {
    "name": "ipython",
    "version": 3
   },
   "file_extension": ".py",
   "mimetype": "text/x-python",
   "name": "python",
   "nbconvert_exporter": "python",
   "pygments_lexer": "ipython3",
   "version": "3.11.8"
  }
 },
 "nbformat": 4,
 "nbformat_minor": 2
}
