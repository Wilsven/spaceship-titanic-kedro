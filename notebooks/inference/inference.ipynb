{
 "cells": [
  {
   "cell_type": "code",
   "execution_count": 1,
   "metadata": {},
   "outputs": [
    {
     "data": {
      "text/html": [
       "<pre style=\"white-space:pre;overflow-x:auto;line-height:normal;font-family:Menlo,'DejaVu Sans Mono',consolas,'Courier New',monospace\"><span style=\"color: #7fbfbf; text-decoration-color: #7fbfbf\">[04/01/24 12:29:58] </span><span style=\"color: #000080; text-decoration-color: #000080\">INFO    </span> Registered line magic <span style=\"color: #008000; text-decoration-color: #008000\">'%reload_kedro'</span>                                   <a href=\"file:///Users/wilsvenleong/anaconda3/envs/anomaly-detection-pipeline-kedro/lib/python3.11/site-packages/kedro/ipython/__init__.py\" target=\"_blank\"><span style=\"color: #7f7f7f; text-decoration-color: #7f7f7f\">__init__.py</span></a><span style=\"color: #7f7f7f; text-decoration-color: #7f7f7f\">:</span><a href=\"file:///Users/wilsvenleong/anaconda3/envs/anomaly-detection-pipeline-kedro/lib/python3.11/site-packages/kedro/ipython/__init__.py#51\" target=\"_blank\"><span style=\"color: #7f7f7f; text-decoration-color: #7f7f7f\">51</span></a>\n",
       "</pre>\n"
      ],
      "text/plain": [
       "\u001b[2;36m[04/01/24 12:29:58]\u001b[0m\u001b[2;36m \u001b[0m\u001b[34mINFO    \u001b[0m Registered line magic \u001b[32m'%reload_kedro'\u001b[0m                                   \u001b]8;id=371195;file:///Users/wilsvenleong/anaconda3/envs/anomaly-detection-pipeline-kedro/lib/python3.11/site-packages/kedro/ipython/__init__.py\u001b\\\u001b[2m__init__.py\u001b[0m\u001b]8;;\u001b\\\u001b[2m:\u001b[0m\u001b]8;id=214046;file:///Users/wilsvenleong/anaconda3/envs/anomaly-detection-pipeline-kedro/lib/python3.11/site-packages/kedro/ipython/__init__.py#51\u001b\\\u001b[2m51\u001b[0m\u001b]8;;\u001b\\\n"
      ]
     },
     "metadata": {},
     "output_type": "display_data"
    },
    {
     "data": {
      "text/html": [
       "<pre style=\"white-space:pre;overflow-x:auto;line-height:normal;font-family:Menlo,'DejaVu Sans Mono',consolas,'Courier New',monospace\"><span style=\"color: #7fbfbf; text-decoration-color: #7fbfbf\">                    </span><span style=\"color: #000080; text-decoration-color: #000080\">INFO    </span> Registered line magic <span style=\"color: #008000; text-decoration-color: #008000\">'%load_node'</span>                                      <a href=\"file:///Users/wilsvenleong/anaconda3/envs/anomaly-detection-pipeline-kedro/lib/python3.11/site-packages/kedro/ipython/__init__.py\" target=\"_blank\"><span style=\"color: #7f7f7f; text-decoration-color: #7f7f7f\">__init__.py</span></a><span style=\"color: #7f7f7f; text-decoration-color: #7f7f7f\">:</span><a href=\"file:///Users/wilsvenleong/anaconda3/envs/anomaly-detection-pipeline-kedro/lib/python3.11/site-packages/kedro/ipython/__init__.py#53\" target=\"_blank\"><span style=\"color: #7f7f7f; text-decoration-color: #7f7f7f\">53</span></a>\n",
       "</pre>\n"
      ],
      "text/plain": [
       "\u001b[2;36m                   \u001b[0m\u001b[2;36m \u001b[0m\u001b[34mINFO    \u001b[0m Registered line magic \u001b[32m'%load_node'\u001b[0m                                      \u001b]8;id=565438;file:///Users/wilsvenleong/anaconda3/envs/anomaly-detection-pipeline-kedro/lib/python3.11/site-packages/kedro/ipython/__init__.py\u001b\\\u001b[2m__init__.py\u001b[0m\u001b]8;;\u001b\\\u001b[2m:\u001b[0m\u001b]8;id=307648;file:///Users/wilsvenleong/anaconda3/envs/anomaly-detection-pipeline-kedro/lib/python3.11/site-packages/kedro/ipython/__init__.py#53\u001b\\\u001b[2m53\u001b[0m\u001b]8;;\u001b\\\n"
      ]
     },
     "metadata": {},
     "output_type": "display_data"
    },
    {
     "data": {
      "text/html": [
       "<pre style=\"white-space:pre;overflow-x:auto;line-height:normal;font-family:Menlo,'DejaVu Sans Mono',consolas,'Courier New',monospace\"><span style=\"color: #7fbfbf; text-decoration-color: #7fbfbf\">                    </span><span style=\"color: #000080; text-decoration-color: #000080\">INFO    </span> Resolved project path as:                                              <a href=\"file:///Users/wilsvenleong/anaconda3/envs/anomaly-detection-pipeline-kedro/lib/python3.11/site-packages/kedro/ipython/__init__.py\" target=\"_blank\"><span style=\"color: #7f7f7f; text-decoration-color: #7f7f7f\">__init__.py</span></a><span style=\"color: #7f7f7f; text-decoration-color: #7f7f7f\">:</span><a href=\"file:///Users/wilsvenleong/anaconda3/envs/anomaly-detection-pipeline-kedro/lib/python3.11/site-packages/kedro/ipython/__init__.py#164\" target=\"_blank\"><span style=\"color: #7f7f7f; text-decoration-color: #7f7f7f\">164</span></a>\n",
       "<span style=\"color: #7fbfbf; text-decoration-color: #7fbfbf\">                    </span>         <span style=\"color: #800080; text-decoration-color: #800080\">/Users/wilsvenleong/Downloads/learning-materials/</span><span style=\"color: #ff00ff; text-decoration-color: #ff00ff\">spaceship-titanic.</span>    <span style=\"color: #7f7f7f; text-decoration-color: #7f7f7f\">               </span>\n",
       "<span style=\"color: #7fbfbf; text-decoration-color: #7fbfbf\">                    </span>         To set a different path, run <span style=\"color: #008000; text-decoration-color: #008000\">'%reload_kedro &lt;project_root&gt;'</span>            <span style=\"color: #7f7f7f; text-decoration-color: #7f7f7f\">               </span>\n",
       "</pre>\n"
      ],
      "text/plain": [
       "\u001b[2;36m                   \u001b[0m\u001b[2;36m \u001b[0m\u001b[34mINFO    \u001b[0m Resolved project path as:                                              \u001b]8;id=292060;file:///Users/wilsvenleong/anaconda3/envs/anomaly-detection-pipeline-kedro/lib/python3.11/site-packages/kedro/ipython/__init__.py\u001b\\\u001b[2m__init__.py\u001b[0m\u001b]8;;\u001b\\\u001b[2m:\u001b[0m\u001b]8;id=590106;file:///Users/wilsvenleong/anaconda3/envs/anomaly-detection-pipeline-kedro/lib/python3.11/site-packages/kedro/ipython/__init__.py#164\u001b\\\u001b[2m164\u001b[0m\u001b]8;;\u001b\\\n",
       "\u001b[2;36m                    \u001b[0m         \u001b[35m/Users/wilsvenleong/Downloads/learning-materials/\u001b[0m\u001b[95mspaceship-titanic.\u001b[0m    \u001b[2m               \u001b[0m\n",
       "\u001b[2;36m                    \u001b[0m         To set a different path, run \u001b[32m'%reload_kedro \u001b[0m\u001b[32m<\u001b[0m\u001b[32mproject_root\u001b[0m\u001b[32m>\u001b[0m\u001b[32m'\u001b[0m            \u001b[2m               \u001b[0m\n"
      ]
     },
     "metadata": {},
     "output_type": "display_data"
    },
    {
     "data": {
      "text/html": [
       "<pre style=\"white-space:pre;overflow-x:auto;line-height:normal;font-family:Menlo,'DejaVu Sans Mono',consolas,'Courier New',monospace\"><span style=\"color: #7fbfbf; text-decoration-color: #7fbfbf\">[04/01/24 12:30:02] </span><span style=\"color: #000080; text-decoration-color: #000080\">INFO    </span> Registering new custom resolver: <span style=\"color: #008000; text-decoration-color: #008000\">'km.random_name'</span>                    <a href=\"file:///Users/wilsvenleong/anaconda3/envs/anomaly-detection-pipeline-kedro/lib/python3.11/site-packages/kedro_mlflow/framework/hooks/mlflow_hook.py\" target=\"_blank\"><span style=\"color: #7f7f7f; text-decoration-color: #7f7f7f\">mlflow_hook.py</span></a><span style=\"color: #7f7f7f; text-decoration-color: #7f7f7f\">:</span><a href=\"file:///Users/wilsvenleong/anaconda3/envs/anomaly-detection-pipeline-kedro/lib/python3.11/site-packages/kedro_mlflow/framework/hooks/mlflow_hook.py#65\" target=\"_blank\"><span style=\"color: #7f7f7f; text-decoration-color: #7f7f7f\">65</span></a>\n",
       "</pre>\n"
      ],
      "text/plain": [
       "\u001b[2;36m[04/01/24 12:30:02]\u001b[0m\u001b[2;36m \u001b[0m\u001b[34mINFO    \u001b[0m Registering new custom resolver: \u001b[32m'km.random_name'\u001b[0m                    \u001b]8;id=917821;file:///Users/wilsvenleong/anaconda3/envs/anomaly-detection-pipeline-kedro/lib/python3.11/site-packages/kedro_mlflow/framework/hooks/mlflow_hook.py\u001b\\\u001b[2mmlflow_hook.py\u001b[0m\u001b]8;;\u001b\\\u001b[2m:\u001b[0m\u001b]8;id=821056;file:///Users/wilsvenleong/anaconda3/envs/anomaly-detection-pipeline-kedro/lib/python3.11/site-packages/kedro_mlflow/framework/hooks/mlflow_hook.py#65\u001b\\\u001b[2m65\u001b[0m\u001b]8;;\u001b\\\n"
      ]
     },
     "metadata": {},
     "output_type": "display_data"
    },
    {
     "data": {
      "text/html": [
       "<pre style=\"white-space:pre;overflow-x:auto;line-height:normal;font-family:Menlo,'DejaVu Sans Mono',consolas,'Courier New',monospace\"><span style=\"color: #7fbfbf; text-decoration-color: #7fbfbf\">                    </span><span style=\"color: #000080; text-decoration-color: #000080\">INFO    </span> The <span style=\"color: #008000; text-decoration-color: #008000\">'tracking_uri'</span> key in mlflow.yml is relative            <a href=\"file:///Users/wilsvenleong/anaconda3/envs/anomaly-detection-pipeline-kedro/lib/python3.11/site-packages/kedro_mlflow/config/kedro_mlflow_config.py\" target=\"_blank\"><span style=\"color: #7f7f7f; text-decoration-color: #7f7f7f\">kedro_mlflow_config.py</span></a><span style=\"color: #7f7f7f; text-decoration-color: #7f7f7f\">:</span><a href=\"file:///Users/wilsvenleong/anaconda3/envs/anomaly-detection-pipeline-kedro/lib/python3.11/site-packages/kedro_mlflow/config/kedro_mlflow_config.py#260\" target=\"_blank\"><span style=\"color: #7f7f7f; text-decoration-color: #7f7f7f\">260</span></a>\n",
       "<span style=\"color: #7fbfbf; text-decoration-color: #7fbfbf\">                    </span>         <span style=\"font-weight: bold\">(</span><span style=\"color: #008000; text-decoration-color: #008000\">'server.mlflow_(tracking|registry)_uri = mlruns'</span><span style=\"font-weight: bold\">)</span>. It is   <span style=\"color: #7f7f7f; text-decoration-color: #7f7f7f\">                          </span>\n",
       "<span style=\"color: #7fbfbf; text-decoration-color: #7fbfbf\">                    </span>         converted to a valid uri:                                   <span style=\"color: #7f7f7f; text-decoration-color: #7f7f7f\">                          </span>\n",
       "<span style=\"color: #7fbfbf; text-decoration-color: #7fbfbf\">                    </span>         <span style=\"color: #008000; text-decoration-color: #008000\">'file:///Users/wilsvenleong/Downloads/learning-materials/sp</span> <span style=\"color: #7f7f7f; text-decoration-color: #7f7f7f\">                          </span>\n",
       "<span style=\"color: #7fbfbf; text-decoration-color: #7fbfbf\">                    </span>         <span style=\"color: #008000; text-decoration-color: #008000\">aceship-titanic/mlruns'</span>                                     <span style=\"color: #7f7f7f; text-decoration-color: #7f7f7f\">                          </span>\n",
       "</pre>\n"
      ],
      "text/plain": [
       "\u001b[2;36m                   \u001b[0m\u001b[2;36m \u001b[0m\u001b[34mINFO    \u001b[0m The \u001b[32m'tracking_uri'\u001b[0m key in mlflow.yml is relative            \u001b]8;id=960255;file:///Users/wilsvenleong/anaconda3/envs/anomaly-detection-pipeline-kedro/lib/python3.11/site-packages/kedro_mlflow/config/kedro_mlflow_config.py\u001b\\\u001b[2mkedro_mlflow_config.py\u001b[0m\u001b]8;;\u001b\\\u001b[2m:\u001b[0m\u001b]8;id=188733;file:///Users/wilsvenleong/anaconda3/envs/anomaly-detection-pipeline-kedro/lib/python3.11/site-packages/kedro_mlflow/config/kedro_mlflow_config.py#260\u001b\\\u001b[2m260\u001b[0m\u001b]8;;\u001b\\\n",
       "\u001b[2;36m                    \u001b[0m         \u001b[1m(\u001b[0m\u001b[32m'server.mlflow_\u001b[0m\u001b[32m(\u001b[0m\u001b[32mtracking|registry\u001b[0m\u001b[32m)\u001b[0m\u001b[32m_uri = mlruns'\u001b[0m\u001b[1m)\u001b[0m. It is   \u001b[2m                          \u001b[0m\n",
       "\u001b[2;36m                    \u001b[0m         converted to a valid uri:                                   \u001b[2m                          \u001b[0m\n",
       "\u001b[2;36m                    \u001b[0m         \u001b[32m'file:///Users/wilsvenleong/Downloads/learning-materials/sp\u001b[0m \u001b[2m                          \u001b[0m\n",
       "\u001b[2;36m                    \u001b[0m         \u001b[32maceship-titanic/mlruns'\u001b[0m                                     \u001b[2m                          \u001b[0m\n"
      ]
     },
     "metadata": {},
     "output_type": "display_data"
    },
    {
     "data": {
      "text/html": [
       "<pre style=\"white-space:pre;overflow-x:auto;line-height:normal;font-family:Menlo,'DejaVu Sans Mono',consolas,'Courier New',monospace\"><span style=\"color: #7fbfbf; text-decoration-color: #7fbfbf\">[04/01/24 12:30:03] </span><span style=\"color: #000080; text-decoration-color: #000080\">INFO    </span> Kedro project Spaceship Titanic                                        <a href=\"file:///Users/wilsvenleong/anaconda3/envs/anomaly-detection-pipeline-kedro/lib/python3.11/site-packages/kedro/ipython/__init__.py\" target=\"_blank\"><span style=\"color: #7f7f7f; text-decoration-color: #7f7f7f\">__init__.py</span></a><span style=\"color: #7f7f7f; text-decoration-color: #7f7f7f\">:</span><a href=\"file:///Users/wilsvenleong/anaconda3/envs/anomaly-detection-pipeline-kedro/lib/python3.11/site-packages/kedro/ipython/__init__.py#134\" target=\"_blank\"><span style=\"color: #7f7f7f; text-decoration-color: #7f7f7f\">134</span></a>\n",
       "</pre>\n"
      ],
      "text/plain": [
       "\u001b[2;36m[04/01/24 12:30:03]\u001b[0m\u001b[2;36m \u001b[0m\u001b[34mINFO    \u001b[0m Kedro project Spaceship Titanic                                        \u001b]8;id=554275;file:///Users/wilsvenleong/anaconda3/envs/anomaly-detection-pipeline-kedro/lib/python3.11/site-packages/kedro/ipython/__init__.py\u001b\\\u001b[2m__init__.py\u001b[0m\u001b]8;;\u001b\\\u001b[2m:\u001b[0m\u001b]8;id=333751;file:///Users/wilsvenleong/anaconda3/envs/anomaly-detection-pipeline-kedro/lib/python3.11/site-packages/kedro/ipython/__init__.py#134\u001b\\\u001b[2m134\u001b[0m\u001b]8;;\u001b\\\n"
      ]
     },
     "metadata": {},
     "output_type": "display_data"
    },
    {
     "data": {
      "text/html": [
       "<pre style=\"white-space:pre;overflow-x:auto;line-height:normal;font-family:Menlo,'DejaVu Sans Mono',consolas,'Courier New',monospace\"><span style=\"color: #7fbfbf; text-decoration-color: #7fbfbf\">                    </span><span style=\"color: #000080; text-decoration-color: #000080\">INFO    </span> Defined global variable <span style=\"color: #008000; text-decoration-color: #008000\">'context'</span>, <span style=\"color: #008000; text-decoration-color: #008000\">'session'</span>, <span style=\"color: #008000; text-decoration-color: #008000\">'catalog'</span> and            <a href=\"file:///Users/wilsvenleong/anaconda3/envs/anomaly-detection-pipeline-kedro/lib/python3.11/site-packages/kedro/ipython/__init__.py\" target=\"_blank\"><span style=\"color: #7f7f7f; text-decoration-color: #7f7f7f\">__init__.py</span></a><span style=\"color: #7f7f7f; text-decoration-color: #7f7f7f\">:</span><a href=\"file:///Users/wilsvenleong/anaconda3/envs/anomaly-detection-pipeline-kedro/lib/python3.11/site-packages/kedro/ipython/__init__.py#135\" target=\"_blank\"><span style=\"color: #7f7f7f; text-decoration-color: #7f7f7f\">135</span></a>\n",
       "<span style=\"color: #7fbfbf; text-decoration-color: #7fbfbf\">                    </span>         <span style=\"color: #008000; text-decoration-color: #008000\">'pipelines'</span>                                                            <span style=\"color: #7f7f7f; text-decoration-color: #7f7f7f\">               </span>\n",
       "</pre>\n"
      ],
      "text/plain": [
       "\u001b[2;36m                   \u001b[0m\u001b[2;36m \u001b[0m\u001b[34mINFO    \u001b[0m Defined global variable \u001b[32m'context'\u001b[0m, \u001b[32m'session'\u001b[0m, \u001b[32m'catalog'\u001b[0m and            \u001b]8;id=427606;file:///Users/wilsvenleong/anaconda3/envs/anomaly-detection-pipeline-kedro/lib/python3.11/site-packages/kedro/ipython/__init__.py\u001b\\\u001b[2m__init__.py\u001b[0m\u001b]8;;\u001b\\\u001b[2m:\u001b[0m\u001b]8;id=750675;file:///Users/wilsvenleong/anaconda3/envs/anomaly-detection-pipeline-kedro/lib/python3.11/site-packages/kedro/ipython/__init__.py#135\u001b\\\u001b[2m135\u001b[0m\u001b]8;;\u001b\\\n",
       "\u001b[2;36m                    \u001b[0m         \u001b[32m'pipelines'\u001b[0m                                                            \u001b[2m               \u001b[0m\n"
      ]
     },
     "metadata": {},
     "output_type": "display_data"
    },
    {
     "data": {
      "text/html": [
       "<pre style=\"white-space:pre;overflow-x:auto;line-height:normal;font-family:Menlo,'DejaVu Sans Mono',consolas,'Courier New',monospace\"><span style=\"color: #7fbfbf; text-decoration-color: #7fbfbf\">                    </span><span style=\"color: #000080; text-decoration-color: #000080\">INFO    </span> Registered line magic <span style=\"color: #008000; text-decoration-color: #008000\">'run_viz'</span>                                        <a href=\"file:///Users/wilsvenleong/anaconda3/envs/anomaly-detection-pipeline-kedro/lib/python3.11/site-packages/kedro/ipython/__init__.py\" target=\"_blank\"><span style=\"color: #7f7f7f; text-decoration-color: #7f7f7f\">__init__.py</span></a><span style=\"color: #7f7f7f; text-decoration-color: #7f7f7f\">:</span><a href=\"file:///Users/wilsvenleong/anaconda3/envs/anomaly-detection-pipeline-kedro/lib/python3.11/site-packages/kedro/ipython/__init__.py#141\" target=\"_blank\"><span style=\"color: #7f7f7f; text-decoration-color: #7f7f7f\">141</span></a>\n",
       "</pre>\n"
      ],
      "text/plain": [
       "\u001b[2;36m                   \u001b[0m\u001b[2;36m \u001b[0m\u001b[34mINFO    \u001b[0m Registered line magic \u001b[32m'run_viz'\u001b[0m                                        \u001b]8;id=608632;file:///Users/wilsvenleong/anaconda3/envs/anomaly-detection-pipeline-kedro/lib/python3.11/site-packages/kedro/ipython/__init__.py\u001b\\\u001b[2m__init__.py\u001b[0m\u001b]8;;\u001b\\\u001b[2m:\u001b[0m\u001b]8;id=595688;file:///Users/wilsvenleong/anaconda3/envs/anomaly-detection-pipeline-kedro/lib/python3.11/site-packages/kedro/ipython/__init__.py#141\u001b\\\u001b[2m141\u001b[0m\u001b]8;;\u001b\\\n"
      ]
     },
     "metadata": {},
     "output_type": "display_data"
    }
   ],
   "source": [
    "%load_ext kedro.ipython"
   ]
  },
  {
   "cell_type": "code",
   "execution_count": 2,
   "metadata": {},
   "outputs": [],
   "source": [
    "import pandas as pd\n",
    "import numpy as np\n",
    "\n",
    "pd.set_option(\"display.max_columns\", None)"
   ]
  },
  {
   "cell_type": "code",
   "execution_count": 3,
   "metadata": {},
   "outputs": [
    {
     "data": {
      "text/html": [
       "<pre style=\"white-space:pre;overflow-x:auto;line-height:normal;font-family:Menlo,'DejaVu Sans Mono',consolas,'Courier New',monospace\"></pre>\n"
      ],
      "text/plain": []
     },
     "metadata": {},
     "output_type": "display_data"
    },
    {
     "data": {
      "text/plain": [
       "\n",
       "\u001b[1m[\u001b[0m\n",
       "    \u001b[32m'train'\u001b[0m,\n",
       "    \u001b[32m'test'\u001b[0m,\n",
       "    \u001b[32m'sample_submission'\u001b[0m,\n",
       "    \u001b[32m'modeling_data'\u001b[0m,\n",
       "    \u001b[32m'X_train'\u001b[0m,\n",
       "    \u001b[32m'y_train'\u001b[0m,\n",
       "    \u001b[32m'X_test'\u001b[0m,\n",
       "    \u001b[32m'y_test'\u001b[0m,\n",
       "    \u001b[32m'candidate_model'\u001b[0m,\n",
       "    \u001b[32m'inference_data'\u001b[0m,\n",
       "    \u001b[32m'submission_data'\u001b[0m,\n",
       "    \u001b[32m'parameters'\u001b[0m,\n",
       "    \u001b[32m'params:preprocessing'\u001b[0m,\n",
       "    \u001b[32m'params:preprocessing.filter_cat_features'\u001b[0m,\n",
       "    \u001b[32m'params:preprocessing.filter_cat_features.CabinDeck'\u001b[0m,\n",
       "    \u001b[32m'params:preprocessing.filter_cat_features.CabinRegion'\u001b[0m,\n",
       "    \u001b[32m'params:preprocessing.filter_cat_features.Destination'\u001b[0m,\n",
       "    \u001b[32m'params:training'\u001b[0m,\n",
       "    \u001b[32m'params:training.model_name'\u001b[0m,\n",
       "    \u001b[32m'params:training.min_accuracy_increase'\u001b[0m,\n",
       "    \u001b[32m'params:col_maps'\u001b[0m,\n",
       "    \u001b[32m'params:col_maps.id_col'\u001b[0m,\n",
       "    \u001b[32m'params:col_maps.target_col'\u001b[0m,\n",
       "    \u001b[32m'params:tuning'\u001b[0m,\n",
       "    \u001b[32m'params:tuning.test_size'\u001b[0m,\n",
       "    \u001b[32m'params:tuning.random_state'\u001b[0m,\n",
       "    \u001b[32m'params:tuning.n_iters'\u001b[0m,\n",
       "    \u001b[32m'params:tuning.scoring'\u001b[0m,\n",
       "    \u001b[32m'params:tuning.min_accuracy_score'\u001b[0m,\n",
       "    \u001b[32m'params:tuning.grid_names'\u001b[0m\n",
       "\u001b[1m]\u001b[0m"
      ]
     },
     "execution_count": 3,
     "metadata": {},
     "output_type": "execute_result"
    }
   ],
   "source": [
    "catalog.list()"
   ]
  },
  {
   "cell_type": "code",
   "execution_count": 4,
   "metadata": {},
   "outputs": [
    {
     "data": {
      "text/html": [
       "<pre style=\"white-space:pre;overflow-x:auto;line-height:normal;font-family:Menlo,'DejaVu Sans Mono',consolas,'Courier New',monospace\"><span style=\"color: #7fbfbf; text-decoration-color: #7fbfbf\">[04/01/24 12:30:08] </span><span style=\"color: #000080; text-decoration-color: #000080\">INFO    </span> Loading data from <span style=\"color: #ff8700; text-decoration-color: #ff8700\">sample_submission</span> <span style=\"font-weight: bold\">(</span>CSVDataset<span style=\"font-weight: bold\">)</span><span style=\"color: #808000; text-decoration-color: #808000\">...</span>                <a href=\"file:///Users/wilsvenleong/anaconda3/envs/anomaly-detection-pipeline-kedro/lib/python3.11/site-packages/kedro/io/data_catalog.py\" target=\"_blank\"><span style=\"color: #7f7f7f; text-decoration-color: #7f7f7f\">data_catalog.py</span></a><span style=\"color: #7f7f7f; text-decoration-color: #7f7f7f\">:</span><a href=\"file:///Users/wilsvenleong/anaconda3/envs/anomaly-detection-pipeline-kedro/lib/python3.11/site-packages/kedro/io/data_catalog.py#483\" target=\"_blank\"><span style=\"color: #7f7f7f; text-decoration-color: #7f7f7f\">483</span></a>\n",
       "</pre>\n"
      ],
      "text/plain": [
       "\u001b[2;36m[04/01/24 12:30:08]\u001b[0m\u001b[2;36m \u001b[0m\u001b[34mINFO    \u001b[0m Loading data from \u001b[38;5;208msample_submission\u001b[0m \u001b[1m(\u001b[0mCSVDataset\u001b[1m)\u001b[0m\u001b[33m...\u001b[0m                \u001b]8;id=713222;file:///Users/wilsvenleong/anaconda3/envs/anomaly-detection-pipeline-kedro/lib/python3.11/site-packages/kedro/io/data_catalog.py\u001b\\\u001b[2mdata_catalog.py\u001b[0m\u001b]8;;\u001b\\\u001b[2m:\u001b[0m\u001b]8;id=137097;file:///Users/wilsvenleong/anaconda3/envs/anomaly-detection-pipeline-kedro/lib/python3.11/site-packages/kedro/io/data_catalog.py#483\u001b\\\u001b[2m483\u001b[0m\u001b]8;;\u001b\\\n"
      ]
     },
     "metadata": {},
     "output_type": "display_data"
    },
    {
     "data": {
      "text/html": [
       "<pre style=\"white-space:pre;overflow-x:auto;line-height:normal;font-family:Menlo,'DejaVu Sans Mono',consolas,'Courier New',monospace\"></pre>\n"
      ],
      "text/plain": []
     },
     "metadata": {},
     "output_type": "display_data"
    },
    {
     "data": {
      "text/html": [
       "<div>\n",
       "<style scoped>\n",
       "    .dataframe tbody tr th:only-of-type {\n",
       "        vertical-align: middle;\n",
       "    }\n",
       "\n",
       "    .dataframe tbody tr th {\n",
       "        vertical-align: top;\n",
       "    }\n",
       "\n",
       "    .dataframe thead th {\n",
       "        text-align: right;\n",
       "    }\n",
       "</style>\n",
       "<table border=\"1\" class=\"dataframe\">\n",
       "  <thead>\n",
       "    <tr style=\"text-align: right;\">\n",
       "      <th></th>\n",
       "      <th>PassengerId</th>\n",
       "      <th>Transported</th>\n",
       "    </tr>\n",
       "  </thead>\n",
       "  <tbody>\n",
       "    <tr>\n",
       "      <th>0</th>\n",
       "      <td>0013_01</td>\n",
       "      <td>False</td>\n",
       "    </tr>\n",
       "    <tr>\n",
       "      <th>1</th>\n",
       "      <td>0018_01</td>\n",
       "      <td>False</td>\n",
       "    </tr>\n",
       "    <tr>\n",
       "      <th>2</th>\n",
       "      <td>0019_01</td>\n",
       "      <td>False</td>\n",
       "    </tr>\n",
       "    <tr>\n",
       "      <th>3</th>\n",
       "      <td>0021_01</td>\n",
       "      <td>False</td>\n",
       "    </tr>\n",
       "    <tr>\n",
       "      <th>4</th>\n",
       "      <td>0023_01</td>\n",
       "      <td>False</td>\n",
       "    </tr>\n",
       "    <tr>\n",
       "      <th>...</th>\n",
       "      <td>...</td>\n",
       "      <td>...</td>\n",
       "    </tr>\n",
       "    <tr>\n",
       "      <th>4272</th>\n",
       "      <td>9266_02</td>\n",
       "      <td>False</td>\n",
       "    </tr>\n",
       "    <tr>\n",
       "      <th>4273</th>\n",
       "      <td>9269_01</td>\n",
       "      <td>False</td>\n",
       "    </tr>\n",
       "    <tr>\n",
       "      <th>4274</th>\n",
       "      <td>9271_01</td>\n",
       "      <td>False</td>\n",
       "    </tr>\n",
       "    <tr>\n",
       "      <th>4275</th>\n",
       "      <td>9273_01</td>\n",
       "      <td>False</td>\n",
       "    </tr>\n",
       "    <tr>\n",
       "      <th>4276</th>\n",
       "      <td>9277_01</td>\n",
       "      <td>False</td>\n",
       "    </tr>\n",
       "  </tbody>\n",
       "</table>\n",
       "<p>4277 rows × 2 columns</p>\n",
       "</div>"
      ],
      "text/plain": [
       "\n",
       "     PassengerId  Transported\n",
       "\u001b[1;36m0\u001b[0m        0013_01        \u001b[3;91mFalse\u001b[0m\n",
       "\u001b[1;36m1\u001b[0m        0018_01        \u001b[3;91mFalse\u001b[0m\n",
       "\u001b[1;36m2\u001b[0m        0019_01        \u001b[3;91mFalse\u001b[0m\n",
       "\u001b[1;36m3\u001b[0m        0021_01        \u001b[3;91mFalse\u001b[0m\n",
       "\u001b[1;36m4\u001b[0m        0023_01        \u001b[3;91mFalse\u001b[0m\n",
       "\u001b[33m...\u001b[0m          \u001b[33m...\u001b[0m          \u001b[33m...\u001b[0m\n",
       "\u001b[1;36m4272\u001b[0m     9266_02        \u001b[3;91mFalse\u001b[0m\n",
       "\u001b[1;36m4273\u001b[0m     9269_01        \u001b[3;91mFalse\u001b[0m\n",
       "\u001b[1;36m4274\u001b[0m     9271_01        \u001b[3;91mFalse\u001b[0m\n",
       "\u001b[1;36m4275\u001b[0m     9273_01        \u001b[3;91mFalse\u001b[0m\n",
       "\u001b[1;36m4276\u001b[0m     9277_01        \u001b[3;91mFalse\u001b[0m\n",
       "\n",
       "\u001b[1m[\u001b[0m\u001b[1;36m4277\u001b[0m rows x \u001b[1;36m2\u001b[0m columns\u001b[1m]\u001b[0m"
      ]
     },
     "execution_count": 4,
     "metadata": {},
     "output_type": "execute_result"
    }
   ],
   "source": [
    "sample_submission = catalog.load(\"sample_submission\")\n",
    "sample_submission"
   ]
  },
  {
   "cell_type": "code",
   "execution_count": 5,
   "metadata": {},
   "outputs": [
    {
     "data": {
      "text/html": [
       "<pre style=\"white-space:pre;overflow-x:auto;line-height:normal;font-family:Menlo,'DejaVu Sans Mono',consolas,'Courier New',monospace\"><span style=\"color: #7fbfbf; text-decoration-color: #7fbfbf\">[04/01/24 12:30:13] </span><span style=\"color: #000080; text-decoration-color: #000080\">INFO    </span> Loading data from <span style=\"color: #ff8700; text-decoration-color: #ff8700\">submission_data</span> <span style=\"font-weight: bold\">(</span>MlflowCSVDataset<span style=\"font-weight: bold\">)</span><span style=\"color: #808000; text-decoration-color: #808000\">...</span>            <a href=\"file:///Users/wilsvenleong/anaconda3/envs/anomaly-detection-pipeline-kedro/lib/python3.11/site-packages/kedro/io/data_catalog.py\" target=\"_blank\"><span style=\"color: #7f7f7f; text-decoration-color: #7f7f7f\">data_catalog.py</span></a><span style=\"color: #7f7f7f; text-decoration-color: #7f7f7f\">:</span><a href=\"file:///Users/wilsvenleong/anaconda3/envs/anomaly-detection-pipeline-kedro/lib/python3.11/site-packages/kedro/io/data_catalog.py#483\" target=\"_blank\"><span style=\"color: #7f7f7f; text-decoration-color: #7f7f7f\">483</span></a>\n",
       "</pre>\n"
      ],
      "text/plain": [
       "\u001b[2;36m[04/01/24 12:30:13]\u001b[0m\u001b[2;36m \u001b[0m\u001b[34mINFO    \u001b[0m Loading data from \u001b[38;5;208msubmission_data\u001b[0m \u001b[1m(\u001b[0mMlflowCSVDataset\u001b[1m)\u001b[0m\u001b[33m...\u001b[0m            \u001b]8;id=774040;file:///Users/wilsvenleong/anaconda3/envs/anomaly-detection-pipeline-kedro/lib/python3.11/site-packages/kedro/io/data_catalog.py\u001b\\\u001b[2mdata_catalog.py\u001b[0m\u001b]8;;\u001b\\\u001b[2m:\u001b[0m\u001b]8;id=173760;file:///Users/wilsvenleong/anaconda3/envs/anomaly-detection-pipeline-kedro/lib/python3.11/site-packages/kedro/io/data_catalog.py#483\u001b\\\u001b[2m483\u001b[0m\u001b]8;;\u001b\\\n"
      ]
     },
     "metadata": {},
     "output_type": "display_data"
    },
    {
     "data": {
      "text/html": [
       "<pre style=\"white-space:pre;overflow-x:auto;line-height:normal;font-family:Menlo,'DejaVu Sans Mono',consolas,'Courier New',monospace\"></pre>\n"
      ],
      "text/plain": []
     },
     "metadata": {},
     "output_type": "display_data"
    },
    {
     "data": {
      "text/html": [
       "<div>\n",
       "<style scoped>\n",
       "    .dataframe tbody tr th:only-of-type {\n",
       "        vertical-align: middle;\n",
       "    }\n",
       "\n",
       "    .dataframe tbody tr th {\n",
       "        vertical-align: top;\n",
       "    }\n",
       "\n",
       "    .dataframe thead th {\n",
       "        text-align: right;\n",
       "    }\n",
       "</style>\n",
       "<table border=\"1\" class=\"dataframe\">\n",
       "  <thead>\n",
       "    <tr style=\"text-align: right;\">\n",
       "      <th></th>\n",
       "      <th>PassengerId</th>\n",
       "      <th>Transported</th>\n",
       "    </tr>\n",
       "  </thead>\n",
       "  <tbody>\n",
       "    <tr>\n",
       "      <th>0</th>\n",
       "      <td>0013_01</td>\n",
       "      <td>True</td>\n",
       "    </tr>\n",
       "    <tr>\n",
       "      <th>1</th>\n",
       "      <td>0018_01</td>\n",
       "      <td>False</td>\n",
       "    </tr>\n",
       "    <tr>\n",
       "      <th>2</th>\n",
       "      <td>0019_01</td>\n",
       "      <td>True</td>\n",
       "    </tr>\n",
       "    <tr>\n",
       "      <th>3</th>\n",
       "      <td>0021_01</td>\n",
       "      <td>True</td>\n",
       "    </tr>\n",
       "    <tr>\n",
       "      <th>4</th>\n",
       "      <td>0023_01</td>\n",
       "      <td>True</td>\n",
       "    </tr>\n",
       "    <tr>\n",
       "      <th>...</th>\n",
       "      <td>...</td>\n",
       "      <td>...</td>\n",
       "    </tr>\n",
       "    <tr>\n",
       "      <th>4272</th>\n",
       "      <td>9266_02</td>\n",
       "      <td>True</td>\n",
       "    </tr>\n",
       "    <tr>\n",
       "      <th>4273</th>\n",
       "      <td>9269_01</td>\n",
       "      <td>False</td>\n",
       "    </tr>\n",
       "    <tr>\n",
       "      <th>4274</th>\n",
       "      <td>9271_01</td>\n",
       "      <td>True</td>\n",
       "    </tr>\n",
       "    <tr>\n",
       "      <th>4275</th>\n",
       "      <td>9273_01</td>\n",
       "      <td>True</td>\n",
       "    </tr>\n",
       "    <tr>\n",
       "      <th>4276</th>\n",
       "      <td>9277_01</td>\n",
       "      <td>True</td>\n",
       "    </tr>\n",
       "  </tbody>\n",
       "</table>\n",
       "<p>4277 rows × 2 columns</p>\n",
       "</div>"
      ],
      "text/plain": [
       "\n",
       "     PassengerId  Transported\n",
       "\u001b[1;36m0\u001b[0m        0013_01         \u001b[3;92mTrue\u001b[0m\n",
       "\u001b[1;36m1\u001b[0m        0018_01        \u001b[3;91mFalse\u001b[0m\n",
       "\u001b[1;36m2\u001b[0m        0019_01         \u001b[3;92mTrue\u001b[0m\n",
       "\u001b[1;36m3\u001b[0m        0021_01         \u001b[3;92mTrue\u001b[0m\n",
       "\u001b[1;36m4\u001b[0m        0023_01         \u001b[3;92mTrue\u001b[0m\n",
       "\u001b[33m...\u001b[0m          \u001b[33m...\u001b[0m          \u001b[33m...\u001b[0m\n",
       "\u001b[1;36m4272\u001b[0m     9266_02         \u001b[3;92mTrue\u001b[0m\n",
       "\u001b[1;36m4273\u001b[0m     9269_01        \u001b[3;91mFalse\u001b[0m\n",
       "\u001b[1;36m4274\u001b[0m     9271_01         \u001b[3;92mTrue\u001b[0m\n",
       "\u001b[1;36m4275\u001b[0m     9273_01         \u001b[3;92mTrue\u001b[0m\n",
       "\u001b[1;36m4276\u001b[0m     9277_01         \u001b[3;92mTrue\u001b[0m\n",
       "\n",
       "\u001b[1m[\u001b[0m\u001b[1;36m4277\u001b[0m rows x \u001b[1;36m2\u001b[0m columns\u001b[1m]\u001b[0m"
      ]
     },
     "execution_count": 5,
     "metadata": {},
     "output_type": "execute_result"
    }
   ],
   "source": [
    "submission_data = catalog.load(\"submission_data\")\n",
    "submission_data"
   ]
  },
  {
   "cell_type": "code",
   "execution_count": 6,
   "metadata": {},
   "outputs": [
    {
     "data": {
      "text/html": [
       "<pre style=\"white-space:pre;overflow-x:auto;line-height:normal;font-family:Menlo,'DejaVu Sans Mono',consolas,'Courier New',monospace\"><span style=\"color: #7fbfbf; text-decoration-color: #7fbfbf\">[04/01/24 12:30:25] </span><span style=\"color: #000080; text-decoration-color: #000080\">INFO    </span> Loading data from <span style=\"color: #ff8700; text-decoration-color: #ff8700\">modeling_data</span> <span style=\"font-weight: bold\">(</span>MlflowParquetDataset<span style=\"font-weight: bold\">)</span><span style=\"color: #808000; text-decoration-color: #808000\">...</span>          <a href=\"file:///Users/wilsvenleong/anaconda3/envs/anomaly-detection-pipeline-kedro/lib/python3.11/site-packages/kedro/io/data_catalog.py\" target=\"_blank\"><span style=\"color: #7f7f7f; text-decoration-color: #7f7f7f\">data_catalog.py</span></a><span style=\"color: #7f7f7f; text-decoration-color: #7f7f7f\">:</span><a href=\"file:///Users/wilsvenleong/anaconda3/envs/anomaly-detection-pipeline-kedro/lib/python3.11/site-packages/kedro/io/data_catalog.py#483\" target=\"_blank\"><span style=\"color: #7f7f7f; text-decoration-color: #7f7f7f\">483</span></a>\n",
       "</pre>\n"
      ],
      "text/plain": [
       "\u001b[2;36m[04/01/24 12:30:25]\u001b[0m\u001b[2;36m \u001b[0m\u001b[34mINFO    \u001b[0m Loading data from \u001b[38;5;208mmodeling_data\u001b[0m \u001b[1m(\u001b[0mMlflowParquetDataset\u001b[1m)\u001b[0m\u001b[33m...\u001b[0m          \u001b]8;id=764546;file:///Users/wilsvenleong/anaconda3/envs/anomaly-detection-pipeline-kedro/lib/python3.11/site-packages/kedro/io/data_catalog.py\u001b\\\u001b[2mdata_catalog.py\u001b[0m\u001b]8;;\u001b\\\u001b[2m:\u001b[0m\u001b]8;id=478654;file:///Users/wilsvenleong/anaconda3/envs/anomaly-detection-pipeline-kedro/lib/python3.11/site-packages/kedro/io/data_catalog.py#483\u001b\\\u001b[2m483\u001b[0m\u001b]8;;\u001b\\\n"
      ]
     },
     "metadata": {},
     "output_type": "display_data"
    },
    {
     "data": {
      "text/html": [
       "<pre style=\"white-space:pre;overflow-x:auto;line-height:normal;font-family:Menlo,'DejaVu Sans Mono',consolas,'Courier New',monospace\"></pre>\n"
      ],
      "text/plain": []
     },
     "metadata": {},
     "output_type": "display_data"
    },
    {
     "data": {
      "text/html": [
       "<div>\n",
       "<style scoped>\n",
       "    .dataframe tbody tr th:only-of-type {\n",
       "        vertical-align: middle;\n",
       "    }\n",
       "\n",
       "    .dataframe tbody tr th {\n",
       "        vertical-align: top;\n",
       "    }\n",
       "\n",
       "    .dataframe thead th {\n",
       "        text-align: right;\n",
       "    }\n",
       "</style>\n",
       "<table border=\"1\" class=\"dataframe\">\n",
       "  <thead>\n",
       "    <tr style=\"text-align: right;\">\n",
       "      <th></th>\n",
       "      <th>PassengerId</th>\n",
       "      <th>HomePlanet</th>\n",
       "      <th>CryoSleep</th>\n",
       "      <th>Destination</th>\n",
       "      <th>VIP</th>\n",
       "      <th>RoomService</th>\n",
       "      <th>FoodCourt</th>\n",
       "      <th>ShoppingMall</th>\n",
       "      <th>Spa</th>\n",
       "      <th>VRDeck</th>\n",
       "      <th>Transported</th>\n",
       "      <th>CabinDeck</th>\n",
       "      <th>CabinSide</th>\n",
       "      <th>CabinRegion</th>\n",
       "      <th>PeopleInCabinNumber</th>\n",
       "      <th>PeopleInCabinDeck</th>\n",
       "      <th>FamilySize</th>\n",
       "      <th>GroupSize</th>\n",
       "      <th>AgeCategory</th>\n",
       "    </tr>\n",
       "  </thead>\n",
       "  <tbody>\n",
       "    <tr>\n",
       "      <th>0</th>\n",
       "      <td>0001_01</td>\n",
       "      <td>Europa</td>\n",
       "      <td>False</td>\n",
       "      <td>TRAPPIST-1e</td>\n",
       "      <td>False</td>\n",
       "      <td>0.0</td>\n",
       "      <td>0.0</td>\n",
       "      <td>0.0</td>\n",
       "      <td>0.0</td>\n",
       "      <td>0.0</td>\n",
       "      <td>False</td>\n",
       "      <td>B</td>\n",
       "      <td>P</td>\n",
       "      <td>A</td>\n",
       "      <td>18.0</td>\n",
       "      <td>779.0</td>\n",
       "      <td>1.0</td>\n",
       "      <td>1</td>\n",
       "      <td>Adult</td>\n",
       "    </tr>\n",
       "    <tr>\n",
       "      <th>1</th>\n",
       "      <td>0002_01</td>\n",
       "      <td>Earth</td>\n",
       "      <td>False</td>\n",
       "      <td>TRAPPIST-1e</td>\n",
       "      <td>False</td>\n",
       "      <td>109.0</td>\n",
       "      <td>9.0</td>\n",
       "      <td>25.0</td>\n",
       "      <td>549.0</td>\n",
       "      <td>44.0</td>\n",
       "      <td>True</td>\n",
       "      <td>Other</td>\n",
       "      <td>S</td>\n",
       "      <td>A</td>\n",
       "      <td>18.0</td>\n",
       "      <td>2794.0</td>\n",
       "      <td>4.0</td>\n",
       "      <td>1</td>\n",
       "      <td>PreAdult</td>\n",
       "    </tr>\n",
       "    <tr>\n",
       "      <th>2</th>\n",
       "      <td>0003_01</td>\n",
       "      <td>Europa</td>\n",
       "      <td>False</td>\n",
       "      <td>TRAPPIST-1e</td>\n",
       "      <td>True</td>\n",
       "      <td>43.0</td>\n",
       "      <td>3576.0</td>\n",
       "      <td>0.0</td>\n",
       "      <td>6715.0</td>\n",
       "      <td>49.0</td>\n",
       "      <td>False</td>\n",
       "      <td>Other</td>\n",
       "      <td>S</td>\n",
       "      <td>A</td>\n",
       "      <td>18.0</td>\n",
       "      <td>256.0</td>\n",
       "      <td>6.0</td>\n",
       "      <td>2</td>\n",
       "      <td>Elder</td>\n",
       "    </tr>\n",
       "    <tr>\n",
       "      <th>3</th>\n",
       "      <td>0003_02</td>\n",
       "      <td>Europa</td>\n",
       "      <td>False</td>\n",
       "      <td>TRAPPIST-1e</td>\n",
       "      <td>False</td>\n",
       "      <td>0.0</td>\n",
       "      <td>1283.0</td>\n",
       "      <td>371.0</td>\n",
       "      <td>3329.0</td>\n",
       "      <td>193.0</td>\n",
       "      <td>False</td>\n",
       "      <td>Other</td>\n",
       "      <td>S</td>\n",
       "      <td>A</td>\n",
       "      <td>18.0</td>\n",
       "      <td>256.0</td>\n",
       "      <td>6.0</td>\n",
       "      <td>2</td>\n",
       "      <td>Adult</td>\n",
       "    </tr>\n",
       "    <tr>\n",
       "      <th>4</th>\n",
       "      <td>0004_01</td>\n",
       "      <td>Earth</td>\n",
       "      <td>False</td>\n",
       "      <td>TRAPPIST-1e</td>\n",
       "      <td>False</td>\n",
       "      <td>303.0</td>\n",
       "      <td>70.0</td>\n",
       "      <td>151.0</td>\n",
       "      <td>565.0</td>\n",
       "      <td>2.0</td>\n",
       "      <td>True</td>\n",
       "      <td>Other</td>\n",
       "      <td>S</td>\n",
       "      <td>A</td>\n",
       "      <td>15.0</td>\n",
       "      <td>2794.0</td>\n",
       "      <td>6.0</td>\n",
       "      <td>1</td>\n",
       "      <td>Teenager</td>\n",
       "    </tr>\n",
       "    <tr>\n",
       "      <th>...</th>\n",
       "      <td>...</td>\n",
       "      <td>...</td>\n",
       "      <td>...</td>\n",
       "      <td>...</td>\n",
       "      <td>...</td>\n",
       "      <td>...</td>\n",
       "      <td>...</td>\n",
       "      <td>...</td>\n",
       "      <td>...</td>\n",
       "      <td>...</td>\n",
       "      <td>...</td>\n",
       "      <td>...</td>\n",
       "      <td>...</td>\n",
       "      <td>...</td>\n",
       "      <td>...</td>\n",
       "      <td>...</td>\n",
       "      <td>...</td>\n",
       "      <td>...</td>\n",
       "      <td>...</td>\n",
       "    </tr>\n",
       "    <tr>\n",
       "      <th>8688</th>\n",
       "      <td>9276_01</td>\n",
       "      <td>Europa</td>\n",
       "      <td>False</td>\n",
       "      <td>55 Cancri e</td>\n",
       "      <td>True</td>\n",
       "      <td>0.0</td>\n",
       "      <td>6819.0</td>\n",
       "      <td>0.0</td>\n",
       "      <td>1643.0</td>\n",
       "      <td>74.0</td>\n",
       "      <td>False</td>\n",
       "      <td>Other</td>\n",
       "      <td>P</td>\n",
       "      <td>A</td>\n",
       "      <td>11.0</td>\n",
       "      <td>256.0</td>\n",
       "      <td>3.0</td>\n",
       "      <td>1</td>\n",
       "      <td>Adult</td>\n",
       "    </tr>\n",
       "    <tr>\n",
       "      <th>8689</th>\n",
       "      <td>9278_01</td>\n",
       "      <td>Earth</td>\n",
       "      <td>True</td>\n",
       "      <td>Other</td>\n",
       "      <td>False</td>\n",
       "      <td>0.0</td>\n",
       "      <td>0.0</td>\n",
       "      <td>0.0</td>\n",
       "      <td>0.0</td>\n",
       "      <td>0.0</td>\n",
       "      <td>False</td>\n",
       "      <td>G</td>\n",
       "      <td>S</td>\n",
       "      <td>E</td>\n",
       "      <td>2.0</td>\n",
       "      <td>2559.0</td>\n",
       "      <td>2.0</td>\n",
       "      <td>1</td>\n",
       "      <td>Teenager</td>\n",
       "    </tr>\n",
       "    <tr>\n",
       "      <th>8690</th>\n",
       "      <td>9279_01</td>\n",
       "      <td>Earth</td>\n",
       "      <td>False</td>\n",
       "      <td>TRAPPIST-1e</td>\n",
       "      <td>False</td>\n",
       "      <td>0.0</td>\n",
       "      <td>0.0</td>\n",
       "      <td>1872.0</td>\n",
       "      <td>1.0</td>\n",
       "      <td>0.0</td>\n",
       "      <td>True</td>\n",
       "      <td>G</td>\n",
       "      <td>S</td>\n",
       "      <td>Other</td>\n",
       "      <td>3.0</td>\n",
       "      <td>2559.0</td>\n",
       "      <td>6.0</td>\n",
       "      <td>1</td>\n",
       "      <td>Adult</td>\n",
       "    </tr>\n",
       "    <tr>\n",
       "      <th>8691</th>\n",
       "      <td>9280_01</td>\n",
       "      <td>Europa</td>\n",
       "      <td>False</td>\n",
       "      <td>55 Cancri e</td>\n",
       "      <td>False</td>\n",
       "      <td>0.0</td>\n",
       "      <td>1049.0</td>\n",
       "      <td>0.0</td>\n",
       "      <td>353.0</td>\n",
       "      <td>3235.0</td>\n",
       "      <td>False</td>\n",
       "      <td>E</td>\n",
       "      <td>S</td>\n",
       "      <td>C</td>\n",
       "      <td>3.0</td>\n",
       "      <td>876.0</td>\n",
       "      <td>6.0</td>\n",
       "      <td>2</td>\n",
       "      <td>Adult</td>\n",
       "    </tr>\n",
       "    <tr>\n",
       "      <th>8692</th>\n",
       "      <td>9280_02</td>\n",
       "      <td>Europa</td>\n",
       "      <td>False</td>\n",
       "      <td>TRAPPIST-1e</td>\n",
       "      <td>False</td>\n",
       "      <td>126.0</td>\n",
       "      <td>4688.0</td>\n",
       "      <td>0.0</td>\n",
       "      <td>0.0</td>\n",
       "      <td>12.0</td>\n",
       "      <td>True</td>\n",
       "      <td>E</td>\n",
       "      <td>S</td>\n",
       "      <td>C</td>\n",
       "      <td>3.0</td>\n",
       "      <td>876.0</td>\n",
       "      <td>6.0</td>\n",
       "      <td>2</td>\n",
       "      <td>Adult</td>\n",
       "    </tr>\n",
       "  </tbody>\n",
       "</table>\n",
       "<p>8693 rows × 19 columns</p>\n",
       "</div>"
      ],
      "text/plain": [
       "\n",
       "     PassengerId HomePlanet CryoSleep  Destination    VIP  RoomService  \\\n",
       "\u001b[1;36m0\u001b[0m        0001_01     Europa     \u001b[3;91mFalse\u001b[0m  TRAPPIST-1e  \u001b[3;91mFalse\u001b[0m          \u001b[1;36m0.0\u001b[0m   \n",
       "\u001b[1;36m1\u001b[0m        0002_01      Earth     \u001b[3;91mFalse\u001b[0m  TRAPPIST-1e  \u001b[3;91mFalse\u001b[0m        \u001b[1;36m109.0\u001b[0m   \n",
       "\u001b[1;36m2\u001b[0m        0003_01     Europa     \u001b[3;91mFalse\u001b[0m  TRAPPIST-1e   \u001b[3;92mTrue\u001b[0m         \u001b[1;36m43.0\u001b[0m   \n",
       "\u001b[1;36m3\u001b[0m        0003_02     Europa     \u001b[3;91mFalse\u001b[0m  TRAPPIST-1e  \u001b[3;91mFalse\u001b[0m          \u001b[1;36m0.0\u001b[0m   \n",
       "\u001b[1;36m4\u001b[0m        0004_01      Earth     \u001b[3;91mFalse\u001b[0m  TRAPPIST-1e  \u001b[3;91mFalse\u001b[0m        \u001b[1;36m303.0\u001b[0m   \n",
       "\u001b[33m...\u001b[0m          \u001b[33m...\u001b[0m        \u001b[33m...\u001b[0m       \u001b[33m...\u001b[0m          \u001b[33m...\u001b[0m    \u001b[33m...\u001b[0m          \u001b[33m...\u001b[0m   \n",
       "\u001b[1;36m8688\u001b[0m     9276_01     Europa     \u001b[3;91mFalse\u001b[0m  \u001b[1;36m55\u001b[0m Cancri e   \u001b[3;92mTrue\u001b[0m          \u001b[1;36m0.0\u001b[0m   \n",
       "\u001b[1;36m8689\u001b[0m     9278_01      Earth      \u001b[3;92mTrue\u001b[0m        Other  \u001b[3;91mFalse\u001b[0m          \u001b[1;36m0.0\u001b[0m   \n",
       "\u001b[1;36m8690\u001b[0m     9279_01      Earth     \u001b[3;91mFalse\u001b[0m  TRAPPIST-1e  \u001b[3;91mFalse\u001b[0m          \u001b[1;36m0.0\u001b[0m   \n",
       "\u001b[1;36m8691\u001b[0m     9280_01     Europa     \u001b[3;91mFalse\u001b[0m  \u001b[1;36m55\u001b[0m Cancri e  \u001b[3;91mFalse\u001b[0m          \u001b[1;36m0.0\u001b[0m   \n",
       "\u001b[1;36m8692\u001b[0m     9280_02     Europa     \u001b[3;91mFalse\u001b[0m  TRAPPIST-1e  \u001b[3;91mFalse\u001b[0m        \u001b[1;36m126.0\u001b[0m   \n",
       "\n",
       "      FoodCourt  ShoppingMall     Spa  VRDeck  Transported CabinDeck  \\\n",
       "\u001b[1;36m0\u001b[0m           \u001b[1;36m0.0\u001b[0m           \u001b[1;36m0.0\u001b[0m     \u001b[1;36m0.0\u001b[0m     \u001b[1;36m0.0\u001b[0m        \u001b[3;91mFalse\u001b[0m         B   \n",
       "\u001b[1;36m1\u001b[0m           \u001b[1;36m9.0\u001b[0m          \u001b[1;36m25.0\u001b[0m   \u001b[1;36m549.0\u001b[0m    \u001b[1;36m44.0\u001b[0m         \u001b[3;92mTrue\u001b[0m     Other   \n",
       "\u001b[1;36m2\u001b[0m        \u001b[1;36m3576.0\u001b[0m           \u001b[1;36m0.0\u001b[0m  \u001b[1;36m6715.0\u001b[0m    \u001b[1;36m49.0\u001b[0m        \u001b[3;91mFalse\u001b[0m     Other   \n",
       "\u001b[1;36m3\u001b[0m        \u001b[1;36m1283.0\u001b[0m         \u001b[1;36m371.0\u001b[0m  \u001b[1;36m3329.0\u001b[0m   \u001b[1;36m193.0\u001b[0m        \u001b[3;91mFalse\u001b[0m     Other   \n",
       "\u001b[1;36m4\u001b[0m          \u001b[1;36m70.0\u001b[0m         \u001b[1;36m151.0\u001b[0m   \u001b[1;36m565.0\u001b[0m     \u001b[1;36m2.0\u001b[0m         \u001b[3;92mTrue\u001b[0m     Other   \n",
       "\u001b[33m...\u001b[0m         \u001b[33m...\u001b[0m           \u001b[33m...\u001b[0m     \u001b[33m...\u001b[0m     \u001b[33m...\u001b[0m          \u001b[33m...\u001b[0m       \u001b[33m...\u001b[0m   \n",
       "\u001b[1;36m8688\u001b[0m     \u001b[1;36m6819.0\u001b[0m           \u001b[1;36m0.0\u001b[0m  \u001b[1;36m1643.0\u001b[0m    \u001b[1;36m74.0\u001b[0m        \u001b[3;91mFalse\u001b[0m     Other   \n",
       "\u001b[1;36m8689\u001b[0m        \u001b[1;36m0.0\u001b[0m           \u001b[1;36m0.0\u001b[0m     \u001b[1;36m0.0\u001b[0m     \u001b[1;36m0.0\u001b[0m        \u001b[3;91mFalse\u001b[0m         G   \n",
       "\u001b[1;36m8690\u001b[0m        \u001b[1;36m0.0\u001b[0m        \u001b[1;36m1872.0\u001b[0m     \u001b[1;36m1.0\u001b[0m     \u001b[1;36m0.0\u001b[0m         \u001b[3;92mTrue\u001b[0m         G   \n",
       "\u001b[1;36m8691\u001b[0m     \u001b[1;36m1049.0\u001b[0m           \u001b[1;36m0.0\u001b[0m   \u001b[1;36m353.0\u001b[0m  \u001b[1;36m3235.0\u001b[0m        \u001b[3;91mFalse\u001b[0m         E   \n",
       "\u001b[1;36m8692\u001b[0m     \u001b[1;36m4688.0\u001b[0m           \u001b[1;36m0.0\u001b[0m     \u001b[1;36m0.0\u001b[0m    \u001b[1;36m12.0\u001b[0m         \u001b[3;92mTrue\u001b[0m         E   \n",
       "\n",
       "     CabinSide CabinRegion  PeopleInCabinNumber  PeopleInCabinDeck  \\\n",
       "\u001b[1;36m0\u001b[0m            P           A                 \u001b[1;36m18.0\u001b[0m              \u001b[1;36m779.0\u001b[0m   \n",
       "\u001b[1;36m1\u001b[0m            S           A                 \u001b[1;36m18.0\u001b[0m             \u001b[1;36m2794.0\u001b[0m   \n",
       "\u001b[1;36m2\u001b[0m            S           A                 \u001b[1;36m18.0\u001b[0m              \u001b[1;36m256.0\u001b[0m   \n",
       "\u001b[1;36m3\u001b[0m            S           A                 \u001b[1;36m18.0\u001b[0m              \u001b[1;36m256.0\u001b[0m   \n",
       "\u001b[1;36m4\u001b[0m            S           A                 \u001b[1;36m15.0\u001b[0m             \u001b[1;36m2794.0\u001b[0m   \n",
       "\u001b[33m...\u001b[0m        \u001b[33m...\u001b[0m         \u001b[33m...\u001b[0m                  \u001b[33m...\u001b[0m                \u001b[33m...\u001b[0m   \n",
       "\u001b[1;36m8688\u001b[0m         P           A                 \u001b[1;36m11.0\u001b[0m              \u001b[1;36m256.0\u001b[0m   \n",
       "\u001b[1;36m8689\u001b[0m         S           E                  \u001b[1;36m2.0\u001b[0m             \u001b[1;36m2559.0\u001b[0m   \n",
       "\u001b[1;36m8690\u001b[0m         S       Other                  \u001b[1;36m3.0\u001b[0m             \u001b[1;36m2559.0\u001b[0m   \n",
       "\u001b[1;36m8691\u001b[0m         S           C                  \u001b[1;36m3.0\u001b[0m              \u001b[1;36m876.0\u001b[0m   \n",
       "\u001b[1;36m8692\u001b[0m         S           C                  \u001b[1;36m3.0\u001b[0m              \u001b[1;36m876.0\u001b[0m   \n",
       "\n",
       "      FamilySize  GroupSize AgeCategory  \n",
       "\u001b[1;36m0\u001b[0m            \u001b[1;36m1.0\u001b[0m          \u001b[1;36m1\u001b[0m       Adult  \n",
       "\u001b[1;36m1\u001b[0m            \u001b[1;36m4.0\u001b[0m          \u001b[1;36m1\u001b[0m    PreAdult  \n",
       "\u001b[1;36m2\u001b[0m            \u001b[1;36m6.0\u001b[0m          \u001b[1;36m2\u001b[0m       Elder  \n",
       "\u001b[1;36m3\u001b[0m            \u001b[1;36m6.0\u001b[0m          \u001b[1;36m2\u001b[0m       Adult  \n",
       "\u001b[1;36m4\u001b[0m            \u001b[1;36m6.0\u001b[0m          \u001b[1;36m1\u001b[0m    Teenager  \n",
       "\u001b[33m...\u001b[0m          \u001b[33m...\u001b[0m        \u001b[33m...\u001b[0m         \u001b[33m...\u001b[0m  \n",
       "\u001b[1;36m8688\u001b[0m         \u001b[1;36m3.0\u001b[0m          \u001b[1;36m1\u001b[0m       Adult  \n",
       "\u001b[1;36m8689\u001b[0m         \u001b[1;36m2.0\u001b[0m          \u001b[1;36m1\u001b[0m    Teenager  \n",
       "\u001b[1;36m8690\u001b[0m         \u001b[1;36m6.0\u001b[0m          \u001b[1;36m1\u001b[0m       Adult  \n",
       "\u001b[1;36m8691\u001b[0m         \u001b[1;36m6.0\u001b[0m          \u001b[1;36m2\u001b[0m       Adult  \n",
       "\u001b[1;36m8692\u001b[0m         \u001b[1;36m6.0\u001b[0m          \u001b[1;36m2\u001b[0m       Adult  \n",
       "\n",
       "\u001b[1m[\u001b[0m\u001b[1;36m8693\u001b[0m rows x \u001b[1;36m19\u001b[0m columns\u001b[1m]\u001b[0m"
      ]
     },
     "execution_count": 6,
     "metadata": {},
     "output_type": "execute_result"
    }
   ],
   "source": [
    "modeling_data = catalog.load(\"modeling_data\")\n",
    "modeling_data"
   ]
  },
  {
   "cell_type": "code",
   "execution_count": 7,
   "metadata": {},
   "outputs": [
    {
     "data": {
      "text/html": [
       "<pre style=\"white-space:pre;overflow-x:auto;line-height:normal;font-family:Menlo,'DejaVu Sans Mono',consolas,'Courier New',monospace\"><span style=\"color: #7fbfbf; text-decoration-color: #7fbfbf\">[04/01/24 12:31:26] </span><span style=\"color: #000080; text-decoration-color: #000080\">INFO    </span> Loading data from <span style=\"color: #ff8700; text-decoration-color: #ff8700\">parameters</span> <span style=\"font-weight: bold\">(</span>MemoryDataset<span style=\"font-weight: bold\">)</span><span style=\"color: #808000; text-decoration-color: #808000\">...</span>                    <a href=\"file:///Users/wilsvenleong/anaconda3/envs/anomaly-detection-pipeline-kedro/lib/python3.11/site-packages/kedro/io/data_catalog.py\" target=\"_blank\"><span style=\"color: #7f7f7f; text-decoration-color: #7f7f7f\">data_catalog.py</span></a><span style=\"color: #7f7f7f; text-decoration-color: #7f7f7f\">:</span><a href=\"file:///Users/wilsvenleong/anaconda3/envs/anomaly-detection-pipeline-kedro/lib/python3.11/site-packages/kedro/io/data_catalog.py#483\" target=\"_blank\"><span style=\"color: #7f7f7f; text-decoration-color: #7f7f7f\">483</span></a>\n",
       "</pre>\n"
      ],
      "text/plain": [
       "\u001b[2;36m[04/01/24 12:31:26]\u001b[0m\u001b[2;36m \u001b[0m\u001b[34mINFO    \u001b[0m Loading data from \u001b[38;5;208mparameters\u001b[0m \u001b[1m(\u001b[0mMemoryDataset\u001b[1m)\u001b[0m\u001b[33m...\u001b[0m                    \u001b]8;id=296815;file:///Users/wilsvenleong/anaconda3/envs/anomaly-detection-pipeline-kedro/lib/python3.11/site-packages/kedro/io/data_catalog.py\u001b\\\u001b[2mdata_catalog.py\u001b[0m\u001b]8;;\u001b\\\u001b[2m:\u001b[0m\u001b]8;id=315798;file:///Users/wilsvenleong/anaconda3/envs/anomaly-detection-pipeline-kedro/lib/python3.11/site-packages/kedro/io/data_catalog.py#483\u001b\\\u001b[2m483\u001b[0m\u001b]8;;\u001b\\\n"
      ]
     },
     "metadata": {},
     "output_type": "display_data"
    }
   ],
   "source": [
    "parameters = catalog.load(\"parameters\")"
   ]
  },
  {
   "cell_type": "code",
   "execution_count": 8,
   "metadata": {},
   "outputs": [
    {
     "data": {
      "text/html": [
       "<pre style=\"white-space:pre;overflow-x:auto;line-height:normal;font-family:Menlo,'DejaVu Sans Mono',consolas,'Courier New',monospace\"></pre>\n"
      ],
      "text/plain": []
     },
     "metadata": {},
     "output_type": "display_data"
    },
    {
     "data": {
      "text/html": [
       "<div>\n",
       "<style scoped>\n",
       "    .dataframe tbody tr th:only-of-type {\n",
       "        vertical-align: middle;\n",
       "    }\n",
       "\n",
       "    .dataframe tbody tr th {\n",
       "        vertical-align: top;\n",
       "    }\n",
       "\n",
       "    .dataframe thead th {\n",
       "        text-align: right;\n",
       "    }\n",
       "</style>\n",
       "<table border=\"1\" class=\"dataframe\">\n",
       "  <thead>\n",
       "    <tr style=\"text-align: right;\">\n",
       "      <th></th>\n",
       "      <th>PassengerId</th>\n",
       "      <th>HomePlanet</th>\n",
       "      <th>CryoSleep</th>\n",
       "      <th>Destination</th>\n",
       "      <th>VIP</th>\n",
       "      <th>RoomService</th>\n",
       "      <th>FoodCourt</th>\n",
       "      <th>ShoppingMall</th>\n",
       "      <th>Spa</th>\n",
       "      <th>VRDeck</th>\n",
       "      <th>Transported</th>\n",
       "      <th>CabinDeck</th>\n",
       "      <th>CabinSide</th>\n",
       "      <th>CabinRegion</th>\n",
       "      <th>PeopleInCabinNumber</th>\n",
       "      <th>PeopleInCabinDeck</th>\n",
       "      <th>FamilySize</th>\n",
       "      <th>GroupSize</th>\n",
       "      <th>AgeCategory</th>\n",
       "    </tr>\n",
       "  </thead>\n",
       "  <tbody>\n",
       "    <tr>\n",
       "      <th>0</th>\n",
       "      <td>0001_01</td>\n",
       "      <td>Europa</td>\n",
       "      <td>False</td>\n",
       "      <td>TRAPPIST-1e</td>\n",
       "      <td>False</td>\n",
       "      <td>0.0</td>\n",
       "      <td>0.0</td>\n",
       "      <td>0.0</td>\n",
       "      <td>0.0</td>\n",
       "      <td>0.0</td>\n",
       "      <td>0</td>\n",
       "      <td>B</td>\n",
       "      <td>P</td>\n",
       "      <td>A</td>\n",
       "      <td>18.0</td>\n",
       "      <td>779.0</td>\n",
       "      <td>1.0</td>\n",
       "      <td>1</td>\n",
       "      <td>Adult</td>\n",
       "    </tr>\n",
       "    <tr>\n",
       "      <th>1</th>\n",
       "      <td>0002_01</td>\n",
       "      <td>Earth</td>\n",
       "      <td>False</td>\n",
       "      <td>TRAPPIST-1e</td>\n",
       "      <td>False</td>\n",
       "      <td>109.0</td>\n",
       "      <td>9.0</td>\n",
       "      <td>25.0</td>\n",
       "      <td>549.0</td>\n",
       "      <td>44.0</td>\n",
       "      <td>1</td>\n",
       "      <td>Other</td>\n",
       "      <td>S</td>\n",
       "      <td>A</td>\n",
       "      <td>18.0</td>\n",
       "      <td>2794.0</td>\n",
       "      <td>4.0</td>\n",
       "      <td>1</td>\n",
       "      <td>PreAdult</td>\n",
       "    </tr>\n",
       "    <tr>\n",
       "      <th>2</th>\n",
       "      <td>0003_01</td>\n",
       "      <td>Europa</td>\n",
       "      <td>False</td>\n",
       "      <td>TRAPPIST-1e</td>\n",
       "      <td>True</td>\n",
       "      <td>43.0</td>\n",
       "      <td>3576.0</td>\n",
       "      <td>0.0</td>\n",
       "      <td>6715.0</td>\n",
       "      <td>49.0</td>\n",
       "      <td>0</td>\n",
       "      <td>Other</td>\n",
       "      <td>S</td>\n",
       "      <td>A</td>\n",
       "      <td>18.0</td>\n",
       "      <td>256.0</td>\n",
       "      <td>6.0</td>\n",
       "      <td>2</td>\n",
       "      <td>Elder</td>\n",
       "    </tr>\n",
       "    <tr>\n",
       "      <th>3</th>\n",
       "      <td>0003_02</td>\n",
       "      <td>Europa</td>\n",
       "      <td>False</td>\n",
       "      <td>TRAPPIST-1e</td>\n",
       "      <td>False</td>\n",
       "      <td>0.0</td>\n",
       "      <td>1283.0</td>\n",
       "      <td>371.0</td>\n",
       "      <td>3329.0</td>\n",
       "      <td>193.0</td>\n",
       "      <td>0</td>\n",
       "      <td>Other</td>\n",
       "      <td>S</td>\n",
       "      <td>A</td>\n",
       "      <td>18.0</td>\n",
       "      <td>256.0</td>\n",
       "      <td>6.0</td>\n",
       "      <td>2</td>\n",
       "      <td>Adult</td>\n",
       "    </tr>\n",
       "    <tr>\n",
       "      <th>4</th>\n",
       "      <td>0004_01</td>\n",
       "      <td>Earth</td>\n",
       "      <td>False</td>\n",
       "      <td>TRAPPIST-1e</td>\n",
       "      <td>False</td>\n",
       "      <td>303.0</td>\n",
       "      <td>70.0</td>\n",
       "      <td>151.0</td>\n",
       "      <td>565.0</td>\n",
       "      <td>2.0</td>\n",
       "      <td>1</td>\n",
       "      <td>Other</td>\n",
       "      <td>S</td>\n",
       "      <td>A</td>\n",
       "      <td>15.0</td>\n",
       "      <td>2794.0</td>\n",
       "      <td>6.0</td>\n",
       "      <td>1</td>\n",
       "      <td>Teenager</td>\n",
       "    </tr>\n",
       "  </tbody>\n",
       "</table>\n",
       "</div>"
      ],
      "text/plain": [
       "\n",
       "  PassengerId HomePlanet CryoSleep  Destination    VIP  RoomService  \\\n",
       "\u001b[1;36m0\u001b[0m     0001_01     Europa     \u001b[3;91mFalse\u001b[0m  TRAPPIST-1e  \u001b[3;91mFalse\u001b[0m          \u001b[1;36m0.0\u001b[0m   \n",
       "\u001b[1;36m1\u001b[0m     0002_01      Earth     \u001b[3;91mFalse\u001b[0m  TRAPPIST-1e  \u001b[3;91mFalse\u001b[0m        \u001b[1;36m109.0\u001b[0m   \n",
       "\u001b[1;36m2\u001b[0m     0003_01     Europa     \u001b[3;91mFalse\u001b[0m  TRAPPIST-1e   \u001b[3;92mTrue\u001b[0m         \u001b[1;36m43.0\u001b[0m   \n",
       "\u001b[1;36m3\u001b[0m     0003_02     Europa     \u001b[3;91mFalse\u001b[0m  TRAPPIST-1e  \u001b[3;91mFalse\u001b[0m          \u001b[1;36m0.0\u001b[0m   \n",
       "\u001b[1;36m4\u001b[0m     0004_01      Earth     \u001b[3;91mFalse\u001b[0m  TRAPPIST-1e  \u001b[3;91mFalse\u001b[0m        \u001b[1;36m303.0\u001b[0m   \n",
       "\n",
       "   FoodCourt  ShoppingMall     Spa  VRDeck  Transported CabinDeck CabinSide  \\\n",
       "\u001b[1;36m0\u001b[0m        \u001b[1;36m0.0\u001b[0m           \u001b[1;36m0.0\u001b[0m     \u001b[1;36m0.0\u001b[0m     \u001b[1;36m0.0\u001b[0m            \u001b[1;36m0\u001b[0m         B         P   \n",
       "\u001b[1;36m1\u001b[0m        \u001b[1;36m9.0\u001b[0m          \u001b[1;36m25.0\u001b[0m   \u001b[1;36m549.0\u001b[0m    \u001b[1;36m44.0\u001b[0m            \u001b[1;36m1\u001b[0m     Other         S   \n",
       "\u001b[1;36m2\u001b[0m     \u001b[1;36m3576.0\u001b[0m           \u001b[1;36m0.0\u001b[0m  \u001b[1;36m6715.0\u001b[0m    \u001b[1;36m49.0\u001b[0m            \u001b[1;36m0\u001b[0m     Other         S   \n",
       "\u001b[1;36m3\u001b[0m     \u001b[1;36m1283.0\u001b[0m         \u001b[1;36m371.0\u001b[0m  \u001b[1;36m3329.0\u001b[0m   \u001b[1;36m193.0\u001b[0m            \u001b[1;36m0\u001b[0m     Other         S   \n",
       "\u001b[1;36m4\u001b[0m       \u001b[1;36m70.0\u001b[0m         \u001b[1;36m151.0\u001b[0m   \u001b[1;36m565.0\u001b[0m     \u001b[1;36m2.0\u001b[0m            \u001b[1;36m1\u001b[0m     Other         S   \n",
       "\n",
       "  CabinRegion  PeopleInCabinNumber  PeopleInCabinDeck  FamilySize  GroupSize  \\\n",
       "\u001b[1;36m0\u001b[0m           A                 \u001b[1;36m18.0\u001b[0m              \u001b[1;36m779.0\u001b[0m         \u001b[1;36m1.0\u001b[0m          \u001b[1;36m1\u001b[0m   \n",
       "\u001b[1;36m1\u001b[0m           A                 \u001b[1;36m18.0\u001b[0m             \u001b[1;36m2794.0\u001b[0m         \u001b[1;36m4.0\u001b[0m          \u001b[1;36m1\u001b[0m   \n",
       "\u001b[1;36m2\u001b[0m           A                 \u001b[1;36m18.0\u001b[0m              \u001b[1;36m256.0\u001b[0m         \u001b[1;36m6.0\u001b[0m          \u001b[1;36m2\u001b[0m   \n",
       "\u001b[1;36m3\u001b[0m           A                 \u001b[1;36m18.0\u001b[0m              \u001b[1;36m256.0\u001b[0m         \u001b[1;36m6.0\u001b[0m          \u001b[1;36m2\u001b[0m   \n",
       "\u001b[1;36m4\u001b[0m           A                 \u001b[1;36m15.0\u001b[0m             \u001b[1;36m2794.0\u001b[0m         \u001b[1;36m6.0\u001b[0m          \u001b[1;36m1\u001b[0m   \n",
       "\n",
       "  AgeCategory  \n",
       "\u001b[1;36m0\u001b[0m       Adult  \n",
       "\u001b[1;36m1\u001b[0m    PreAdult  \n",
       "\u001b[1;36m2\u001b[0m       Elder  \n",
       "\u001b[1;36m3\u001b[0m       Adult  \n",
       "\u001b[1;36m4\u001b[0m    Teenager  "
      ]
     },
     "execution_count": 8,
     "metadata": {},
     "output_type": "execute_result"
    }
   ],
   "source": [
    "target_col = parameters[\"col_maps\"][\"target_col\"]\n",
    "modeling_data[target_col] = np.where(modeling_data[target_col], 1, 0)\n",
    "modeling_data.head()"
   ]
  },
  {
   "cell_type": "code",
   "execution_count": 9,
   "metadata": {},
   "outputs": [
    {
     "data": {
      "text/html": [
       "<pre style=\"white-space:pre;overflow-x:auto;line-height:normal;font-family:Menlo,'DejaVu Sans Mono',consolas,'Courier New',monospace\"></pre>\n"
      ],
      "text/plain": []
     },
     "metadata": {},
     "output_type": "display_data"
    },
    {
     "data": {
      "text/plain": [
       "\n",
       "PassengerId              object\n",
       "HomePlanet               object\n",
       "CryoSleep                object\n",
       "Destination              object\n",
       "VIP                      object\n",
       "RoomService             float64\n",
       "FoodCourt               float64\n",
       "ShoppingMall            float64\n",
       "Spa                     float64\n",
       "VRDeck                  float64\n",
       "Transported               int64\n",
       "CabinDeck                object\n",
       "CabinSide                object\n",
       "CabinRegion              object\n",
       "PeopleInCabinNumber     float64\n",
       "PeopleInCabinDeck       float64\n",
       "FamilySize              float64\n",
       "GroupSize                 int64\n",
       "AgeCategory            category\n",
       "dtype: object"
      ]
     },
     "execution_count": 9,
     "metadata": {},
     "output_type": "execute_result"
    }
   ],
   "source": [
    "modeling_data.dtypes"
   ]
  },
  {
   "cell_type": "code",
   "execution_count": null,
   "metadata": {},
   "outputs": [],
   "source": []
  }
 ],
 "metadata": {
  "kernelspec": {
   "display_name": "anomaly-detection-pipeline-kedro",
   "language": "python",
   "name": "python3"
  },
  "language_info": {
   "codemirror_mode": {
    "name": "ipython",
    "version": 3
   },
   "file_extension": ".py",
   "mimetype": "text/x-python",
   "name": "python",
   "nbconvert_exporter": "python",
   "pygments_lexer": "ipython3",
   "version": "3.11.8"
  }
 },
 "nbformat": 4,
 "nbformat_minor": 2
}
